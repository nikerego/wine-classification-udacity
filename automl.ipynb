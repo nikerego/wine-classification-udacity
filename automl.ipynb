{
  "cells": [
    {
      "cell_type": "markdown",
      "source": [
        "# Automated ML\n",
        "\n",
        "TODO: Import Dependencies. In the cell below, import all the dependencies that you will need to complete the project."
      ],
      "metadata": {}
    },
    {
      "cell_type": "code",
      "source": [
        "from azureml.core.environment import Environment\n",
        "from azureml.core.conda_dependencies import CondaDependencies\n",
        "from azureml.core.experiment import Experiment\n",
        "from azureml.core.workspace import Workspace\n",
        "from azureml.core.dataset import Dataset\n",
        "from azureml.data.dataset_factory import TabularDatasetFactory\n",
        "from azureml.core.compute import AmlCompute\n",
        "from azureml.core.compute import ComputeTarget\n",
        "from azureml.core.compute_target import ComputeTargetException\n",
        "from azureml.core.model import Model\n",
        "from sklearn.model_selection import train_test_split\n",
        "from azureml.widgets import RunDetails\n",
        "from azureml.train.automl import AutoMLConfig\n",
        "from azureml.core.webservice import LocalWebservice\n",
        "from azureml.core.webservice import Webservice, AciWebservice\n",
        "from azureml.core.model import InferenceConfig\n",
        "from azureml.automl.core.shared import constants\n",
        "from sklearn.metrics import confusion_matrix\n",
        "from sklearn.utils import resample\n",
        "import numpy as np\n",
        "import pandas as pd\n",
        "import requests\n",
        "import joblib\n",
        "import json\n",
        "import logging"
      ],
      "outputs": [],
      "execution_count": 1,
      "metadata": {
        "gather": {
          "logged": 1675008447085
        },
        "jupyter": {
          "outputs_hidden": false,
          "source_hidden": false
        },
        "nteract": {
          "transient": {
            "deleting": false
          }
        }
      }
    },
    {
      "attachments": {},
      "cell_type": "markdown",
      "source": [
        "## Dataset\n",
        "\n",
        "\n",
        "### Overview\n",
        "TODO: In this markdown cell, give an overview of the dataset you are using. Also mention the task you will be performing.\n",
        "\n",
        "## Dataset\n",
        "\n",
        "The Wine Quality Datasets have been taken from the UCI Machine Learning Repository. The data is broken up into two individual datasets, one for red wines and the other for white wines. The red wine dataset contains 1599 examples while the white wine dataset has 4898 examples. Both datserts have the same 12 attributes as follows:\n",
        "\n",
        "Attribute information:\n",
        "\n",
        "For more information, read [Cortez et al., 2009].\n",
        "\n",
        "Input variables (based on physicochemical tests):\n",
        "1 - fixed acidity\n",
        "2 - volatile acidity\n",
        "3 - citric acid\n",
        "4 - residual sugar\n",
        "5 - chlorides\n",
        "6 - free sulfur dioxide\n",
        "7 - total sulfur dioxide\n",
        "8 - density\n",
        "9 - pH\n",
        "10 - sulphates\n",
        "11 - alcohol\n",
        "Output variable (based on sensory data): \n",
        "12 - quality (score between 0 and 10)\n",
        "\n",
        "There are no missing values. I will be combining these datasets into one dataset and using AutoML to predict if a wine is red or white.\n",
        "\n",
        "This dataset is public and available for research. I have included the citation below as requested:\n",
        "\n",
        "P. Cortez, A. Cerdeira, F. Almeida, T. Matos and J. Reis. \n",
        "Modeling wine preferences by data mining from physicochemical properties.\n",
        "In Decision Support Systems, Elsevier, 47(4):547-553. ISSN: 0167-9236.\n",
        "\n",
        "Available at: [@Elsevier] http://dx.doi.org/10.1016/j.dss.2009.05.016\n",
        "            [Pre-press (pdf)] http://www3.dsi.uminho.pt/pcortez/winequality09.pdf\n",
        "            [bib] http://www3.dsi.uminho.pt/pcortez/dss09.bib\n",
        "            \n",
        "\n",
        "\n",
        "TODO: Get data. In the cell below, write code to access the data you will be using in this project. Remember that the dataset needs to be external."
      ],
      "metadata": {}
    },
    {
      "cell_type": "code",
      "source": [
        "ws = Workspace.from_config()\n",
        "\n",
        "# choose a name for experiment\n",
        "experiment_name = 'Wine_Evaluation_AutoMl'\n",
        "\n",
        "experiment=Experiment(ws, experiment_name)"
      ],
      "outputs": [],
      "execution_count": 2,
      "metadata": {
        "gather": {
          "logged": 1675008447820
        },
        "jupyter": {
          "outputs_hidden": false,
          "source_hidden": false
        },
        "nteract": {
          "transient": {
            "deleting": false
          }
        }
      }
    },
    {
      "cell_type": "code",
      "source": [
        "cluster_name = \"automl-capstone-cluster\"\n",
        "\n",
        "# TODO: Create compute cluster\n",
        "# Use vm_size = \"Standard_D2_V2\" in your provisioning configuration.\n",
        "# max_nodes should be no greater than 4.\n",
        "\n",
        "vm_size = \"Standard_D2_V2\"\n",
        "max_nodes = 4\n",
        "\n",
        "try:\n",
        "    compute_target = ComputeTarget(workspace=ws, name=cluster_name)\n",
        "    print('Found existing cluster, using it.')\n",
        "except:\n",
        "    compute_config = AmlCompute.provisioning_configuration(vm_size=vm_size, max_nodes=max_nodes)\n",
        "    compute_target = ComputeTarget.create(ws, cluster_name, compute_config)\n",
        "\n",
        "compute_target.wait_for_completion(show_output=True)"
      ],
      "outputs": [
        {
          "output_type": "stream",
          "name": "stdout",
          "text": "InProgress..\nSucceededProvisioning operation finished, operation \"Succeeded\"\nSucceeded\nAmlCompute wait for completion finished\n\nMinimum number of nodes requested have been provisioned\n"
        }
      ],
      "execution_count": 3,
      "metadata": {
        "gather": {
          "logged": 1675008461407
        }
      }
    },
    {
      "cell_type": "code",
      "source": [
        "dataset_name = 'winequality'\n",
        "\n",
        "# Check Registry\n",
        "if dataset_name in ws.datasets.keys(): \n",
        "    dataset = ws.datasets[dataset_name] \n",
        "\n",
        "    print(f'Located {dataset_name} in Registry.')\n",
        "\n",
        "# Read from UCI ML Repository\n",
        "else:\n",
        "# Read data\n",
        "    red = pd.read_csv('https://archive.ics.uci.edu/ml/machine-learning-databases/wine-quality/winequality-red.csv', sep=';')\n",
        "    white = pd.read_csv('https://archive.ics.uci.edu/ml/machine-learning-databases/wine-quality/winequality-white.csv', sep=';')\n",
        "\n",
        "# Set target classes (0: White Wine, 1: Red Wine)\n",
        "    white['y'] = 0\n",
        "    red['y'] = 1\n",
        "\n",
        "# Combine into a single DataFrame & shuffle\n",
        "    wine_df = pd.concat([red, white], axis=0)\n",
        "    wine_df = wine_df.sample(frac=1)\n",
        "\n",
        "# Upsample to balance dataset (Number of Instances: red wine - 1599; white wine - 4898)\n",
        "    def upsample_classes(data, target):\n",
        "        \n",
        "        lst = list(data[target].unique())\n",
        "        \n",
        "        classes = []\n",
        "        for c in lst:\n",
        "            classes.append(data[data[target]==c])\n",
        "        \n",
        "        length = 0\n",
        "        class_lab = None\n",
        "        for c in classes:\n",
        "            if len(c)>length:\n",
        "                length=len(c)\n",
        "                class_lab = c\n",
        "        class_lab = class_lab[target].unique()[0]\n",
        "        \n",
        "        regroup = pd.concat(classes)\n",
        "        maj_class = regroup[regroup[target]==class_lab]\n",
        "\n",
        "        lst.remove(class_lab)\n",
        "        \n",
        "        new_classes=[]\n",
        "        for i in lst:\n",
        "            new_classes.append(resample(data[data[target]==i],replace=True, n_samples=len(maj_class)))\n",
        "\n",
        "        minority_classes = pd.concat(new_classes)\n",
        "        upsample = pd.concat([regroup[regroup[target]==class_lab],minority_classes])\n",
        "\n",
        "        return upsample\n",
        "\n",
        "    wine_df_balanced = upsample_classes(wine_df, 'y')\n",
        "\n",
        "\n",
        "# Register the dataset\n",
        "    datastore = ws.get_default_datastore()\n",
        "\n",
        "    dataset = Dataset.Tabular.register_pandas_dataframe(\n",
        "        dataframe=wine_df_balanced, \n",
        "        name=dataset_name, \n",
        "        description='A dataset of white and red wines',\n",
        "        target=datastore\n",
        "    )\n",
        "\n",
        "    print(f'Read {dataset_name} from UCI ML Repository and registered dataset.')\n"
      ],
      "outputs": [
        {
          "output_type": "stream",
          "name": "stdout",
          "text": "Located winequality in Registry.\n"
        }
      ],
      "execution_count": 4,
      "metadata": {
        "gather": {
          "logged": 1675008461688
        }
      }
    },
    {
      "cell_type": "code",
      "source": [
        "# Check out the DataFrame\n",
        "df = dataset.to_pandas_dataframe()\n",
        "df.head()"
      ],
      "outputs": [
        {
          "output_type": "execute_result",
          "execution_count": 5,
          "data": {
            "text/plain": "   fixed acidity  volatile acidity  citric acid  residual sugar  chlorides  \\\n0            6.7             0.460         0.21             4.0      0.034   \n1            7.0             0.150         0.38             2.2      0.047   \n2            7.0             0.160         0.25            14.3      0.044   \n3            6.2             0.320         0.32             2.2      0.036   \n4            5.5             0.375         0.38             1.7      0.036   \n\n   free sulfur dioxide  total sulfur dioxide  density    pH  sulphates  \\\n0                 12.0                  88.0  0.99016  3.26       0.54   \n1                 33.0                  96.0  0.99280  3.13       0.39   \n2                 27.0                 149.0  0.99800  2.91       0.46   \n3                 15.0                  70.0  0.98990  3.16       0.48   \n4                 17.0                  98.0  0.99142  3.29       0.39   \n\n   alcohol  quality  y  \n0     13.0        6  0  \n1     10.4        8  0  \n2      9.2        6  0  \n3     12.7        6  0  \n4     10.5        6  0  ",
            "text/html": "<div>\n<style scoped>\n    .dataframe tbody tr th:only-of-type {\n        vertical-align: middle;\n    }\n\n    .dataframe tbody tr th {\n        vertical-align: top;\n    }\n\n    .dataframe thead th {\n        text-align: right;\n    }\n</style>\n<table border=\"1\" class=\"dataframe\">\n  <thead>\n    <tr style=\"text-align: right;\">\n      <th></th>\n      <th>fixed acidity</th>\n      <th>volatile acidity</th>\n      <th>citric acid</th>\n      <th>residual sugar</th>\n      <th>chlorides</th>\n      <th>free sulfur dioxide</th>\n      <th>total sulfur dioxide</th>\n      <th>density</th>\n      <th>pH</th>\n      <th>sulphates</th>\n      <th>alcohol</th>\n      <th>quality</th>\n      <th>y</th>\n    </tr>\n  </thead>\n  <tbody>\n    <tr>\n      <th>0</th>\n      <td>6.7</td>\n      <td>0.460</td>\n      <td>0.21</td>\n      <td>4.0</td>\n      <td>0.034</td>\n      <td>12.0</td>\n      <td>88.0</td>\n      <td>0.99016</td>\n      <td>3.26</td>\n      <td>0.54</td>\n      <td>13.0</td>\n      <td>6</td>\n      <td>0</td>\n    </tr>\n    <tr>\n      <th>1</th>\n      <td>7.0</td>\n      <td>0.150</td>\n      <td>0.38</td>\n      <td>2.2</td>\n      <td>0.047</td>\n      <td>33.0</td>\n      <td>96.0</td>\n      <td>0.99280</td>\n      <td>3.13</td>\n      <td>0.39</td>\n      <td>10.4</td>\n      <td>8</td>\n      <td>0</td>\n    </tr>\n    <tr>\n      <th>2</th>\n      <td>7.0</td>\n      <td>0.160</td>\n      <td>0.25</td>\n      <td>14.3</td>\n      <td>0.044</td>\n      <td>27.0</td>\n      <td>149.0</td>\n      <td>0.99800</td>\n      <td>2.91</td>\n      <td>0.46</td>\n      <td>9.2</td>\n      <td>6</td>\n      <td>0</td>\n    </tr>\n    <tr>\n      <th>3</th>\n      <td>6.2</td>\n      <td>0.320</td>\n      <td>0.32</td>\n      <td>2.2</td>\n      <td>0.036</td>\n      <td>15.0</td>\n      <td>70.0</td>\n      <td>0.98990</td>\n      <td>3.16</td>\n      <td>0.48</td>\n      <td>12.7</td>\n      <td>6</td>\n      <td>0</td>\n    </tr>\n    <tr>\n      <th>4</th>\n      <td>5.5</td>\n      <td>0.375</td>\n      <td>0.38</td>\n      <td>1.7</td>\n      <td>0.036</td>\n      <td>17.0</td>\n      <td>98.0</td>\n      <td>0.99142</td>\n      <td>3.29</td>\n      <td>0.39</td>\n      <td>10.5</td>\n      <td>6</td>\n      <td>0</td>\n    </tr>\n  </tbody>\n</table>\n</div>"
          },
          "metadata": {}
        }
      ],
      "execution_count": 5,
      "metadata": {
        "gather": {
          "logged": 1675008464350
        }
      }
    },
    {
      "cell_type": "code",
      "source": [
        "\n",
        "# Split the DataFrame into training and testing datasets\n",
        "train, test = train_test_split(df, random_state=666, shuffle=True, test_size=0.2)\n",
        "datastore = ws.get_default_datastore()\n",
        "train = Dataset.Tabular.register_pandas_dataframe(\n",
        "        dataframe=train, \n",
        "        name='wine_train', \n",
        "        description='A dataset of white and red wines',\n",
        "        target=datastore\n",
        "    )\n"
      ],
      "outputs": [
        {
          "output_type": "stream",
          "name": "stdout",
          "text": "Validating arguments.\nArguments validated.\nSuccessfully obtained datastore reference and path.\nUploading file to managed-dataset/7dbdd01a-f164-4c35-924e-9c5ac43a0ecb/\nSuccessfully uploaded file to datastore.\nCreating and registering a new dataset.\nSuccessfully created and registered a new dataset.\n"
        }
      ],
      "execution_count": 6,
      "metadata": {
        "gather": {
          "logged": 1675008470224
        }
      }
    },
    {
      "attachments": {},
      "cell_type": "markdown",
      "source": [
        "## AutoML Configuration\n",
        "\n",
        "TODO: Explain why you chose the automl settings and cofiguration you used below.\n",
        "\n",
        "I set the following AutoML parameters: \n",
        "\n",
        "* *experiment_timeout_minutes*: 30\n",
        "* *enable_early_stopping*: True    \n",
        "* *primary_metric*: 'accuracy'\n",
        "* *n_cross_validations*:5\n",
        "* *iterations*: 50\n",
        "* *max_concurrent_iterations*: 4\n",
        "\n",
        "The *experiment_timeout_minutes* (30 mins), *iterations* (50) and *enable_early_stopping* (True) are set to reduce time \n",
        "taken for model training. Enabling early stopping allows the training process to conclude if there is no considerable \n",
        "improvement to the *primary_metric* (accuracy). *n_cross_validations* is set to 5 to ensure Bias vs Variance tradeoff\n",
        "and prevent overfitting.The *max_concurrent_iterations* (4) is set as we are running on compute Standard_D2_V2 which has \n",
        "4 nodes. This allows 4 jobs to be run in parallel on each node.\n"
      ],
      "metadata": {}
    },
    {
      "cell_type": "code",
      "source": [
        "# TODO: Put your automl settings here\n",
        "automl_settings = {\n",
        "    \"experiment_timeout_minutes\":30,\n",
        "    \"enable_early_stopping\":True,    \n",
        "    \"primary_metric\":'accuracy',\n",
        "    \"n_cross_validations\":5,\n",
        "    \"iterations\":50,\n",
        "    \"max_concurrent_iterations\":4,\n",
        "    \"verbosity\": logging.INFO\n",
        "}\n",
        "\n",
        "# TODO: Put your automl config here\n",
        "automl_config = AutoMLConfig(\n",
        "    compute_target=compute_target, \n",
        "    task='classification', \n",
        "    training_data=train,\n",
        "    label_column_name='y',\n",
        "    **automl_settings)"
      ],
      "outputs": [],
      "execution_count": 7,
      "metadata": {
        "gather": {
          "logged": 1675008475415
        },
        "jupyter": {
          "outputs_hidden": false,
          "source_hidden": false
        },
        "nteract": {
          "transient": {
            "deleting": false
          }
        }
      }
    },
    {
      "cell_type": "code",
      "source": [
        "# TODO: Submit your experiment\n",
        "remote_run = experiment.submit(automl_config, show_output=True)"
      ],
      "outputs": [
        {
          "output_type": "stream",
          "name": "stdout",
          "text": "Submitting remote run.\nNo run_configuration provided, running on automl-capstone-cluster with default configuration\nRunning on remote compute: automl-capstone-cluster\n"
        },
        {
          "output_type": "display_data",
          "data": {
            "text/plain": "<IPython.core.display.HTML object>",
            "text/html": "<table style=\"width:100%\"><tr><th>Experiment</th><th>Id</th><th>Type</th><th>Status</th><th>Details Page</th><th>Docs Page</th></tr><tr><td>Wine_Evaluation_AutoMl</td><td>AutoML_d88eb995-19ad-4dd2-819f-9793469cb552</td><td>automl</td><td>NotStarted</td><td><a href=\"https://ml.azure.com/runs/AutoML_d88eb995-19ad-4dd2-819f-9793469cb552?wsid=/subscriptions/61c5c3f0-6dc7-4ed9-a7f3-c704b20e3b30/resourcegroups/aml-quickstarts-223829/workspaces/quick-starts-ws-223829&amp;tid=660b3398-b80e-49d2-bc5b-ac1dc93b5254\" target=\"_blank\" rel=\"noopener\">Link to Azure Machine Learning studio</a></td><td><a href=\"https://docs.microsoft.com/en-us/python/api/overview/azure/ml/intro?view=azure-ml-py\" target=\"_blank\" rel=\"noopener\">Link to Documentation</a></td></tr></table>"
          },
          "metadata": {}
        },
        {
          "output_type": "stream",
          "name": "stdout",
          "text": "\nCurrent status: FeaturesGeneration. Generating features for the dataset.\nCurrent status: DatasetFeaturization. Beginning to fit featurizers and featurize the dataset.\nCurrent status: DatasetCrossValidationSplit. Generating individually featurized CV splits.\nCurrent status: ModelSelection. Beginning model selection.\n\n********************************************************************************************\nDATA GUARDRAILS: \n\nTYPE:         Class balancing detection\nSTATUS:       PASSED\nDESCRIPTION:  Your inputs were analyzed, and all classes are balanced in your training data.\n              Learn more about imbalanced data: https://aka.ms/AutomatedMLImbalancedData\n\n********************************************************************************************\n\nTYPE:         Missing feature values imputation\nSTATUS:       PASSED\nDESCRIPTION:  No feature missing values were detected in the training data.\n              Learn more about missing value imputation: https://aka.ms/AutomatedMLFeaturization\n\n********************************************************************************************\n\nTYPE:         High cardinality feature detection\nSTATUS:       PASSED\nDESCRIPTION:  Your inputs were analyzed, and no high cardinality features were detected.\n              Learn more about high cardinality feature handling: https://aka.ms/AutomatedMLFeaturization\n\n********************************************************************************************\n\n********************************************************************************************\nITER: The iteration being evaluated.\nPIPELINE: A summary description of the pipeline being evaluated.\nDURATION: Time taken for the current iteration.\nMETRIC: The result of computing score on the fitted pipeline.\nBEST: The best observed score thus far.\n********************************************************************************************\n\n ITER   PIPELINE                                       DURATION            METRIC      BEST\n    0   MaxAbsScaler LightGBM                          0:00:10             0.9974    0.9974\n    1   MaxAbsScaler XGBoostClassifier                 0:00:16             0.9980    0.9980\n    2   MaxAbsScaler ExtremeRandomTrees                0:00:16             0.9784    0.9980\n    3   SparseNormalizer XGBoostClassifier             0:00:14             0.9832    0.9980\n    4   MaxAbsScaler LightGBM                          0:00:13             0.9913    0.9980\n    5   MaxAbsScaler LightGBM                          0:00:14             0.9883    0.9980\n    6   StandardScalerWrapper XGBoostClassifier        0:00:14             0.9966    0.9980\n    7   MaxAbsScaler LogisticRegression                0:00:15             0.9838    0.9980\n    8   StandardScalerWrapper ExtremeRandomTrees       0:00:13             0.9361    0.9980\n    9   StandardScalerWrapper XGBoostClassifier        0:00:08             0.9940    0.9980\n   10   SparseNormalizer LightGBM                      0:00:15             0.9713    0.9980\n   11   StandardScalerWrapper XGBoostClassifier        0:00:14             0.9935    0.9980\n   15   SparseNormalizer RandomForest                  0:00:22             0.9706    0.9980\n   12   MaxAbsScaler LogisticRegression                0:00:16             0.9834    0.9980\n   16   StandardScalerWrapper LogisticRegression       0:00:15             0.9742    0.9980\n   13   MaxAbsScaler SGD                               0:00:14             0.9811    0.9980\n   17   StandardScalerWrapper RandomForest             0:00:10             0.9839    0.9980\n   18   StandardScalerWrapper XGBoostClassifier        0:00:15             0.9959    0.9980\n   14   StandardScalerWrapper XGBoostClassifier        0:00:14             0.9899    0.9980\n   19   TruncatedSVDWrapper RandomForest               0:00:22             0.9196    0.9980\n   21   StandardScalerWrapper XGBoostClassifier        0:00:30             0.9972    0.9980\n   22   SparseNormalizer XGBoostClassifier             0:00:33             0.9877    0.9980\n   23   StandardScalerWrapper LogisticRegression       0:00:33             0.9824    0.9980\n   24   StandardScalerWrapper RandomForest             0:00:32             0.9717    0.9980\n   25   StandardScalerWrapper XGBoostClassifier        0:00:32             0.9832    0.9980\n   26   StandardScalerWrapper LightGBM                 0:00:31             0.9782    0.9980\n   27   StandardScalerWrapper RandomForest             0:00:38             0.9666    0.9980\n   20   TruncatedSVDWrapper RandomForest               0:02:13             0.9634    0.9980\n   28   MaxAbsScaler LightGBM                          0:00:31             0.9703    0.9980\n   29   StandardScalerWrapper XGBoostClassifier        0:00:30             0.9769    0.9980\n   30   TruncatedSVDWrapper XGBoostClassifier          0:00:29             0.4904    0.9980\n   31   StandardScalerWrapper XGBoostClassifier        0:00:34             0.9981    0.9981\n   32   StandardScalerWrapper XGBoostClassifier        0:00:32             0.9948    0.9981\n   33   StandardScalerWrapper LightGBM                 0:00:33             0.9941    0.9981\n   34   StandardScalerWrapper LightGBM                 0:00:29             0.9848    0.9981\n   35   SparseNormalizer XGBoostClassifier             0:00:34             0.9843    0.9981\n   36   StandardScalerWrapper LightGBM                 0:00:33             0.9724    0.9981\n   37   SparseNormalizer LightGBM                      0:00:31             0.9844    0.9981\n   38   MaxAbsScaler ExtremeRandomTrees                0:00:39             0.9846    0.9981\n   39   StandardScalerWrapper RandomForest             0:00:34             0.9700    0.9981\n   40   StandardScalerWrapper XGBoostClassifier        0:00:31             0.9886    0.9981\n   41   SparseNormalizer RandomForest                  0:00:33             0.9567    0.9981\n   42   SparseNormalizer XGBoostClassifier             0:00:33             0.9946    0.9981\n   43   StandardScalerWrapper XGBoostClassifier        0:00:32             0.9860    0.9981\n   44   MaxAbsScaler LogisticRegression                0:00:31             0.9837    0.9981\n   45   StandardScalerWrapper XGBoostClassifier        0:00:33             0.9977    0.9981\n   46   MaxAbsScaler LogisticRegression                0:00:20             0.9835    0.9981\n   47                                                  0:00:00                nan    0.9981\n   48    VotingEnsemble                                0:00:58             0.9981    0.9981\n   49    StackEnsemble                                 0:01:07             0.9978    0.9981\n"
        }
      ],
      "execution_count": 8,
      "metadata": {
        "gather": {
          "logged": 1675009593883
        },
        "jupyter": {
          "outputs_hidden": false,
          "source_hidden": false
        },
        "nteract": {
          "transient": {
            "deleting": false
          }
        }
      }
    },
    {
      "cell_type": "markdown",
      "source": [
        "## Run Details\n",
        "\n",
        "OPTIONAL: Write about the different models trained and their performance. Why do you think some models did better than others?\n",
        "\n",
        "TODO: In the cell below, use the `RunDetails` widget to show the different experiments."
      ],
      "metadata": {}
    },
    {
      "cell_type": "code",
      "source": [
        "RunDetails(remote_run).show()"
      ],
      "outputs": [
        {
          "output_type": "display_data",
          "data": {
            "text/plain": "_AutoMLWidget(widget_settings={'childWidgetDisplay': 'popup', 'send_telemetry': False, 'log_level': 'INFO', 's…",
            "application/vnd.jupyter.widget-view+json": {
              "version_major": 2,
              "version_minor": 0,
              "model_id": "b57077e2fa044f4599f9ab2c225561f2"
            }
          },
          "metadata": {}
        },
        {
          "output_type": "display_data",
          "data": {
            "application/aml.mini.widget.v1": "{\"status\": \"Completed\", \"workbench_run_details_uri\": \"https://ml.azure.com/runs/AutoML_d88eb995-19ad-4dd2-819f-9793469cb552?wsid=/subscriptions/61c5c3f0-6dc7-4ed9-a7f3-c704b20e3b30/resourcegroups/aml-quickstarts-223829/workspaces/quick-starts-ws-223829&tid=660b3398-b80e-49d2-bc5b-ac1dc93b5254\", \"run_id\": \"AutoML_d88eb995-19ad-4dd2-819f-9793469cb552\", \"run_properties\": {\"run_id\": \"AutoML_d88eb995-19ad-4dd2-819f-9793469cb552\", \"created_utc\": \"2023-01-29T16:08:04.876097Z\", \"properties\": {\"num_iterations\": \"50\", \"training_type\": \"TrainFull\", \"acquisition_function\": \"EI\", \"primary_metric\": \"accuracy\", \"train_split\": \"0\", \"acquisition_parameter\": \"0\", \"num_cross_validation\": \"5\", \"target\": \"automl-capstone-cluster\", \"AMLSettingsJsonString\": \"{\\\"path\\\":null,\\\"name\\\":\\\"Wine_Evaluation_AutoMl\\\",\\\"subscription_id\\\":\\\"61c5c3f0-6dc7-4ed9-a7f3-c704b20e3b30\\\",\\\"resource_group\\\":\\\"aml-quickstarts-223829\\\",\\\"workspace_name\\\":\\\"quick-starts-ws-223829\\\",\\\"region\\\":\\\"southcentralus\\\",\\\"compute_target\\\":\\\"automl-capstone-cluster\\\",\\\"spark_service\\\":null,\\\"azure_service\\\":\\\"remote\\\",\\\"many_models\\\":false,\\\"pipeline_fetch_max_batch_size\\\":1,\\\"enable_batch_run\\\":true,\\\"enable_parallel_run\\\":false,\\\"num_procs\\\":null,\\\"enable_run_restructure\\\":false,\\\"start_auxiliary_runs_before_parent_complete\\\":false,\\\"enable_code_generation\\\":true,\\\"iterations\\\":50,\\\"primary_metric\\\":\\\"accuracy\\\",\\\"task_type\\\":\\\"classification\\\",\\\"positive_label\\\":null,\\\"data_script\\\":null,\\\"test_size\\\":0.0,\\\"test_include_predictions_only\\\":false,\\\"validation_size\\\":0.0,\\\"n_cross_validations\\\":5,\\\"y_min\\\":null,\\\"y_max\\\":null,\\\"num_classes\\\":null,\\\"featurization\\\":\\\"auto\\\",\\\"_ignore_package_version_incompatibilities\\\":false,\\\"is_timeseries\\\":false,\\\"max_cores_per_iteration\\\":1,\\\"max_concurrent_iterations\\\":4,\\\"iteration_timeout_minutes\\\":null,\\\"mem_in_mb\\\":null,\\\"enforce_time_on_windows\\\":false,\\\"experiment_timeout_minutes\\\":30,\\\"experiment_exit_score\\\":null,\\\"partition_column_names\\\":null,\\\"whitelist_models\\\":null,\\\"blacklist_algos\\\":[\\\"TensorFlowLinearClassifier\\\",\\\"TensorFlowDNN\\\"],\\\"supported_models\\\":[\\\"BernoulliNaiveBayes\\\",\\\"MultinomialNaiveBayes\\\",\\\"TabnetClassifier\\\",\\\"GradientBoosting\\\",\\\"LogisticRegression\\\",\\\"ExtremeRandomTrees\\\",\\\"TensorFlowDNN\\\",\\\"XGBoostClassifier\\\",\\\"KNN\\\",\\\"LinearSVM\\\",\\\"SVM\\\",\\\"RandomForest\\\",\\\"LightGBM\\\",\\\"AveragedPerceptronClassifier\\\",\\\"TensorFlowLinearClassifier\\\",\\\"SGD\\\",\\\"DecisionTree\\\"],\\\"private_models\\\":[],\\\"auto_blacklist\\\":true,\\\"blacklist_samples_reached\\\":false,\\\"exclude_nan_labels\\\":true,\\\"verbosity\\\":20,\\\"_debug_log\\\":\\\"azureml_automl.log\\\",\\\"show_warnings\\\":false,\\\"model_explainability\\\":true,\\\"service_url\\\":null,\\\"sdk_url\\\":null,\\\"sdk_packages\\\":null,\\\"enable_onnx_compatible_models\\\":false,\\\"enable_split_onnx_featurizer_estimator_models\\\":false,\\\"vm_type\\\":\\\"STANDARD_D2_V2\\\",\\\"telemetry_verbosity\\\":20,\\\"send_telemetry\\\":true,\\\"enable_dnn\\\":false,\\\"scenario\\\":\\\"AutoML\\\",\\\"environment_label\\\":null,\\\"save_mlflow\\\":false,\\\"enable_categorical_indicators\\\":false,\\\"force_text_dnn\\\":false,\\\"enable_feature_sweeping\\\":true,\\\"enable_early_stopping\\\":true,\\\"early_stopping_n_iters\\\":10,\\\"arguments\\\":null,\\\"dataset_id\\\":\\\"a315c703-22da-418f-8a68-0974d7fc5c00\\\",\\\"hyperdrive_config\\\":null,\\\"validation_dataset_id\\\":null,\\\"run_source\\\":null,\\\"metrics\\\":null,\\\"enable_metric_confidence\\\":false,\\\"enable_ensembling\\\":true,\\\"enable_stack_ensembling\\\":true,\\\"ensemble_iterations\\\":15,\\\"enable_tf\\\":false,\\\"enable_subsampling\\\":false,\\\"subsample_seed\\\":null,\\\"enable_nimbusml\\\":false,\\\"enable_streaming\\\":false,\\\"force_streaming\\\":false,\\\"track_child_runs\\\":true,\\\"n_best_runs\\\":1,\\\"allowed_private_models\\\":[],\\\"label_column_name\\\":\\\"y\\\",\\\"weight_column_name\\\":null,\\\"cv_split_column_names\\\":null,\\\"enable_local_managed\\\":false,\\\"_local_managed_run_id\\\":null,\\\"cost_mode\\\":1,\\\"lag_length\\\":0,\\\"metric_operation\\\":\\\"maximize\\\",\\\"preprocess\\\":true}\", \"DataPrepJsonString\": \"{\\\\\\\"training_data\\\\\\\": {\\\\\\\"datasetId\\\\\\\": \\\\\\\"a315c703-22da-418f-8a68-0974d7fc5c00\\\\\\\"}, \\\\\\\"datasets\\\\\\\": 0}\", \"EnableSubsampling\": \"False\", \"runTemplate\": \"AutoML\", \"azureml.runsource\": \"automl\", \"display_task_type\": \"classification\", \"dependencies_versions\": \"{\\\"azureml-widgets\\\": \\\"1.47.0\\\", \\\"azureml-training-tabular\\\": \\\"1.47.0\\\", \\\"azureml-train\\\": \\\"1.47.0\\\", \\\"azureml-train-restclients-hyperdrive\\\": \\\"1.47.0\\\", \\\"azureml-train-core\\\": \\\"1.47.0\\\", \\\"azureml-train-automl\\\": \\\"1.47.0\\\", \\\"azureml-train-automl-runtime\\\": \\\"1.47.0\\\", \\\"azureml-train-automl-client\\\": \\\"1.47.0\\\", \\\"azureml-tensorboard\\\": \\\"1.47.0\\\", \\\"azureml-telemetry\\\": \\\"1.47.0\\\", \\\"azureml-sdk\\\": \\\"1.47.0\\\", \\\"azureml-samples\\\": \\\"0+unknown\\\", \\\"azureml-responsibleai\\\": \\\"1.47.0\\\", \\\"azureml-pipeline\\\": \\\"1.47.0\\\", \\\"azureml-pipeline-steps\\\": \\\"1.47.0\\\", \\\"azureml-pipeline-core\\\": \\\"1.47.0\\\", \\\"azureml-opendatasets\\\": \\\"1.47.0\\\", \\\"azureml-mlflow\\\": \\\"1.47.0\\\", \\\"azureml-interpret\\\": \\\"1.47.0\\\", \\\"azureml-inference-server-http\\\": \\\"0.7.6\\\", \\\"azureml-explain-model\\\": \\\"1.47.0\\\", \\\"azureml-defaults\\\": \\\"1.47.0\\\", \\\"azureml-dataset-runtime\\\": \\\"1.47.0\\\", \\\"azureml-dataprep\\\": \\\"4.5.7\\\", \\\"azureml-dataprep-rslex\\\": \\\"2.11.4\\\", \\\"azureml-dataprep-native\\\": \\\"38.0.0\\\", \\\"azureml-datadrift\\\": \\\"1.47.0\\\", \\\"azureml-core\\\": \\\"1.47.0\\\", \\\"azureml-contrib-services\\\": \\\"1.47.0\\\", \\\"azureml-contrib-server\\\": \\\"1.47.0\\\", \\\"azureml-contrib-reinforcementlearning\\\": \\\"1.47.0\\\", \\\"azureml-contrib-pipeline-steps\\\": \\\"1.47.0\\\", \\\"azureml-contrib-notebook\\\": \\\"1.47.0\\\", \\\"azureml-contrib-fairness\\\": \\\"1.47.0\\\", \\\"azureml-contrib-dataset\\\": \\\"1.47.0\\\", \\\"azureml-contrib-automl-pipeline-steps\\\": \\\"1.47.0\\\", \\\"azureml-cli-common\\\": \\\"1.47.0\\\", \\\"azureml-automl-runtime\\\": \\\"1.47.0\\\", \\\"azureml-automl-dnn-nlp\\\": \\\"1.47.0\\\", \\\"azureml-automl-core\\\": \\\"1.47.0\\\", \\\"azureml-accel-models\\\": \\\"1.47.0\\\"}\", \"_aml_system_scenario_identification\": \"Remote.Parent\", \"ClientType\": \"SDK\", \"environment_cpu_name\": \"AzureML-AutoML\", \"environment_cpu_label\": \"prod\", \"environment_gpu_name\": \"AzureML-AutoML-GPU\", \"environment_gpu_label\": \"prod\", \"root_attribution\": \"automl\", \"attribution\": \"AutoML\", \"Orchestrator\": \"AutoML\", \"CancelUri\": \"https://southcentralus.api.azureml.ms/jasmine/v1.0/subscriptions/61c5c3f0-6dc7-4ed9-a7f3-c704b20e3b30/resourceGroups/aml-quickstarts-223829/providers/Microsoft.MachineLearningServices/workspaces/quick-starts-ws-223829/experimentids/6492cc79-e721-427d-8290-33e6f045225f/cancel/AutoML_d88eb995-19ad-4dd2-819f-9793469cb552\", \"ClientSdkVersion\": \"1.48.0.post1\", \"snapshotId\": \"00000000-0000-0000-0000-000000000000\", \"SetupRunId\": \"AutoML_d88eb995-19ad-4dd2-819f-9793469cb552_setup\", \"SetupRunContainerId\": \"dcid.AutoML_d88eb995-19ad-4dd2-819f-9793469cb552_setup\", \"FeaturizationRunJsonPath\": \"featurizer_container.json\", \"FeaturizationRunId\": \"AutoML_d88eb995-19ad-4dd2-819f-9793469cb552_featurize\", \"ProblemInfoJsonString\": \"{\\\"dataset_num_categorical\\\": 0, \\\"is_sparse\\\": true, \\\"subsampling\\\": false, \\\"has_extra_col\\\": true, \\\"dataset_classes\\\": 2, \\\"dataset_features\\\": 18, \\\"dataset_samples\\\": 7836, \\\"single_frequency_class_detected\\\": false}\", \"ModelExplainRunId\": \"AutoML_d88eb995-19ad-4dd2-819f-9793469cb552_ModelExplain\"}, \"tags\": {\"model_explain_run\": \"best_run\", \"_aml_system_automl_run_workspace_id\": \"cc7e179d-0797-4a3a-8aeb-9f2b96157b8e\", \"_aml_system_azureml.automlComponent\": \"AutoML\", \"pipeline_id\": \"\", \"score\": \"\", \"predicted_cost\": \"\", \"fit_time\": \"\", \"training_percent\": \"\", \"iteration\": \"\", \"run_preprocessor\": \"\", \"run_algorithm\": \"\", \"dynamic_allowlisting_iterations\": \"<25>;<30>;<35>;<40>;<45>;\", \"_aml_system_azureml.automl_early_exit_message\": \"No scores improved over last 10 iterations, so experiment stopped early. This early stopping behavior can be disabled by setting enable_early_stopping = False in AutoMLConfig for notebook/python SDK runs.\", \"automl_best_child_run_id\": \"AutoML_d88eb995-19ad-4dd2-819f-9793469cb552_31\", \"model_explain_best_run_child_id\": \"AutoML_d88eb995-19ad-4dd2-819f-9793469cb552_31\"}, \"end_time_utc\": \"2023-01-29T16:26:16.275015Z\", \"status\": \"Completed\", \"log_files\": {}, \"log_groups\": [], \"run_duration\": \"0:18:11\", \"run_number\": \"1675008484\", \"run_queued_details\": {\"status\": \"Completed\", \"details\": null}}, \"child_runs\": [{\"run_id\": \"AutoML_d88eb995-19ad-4dd2-819f-9793469cb552_setup\", \"run_number\": 1675008496, \"metric\": null, \"status\": \"Completed\", \"run_type\": \"azureml.scriptrun\", \"training_percent\": null, \"start_time\": \"2023-01-29T16:10:46.906925Z\", \"end_time\": \"2023-01-29T16:12:30.961929Z\", \"created_time\": \"2023-01-29T16:08:16.803754Z\", \"created_time_dt\": \"2023-01-29T16:08:16.803754Z\", \"duration\": \"0:04:14\", \"iteration\": null, \"goal\": null, \"run_name\": \"Completed\", \"run_properties\": null}, {\"run_id\": \"AutoML_d88eb995-19ad-4dd2-819f-9793469cb552_featurize\", \"run_number\": 1675008751, \"metric\": null, \"status\": \"Completed\", \"run_type\": \"automl.featurization\", \"training_percent\": null, \"start_time\": \"2023-01-29T16:12:31.571897Z\", \"end_time\": \"2023-01-29T16:14:11.441853Z\", \"created_time\": \"2023-01-29T16:12:31.172958Z\", \"created_time_dt\": \"2023-01-29T16:12:31.172958Z\", \"duration\": \"0:01:40\", \"iteration\": null, \"goal\": null, \"run_name\": \"Completed\", \"run_properties\": null}, {\"run_id\": \"AutoML_d88eb995-19ad-4dd2-819f-9793469cb552_0\", \"run_number\": 1675008853, \"metric\": null, \"status\": \"Completed\", \"run_type\": null, \"training_percent\": \"100\", \"start_time\": \"2023-01-29T16:14:32.18391Z\", \"end_time\": \"2023-01-29T16:14:42.652904Z\", \"created_time\": \"2023-01-29T16:14:13.382982Z\", \"created_time_dt\": \"2023-01-29T16:14:13.382982Z\", \"duration\": \"0:00:29\", \"iteration\": \"0\", \"goal\": \"accuracy_max\", \"run_name\": \"MaxAbsScaler, LightGBM\", \"run_properties\": \"copy=True\", \"primary_metric\": 0.9974476, \"best_metric\": 0.9974476}, {\"run_id\": \"AutoML_d88eb995-19ad-4dd2-819f-9793469cb552_2\", \"run_number\": 1675008854, \"metric\": null, \"status\": \"Completed\", \"run_type\": null, \"training_percent\": \"100\", \"start_time\": \"2023-01-29T16:15:00.581903Z\", \"end_time\": \"2023-01-29T16:15:16.899536Z\", \"created_time\": \"2023-01-29T16:14:14.426378Z\", \"created_time_dt\": \"2023-01-29T16:14:14.426378Z\", \"duration\": \"0:01:02\", \"iteration\": \"2\", \"goal\": \"accuracy_max\", \"run_name\": \"MaxAbsScaler, ExtremeRandomTrees\", \"run_properties\": \"copy=True\", \"primary_metric\": 0.97843264, \"best_metric\": 0.9974476}, {\"run_id\": \"AutoML_d88eb995-19ad-4dd2-819f-9793469cb552_worker_0\", \"run_number\": 1675008855, \"metric\": null, \"status\": \"Completed\", \"run_type\": \"azureml.scriptrun\", \"training_percent\": null, \"start_time\": \"2023-01-29T16:14:22.525988Z\", \"end_time\": \"2023-01-29T16:15:52.651195Z\", \"created_time\": \"2023-01-29T16:14:15.772848Z\", \"created_time_dt\": \"2023-01-29T16:14:15.772848Z\", \"duration\": \"0:01:36\", \"iteration\": null, \"goal\": null, \"run_name\": \"Completed\", \"run_properties\": null}, {\"run_id\": \"AutoML_d88eb995-19ad-4dd2-819f-9793469cb552_5\", \"run_number\": 1675008856, \"metric\": null, \"status\": \"Completed\", \"run_type\": null, \"training_percent\": \"100\", \"start_time\": \"2023-01-29T16:16:05.581106Z\", \"end_time\": \"2023-01-29T16:16:19.6695Z\", \"created_time\": \"2023-01-29T16:14:16.121576Z\", \"created_time_dt\": \"2023-01-29T16:14:16.121576Z\", \"duration\": \"0:02:03\", \"iteration\": \"5\", \"goal\": \"accuracy_max\", \"run_name\": \"MaxAbsScaler, LightGBM\", \"run_properties\": \"copy=True\", \"primary_metric\": 0.98825928, \"best_metric\": 0.9974476}, {\"run_id\": \"AutoML_d88eb995-19ad-4dd2-819f-9793469cb552_7\", \"run_number\": 1675008857, \"metric\": null, \"status\": \"Completed\", \"run_type\": null, \"training_percent\": \"100\", \"start_time\": \"2023-01-29T16:16:34.961131Z\", \"end_time\": \"2023-01-29T16:16:49.573365Z\", \"created_time\": \"2023-01-29T16:14:17.185079Z\", \"created_time_dt\": \"2023-01-29T16:14:17.185079Z\", \"duration\": \"0:02:32\", \"iteration\": \"7\", \"goal\": \"accuracy_max\", \"run_name\": \"MaxAbsScaler, LogisticRegression\", \"run_properties\": \"copy=True\", \"primary_metric\": 0.9837928, \"best_metric\": 0.9974476}, {\"run_id\": \"AutoML_d88eb995-19ad-4dd2-819f-9793469cb552_worker_1\", \"run_number\": 1675008858, \"metric\": null, \"status\": \"Completed\", \"run_type\": \"azureml.scriptrun\", \"training_percent\": null, \"start_time\": \"2023-01-29T16:15:56.247963Z\", \"end_time\": \"2023-01-29T16:17:20.116822Z\", \"created_time\": \"2023-01-29T16:14:18.723816Z\", \"created_time_dt\": \"2023-01-29T16:14:18.723816Z\", \"duration\": \"0:03:01\", \"iteration\": null, \"goal\": null, \"run_name\": \"Completed\", \"run_properties\": null}, {\"run_id\": \"AutoML_d88eb995-19ad-4dd2-819f-9793469cb552_10\", \"run_number\": 1675008859, \"metric\": null, \"status\": \"Completed\", \"run_type\": null, \"training_percent\": \"100\", \"start_time\": \"2023-01-29T16:18:34.776942Z\", \"end_time\": \"2023-01-29T16:18:49.383119Z\", \"created_time\": \"2023-01-29T16:14:19.011639Z\", \"created_time_dt\": \"2023-01-29T16:14:19.011639Z\", \"duration\": \"0:04:30\", \"iteration\": \"10\", \"goal\": \"accuracy_max\", \"run_name\": \"SparseNormalizer, LightGBM\", \"run_properties\": \"copy=True, norm='l1'\", \"primary_metric\": 0.97128653, \"best_metric\": 0.9974476}, {\"run_id\": \"AutoML_d88eb995-19ad-4dd2-819f-9793469cb552_12\", \"run_number\": 1675008860, \"metric\": null, \"status\": \"Completed\", \"run_type\": null, \"training_percent\": \"100\", \"start_time\": \"2023-01-29T16:19:04.362905Z\", \"end_time\": \"2023-01-29T16:19:20.100176Z\", \"created_time\": \"2023-01-29T16:14:20.057545Z\", \"created_time_dt\": \"2023-01-29T16:14:20.057545Z\", \"duration\": \"0:05:00\", \"iteration\": \"12\", \"goal\": \"accuracy_max\", \"run_name\": \"MaxAbsScaler, LogisticRegression\", \"run_properties\": \"copy=True\", \"primary_metric\": 0.9834099, \"best_metric\": 0.9974476}, {\"run_id\": \"AutoML_d88eb995-19ad-4dd2-819f-9793469cb552_worker_2\", \"run_number\": 1675008861, \"metric\": null, \"status\": \"Completed\", \"run_type\": \"azureml.scriptrun\", \"training_percent\": null, \"start_time\": \"2023-01-29T16:17:05.726382Z\", \"end_time\": \"2023-01-29T16:19:58.554529Z\", \"created_time\": \"2023-01-29T16:14:21.521329Z\", \"created_time_dt\": \"2023-01-29T16:14:21.521329Z\", \"duration\": \"0:05:37\", \"iteration\": null, \"goal\": null, \"run_name\": \"Completed\", \"run_properties\": null}, {\"run_id\": \"AutoML_d88eb995-19ad-4dd2-819f-9793469cb552_16\", \"run_number\": 1675008862, \"metric\": null, \"status\": \"Completed\", \"run_type\": null, \"training_percent\": \"100\", \"start_time\": \"2023-01-29T16:18:56.310995Z\", \"end_time\": \"2023-01-29T16:19:11.010954Z\", \"created_time\": \"2023-01-29T16:14:22.419911Z\", \"created_time_dt\": \"2023-01-29T16:14:22.419911Z\", \"duration\": \"0:04:48\", \"iteration\": \"16\", \"goal\": \"accuracy_max\", \"run_name\": \"StandardScalerWrapper, LogisticRegression\", \"run_properties\": \"copy=True, with_mean=False, with_std=False\", \"primary_metric\": 0.97422134, \"best_metric\": 0.9974476}, {\"run_id\": \"AutoML_d88eb995-19ad-4dd2-819f-9793469cb552_18\", \"run_number\": 1675008863, \"metric\": null, \"status\": \"Completed\", \"run_type\": null, \"training_percent\": \"100\", \"start_time\": \"2023-01-29T16:19:22.809003Z\", \"end_time\": \"2023-01-29T16:19:38.120716Z\", \"created_time\": \"2023-01-29T16:14:23.433007Z\", \"created_time_dt\": \"2023-01-29T16:14:23.433007Z\", \"duration\": \"0:05:14\", \"iteration\": \"18\", \"goal\": \"accuracy_max\", \"run_name\": \"StandardScalerWrapper, XGBoostClassifier\", \"run_properties\": \"copy=True, with_mean=False, with_std=False\", \"primary_metric\": 0.99591633, \"best_metric\": 0.9974476}, {\"run_id\": \"AutoML_d88eb995-19ad-4dd2-819f-9793469cb552_worker_3\", \"run_number\": 1675008864, \"metric\": null, \"status\": \"Completed\", \"run_type\": \"azureml.scriptrun\", \"training_percent\": null, \"start_time\": \"2023-01-29T16:17:06.964711Z\", \"end_time\": \"2023-01-29T16:20:09.58842Z\", \"created_time\": \"2023-01-29T16:14:24.379866Z\", \"created_time_dt\": \"2023-01-29T16:14:24.379866Z\", \"duration\": \"0:05:45\", \"iteration\": null, \"goal\": null, \"run_name\": \"Completed\", \"run_properties\": null}, {\"run_id\": \"AutoML_d88eb995-19ad-4dd2-819f-9793469cb552_21\", \"run_number\": 1675009177, \"metric\": null, \"status\": \"Completed\", \"run_type\": \"azureml.scriptrun\", \"training_percent\": \"100\", \"start_time\": \"2023-01-29T16:19:46.874745Z\", \"end_time\": \"2023-01-29T16:20:16.941553Z\", \"created_time\": \"2023-01-29T16:19:37.616157Z\", \"created_time_dt\": \"2023-01-29T16:19:37.616157Z\", \"duration\": \"0:00:39\", \"iteration\": \"21\", \"goal\": \"accuracy_max\", \"run_name\": \"StandardScalerWrapper, XGBoostClassifier\", \"run_properties\": \"copy=True, with_mean=False, with_std=False\", \"primary_metric\": 0.99719258, \"best_metric\": 0.9974476}, {\"run_id\": \"AutoML_d88eb995-19ad-4dd2-819f-9793469cb552_22\", \"run_number\": 1675009203, \"metric\": null, \"status\": \"Completed\", \"run_type\": \"azureml.scriptrun\", \"training_percent\": \"100\", \"start_time\": \"2023-01-29T16:20:09.436285Z\", \"end_time\": \"2023-01-29T16:20:42.763549Z\", \"created_time\": \"2023-01-29T16:20:03.210085Z\", \"created_time_dt\": \"2023-01-29T16:20:03.210085Z\", \"duration\": \"0:00:39\", \"iteration\": \"22\", \"goal\": \"accuracy_max\", \"run_name\": \"SparseNormalizer, XGBoostClassifier\", \"run_properties\": \"copy=True, norm='l1'\", \"primary_metric\": 0.98774924, \"best_metric\": 0.9974476}, {\"run_id\": \"AutoML_d88eb995-19ad-4dd2-819f-9793469cb552_23\", \"run_number\": 1675009219, \"metric\": null, \"status\": \"Completed\", \"run_type\": \"azureml.scriptrun\", \"training_percent\": \"100\", \"start_time\": \"2023-01-29T16:20:26.118156Z\", \"end_time\": \"2023-01-29T16:20:59.108656Z\", \"created_time\": \"2023-01-29T16:20:19.54399Z\", \"created_time_dt\": \"2023-01-29T16:20:19.54399Z\", \"duration\": \"0:00:39\", \"iteration\": \"23\", \"goal\": \"accuracy_max\", \"run_name\": \"StandardScalerWrapper, LogisticRegression\", \"run_properties\": \"copy=True, with_mean=False, with_std=True\", \"primary_metric\": 0.98238884, \"best_metric\": 0.9974476}, {\"run_id\": \"AutoML_d88eb995-19ad-4dd2-819f-9793469cb552_25\", \"run_number\": 1675009245, \"metric\": null, \"status\": \"Completed\", \"run_type\": \"azureml.scriptrun\", \"training_percent\": \"100\", \"start_time\": \"2023-01-29T16:20:51.742217Z\", \"end_time\": \"2023-01-29T16:21:23.368487Z\", \"created_time\": \"2023-01-29T16:20:45.44437Z\", \"created_time_dt\": \"2023-01-29T16:20:45.44437Z\", \"duration\": \"0:00:37\", \"iteration\": \"25\", \"goal\": \"accuracy_max\", \"run_name\": \"StandardScalerWrapper, XGBoostClassifier\", \"run_properties\": \"copy=True, with_mean=False, with_std=False\", \"primary_metric\": 0.98315431, \"best_metric\": 0.9974476}, {\"run_id\": \"AutoML_d88eb995-19ad-4dd2-819f-9793469cb552_26\", \"run_number\": 1675009259, \"metric\": null, \"status\": \"Completed\", \"run_type\": \"azureml.scriptrun\", \"training_percent\": \"100\", \"start_time\": \"2023-01-29T16:21:04.63039Z\", \"end_time\": \"2023-01-29T16:21:35.963606Z\", \"created_time\": \"2023-01-29T16:20:59.692875Z\", \"created_time_dt\": \"2023-01-29T16:20:59.692875Z\", \"duration\": \"0:00:36\", \"iteration\": \"26\", \"goal\": \"accuracy_max\", \"run_name\": \"StandardScalerWrapper, LightGBM\", \"run_properties\": \"copy=True, with_mean=False, with_std=False\", \"primary_metric\": 0.97817754, \"best_metric\": 0.9974476}, {\"run_id\": \"AutoML_d88eb995-19ad-4dd2-819f-9793469cb552_27\", \"run_number\": 1675009261, \"metric\": null, \"status\": \"Completed\", \"run_type\": \"azureml.scriptrun\", \"training_percent\": \"100\", \"start_time\": \"2023-01-29T16:21:07.583292Z\", \"end_time\": \"2023-01-29T16:21:45.786439Z\", \"created_time\": \"2023-01-29T16:21:01.989994Z\", \"created_time_dt\": \"2023-01-29T16:21:01.989994Z\", \"duration\": \"0:00:43\", \"iteration\": \"27\", \"goal\": \"accuracy_max\", \"run_name\": \"StandardScalerWrapper, RandomForest\", \"run_properties\": \"copy=True, with_mean=False, with_std=True\", \"primary_metric\": 0.96656519, \"best_metric\": 0.9974476}, {\"run_id\": \"AutoML_d88eb995-19ad-4dd2-819f-9793469cb552_28\", \"run_number\": 1675009285, \"metric\": null, \"status\": \"Completed\", \"run_type\": \"azureml.scriptrun\", \"training_percent\": \"100\", \"start_time\": \"2023-01-29T16:21:30.053662Z\", \"end_time\": \"2023-01-29T16:22:01.434845Z\", \"created_time\": \"2023-01-29T16:21:25.005537Z\", \"created_time_dt\": \"2023-01-29T16:21:25.005537Z\", \"duration\": \"0:00:36\", \"iteration\": \"28\", \"goal\": \"accuracy_max\", \"run_name\": \"MaxAbsScaler, LightGBM\", \"run_properties\": \"copy=True\", \"primary_metric\": 0.97026531, \"best_metric\": 0.9974476}, {\"run_id\": \"AutoML_d88eb995-19ad-4dd2-819f-9793469cb552_29\", \"run_number\": 1675009297, \"metric\": null, \"status\": \"Completed\", \"run_type\": \"azureml.scriptrun\", \"training_percent\": \"100\", \"start_time\": \"2023-01-29T16:21:45.183539Z\", \"end_time\": \"2023-01-29T16:22:15.298069Z\", \"created_time\": \"2023-01-29T16:21:37.598999Z\", \"created_time_dt\": \"2023-01-29T16:21:37.598999Z\", \"duration\": \"0:00:37\", \"iteration\": \"29\", \"goal\": \"accuracy_max\", \"run_name\": \"StandardScalerWrapper, XGBoostClassifier\", \"run_properties\": \"copy=True, with_mean=False, with_std=False\", \"primary_metric\": 0.97690154, \"best_metric\": 0.9974476}, {\"run_id\": \"AutoML_d88eb995-19ad-4dd2-819f-9793469cb552_30\", \"run_number\": 1675009308, \"metric\": null, \"status\": \"Completed\", \"run_type\": \"azureml.scriptrun\", \"training_percent\": \"100\", \"start_time\": \"2023-01-29T16:21:54.486308Z\", \"end_time\": \"2023-01-29T16:22:23.261487Z\", \"created_time\": \"2023-01-29T16:21:48.620431Z\", \"created_time_dt\": \"2023-01-29T16:21:48.620431Z\", \"duration\": \"0:00:34\", \"iteration\": \"30\", \"goal\": \"accuracy_max\", \"run_name\": \"TruncatedSVDWrapper, XGBoostClassifier\", \"run_properties\": \"n_components=0.2573684210526316, random_state=None\", \"primary_metric\": 0.49042952, \"best_metric\": 0.9974476}, {\"run_id\": \"AutoML_d88eb995-19ad-4dd2-819f-9793469cb552_31\", \"run_number\": 1675009323, \"metric\": null, \"status\": \"Completed\", \"run_type\": \"azureml.scriptrun\", \"training_percent\": \"100\", \"start_time\": \"2023-01-29T16:22:09.7132Z\", \"end_time\": \"2023-01-29T16:22:44.079988Z\", \"created_time\": \"2023-01-29T16:22:03.017136Z\", \"created_time_dt\": \"2023-01-29T16:22:03.017136Z\", \"duration\": \"0:00:41\", \"iteration\": \"31\", \"goal\": \"accuracy_max\", \"run_name\": \"StandardScalerWrapper, XGBoostClassifier\", \"run_properties\": \"copy=True, with_mean=False, with_std=False\", \"primary_metric\": 0.99808576, \"best_metric\": 0.99808576}, {\"run_id\": \"AutoML_d88eb995-19ad-4dd2-819f-9793469cb552_32\", \"run_number\": 1675009325, \"metric\": null, \"status\": \"Completed\", \"run_type\": \"azureml.scriptrun\", \"training_percent\": \"100\", \"start_time\": \"2023-01-29T16:22:10.693115Z\", \"end_time\": \"2023-01-29T16:22:42.248181Z\", \"created_time\": \"2023-01-29T16:22:05.742207Z\", \"created_time_dt\": \"2023-01-29T16:22:05.742207Z\", \"duration\": \"0:00:36\", \"iteration\": \"32\", \"goal\": \"accuracy_max\", \"run_name\": \"StandardScalerWrapper, XGBoostClassifier\", \"run_properties\": \"copy=True, with_mean=False, with_std=False\", \"primary_metric\": 0.99476813, \"best_metric\": 0.99808576}, {\"run_id\": \"AutoML_d88eb995-19ad-4dd2-819f-9793469cb552_33\", \"run_number\": 1675009336, \"metric\": null, \"status\": \"Completed\", \"run_type\": \"azureml.scriptrun\", \"training_percent\": \"100\", \"start_time\": \"2023-01-29T16:22:22.838713Z\", \"end_time\": \"2023-01-29T16:22:55.339506Z\", \"created_time\": \"2023-01-29T16:22:16.791731Z\", \"created_time_dt\": \"2023-01-29T16:22:16.791731Z\", \"duration\": \"0:00:38\", \"iteration\": \"33\", \"goal\": \"accuracy_max\", \"run_name\": \"StandardScalerWrapper, LightGBM\", \"run_properties\": \"copy=True, with_mean=False, with_std=False\", \"primary_metric\": 0.99412964, \"best_metric\": 0.99808576}, {\"run_id\": \"AutoML_d88eb995-19ad-4dd2-819f-9793469cb552_34\", \"run_number\": 1675009344, \"metric\": null, \"status\": \"Completed\", \"run_type\": \"azureml.scriptrun\", \"training_percent\": \"100\", \"start_time\": \"2023-01-29T16:22:30.656935Z\", \"end_time\": \"2023-01-29T16:22:59.40702Z\", \"created_time\": \"2023-01-29T16:22:24.943296Z\", \"created_time_dt\": \"2023-01-29T16:22:24.943296Z\", \"duration\": \"0:00:34\", \"iteration\": \"34\", \"goal\": \"accuracy_max\", \"run_name\": \"StandardScalerWrapper, LightGBM\", \"run_properties\": \"copy=True, with_mean=False, with_std=True\", \"primary_metric\": 0.98481353, \"best_metric\": 0.99808576}, {\"run_id\": \"AutoML_d88eb995-19ad-4dd2-819f-9793469cb552_35\", \"run_number\": 1675009365, \"metric\": null, \"status\": \"Completed\", \"run_type\": \"azureml.scriptrun\", \"training_percent\": \"100\", \"start_time\": \"2023-01-29T16:22:51.009408Z\", \"end_time\": \"2023-01-29T16:23:24.985798Z\", \"created_time\": \"2023-01-29T16:22:45.047396Z\", \"created_time_dt\": \"2023-01-29T16:22:45.047396Z\", \"duration\": \"0:00:39\", \"iteration\": \"35\", \"goal\": \"accuracy_max\", \"run_name\": \"SparseNormalizer, XGBoostClassifier\", \"run_properties\": \"copy=True, norm='l2'\", \"primary_metric\": 0.98430349, \"best_metric\": 0.99808576}, {\"run_id\": \"AutoML_d88eb995-19ad-4dd2-819f-9793469cb552_36\", \"run_number\": 1675009367, \"metric\": null, \"status\": \"Completed\", \"run_type\": \"azureml.scriptrun\", \"training_percent\": \"100\", \"start_time\": \"2023-01-29T16:22:55.156901Z\", \"end_time\": \"2023-01-29T16:23:27.716032Z\", \"created_time\": \"2023-01-29T16:22:47.463922Z\", \"created_time_dt\": \"2023-01-29T16:22:47.463922Z\", \"duration\": \"0:00:40\", \"iteration\": \"36\", \"goal\": \"accuracy_max\", \"run_name\": \"StandardScalerWrapper, LightGBM\", \"run_properties\": \"copy=True, with_mean=False, with_std=False\", \"primary_metric\": 0.9724349, \"best_metric\": 0.99808576}, {\"run_id\": \"AutoML_d88eb995-19ad-4dd2-819f-9793469cb552_37\", \"run_number\": 1675009377, \"metric\": null, \"status\": \"Completed\", \"run_type\": \"azureml.scriptrun\", \"training_percent\": \"100\", \"start_time\": \"2023-01-29T16:23:03.136555Z\", \"end_time\": \"2023-01-29T16:23:34.410466Z\", \"created_time\": \"2023-01-29T16:22:57.050881Z\", \"created_time_dt\": \"2023-01-29T16:22:57.050881Z\", \"duration\": \"0:00:37\", \"iteration\": \"37\", \"goal\": \"accuracy_max\", \"run_name\": \"SparseNormalizer, LightGBM\", \"run_properties\": \"copy=True, norm='l2'\", \"primary_metric\": 0.98443121, \"best_metric\": 0.99808576}, {\"run_id\": \"AutoML_d88eb995-19ad-4dd2-819f-9793469cb552_38\", \"run_number\": 1675009380, \"metric\": null, \"status\": \"Completed\", \"run_type\": \"azureml.scriptrun\", \"training_percent\": \"100\", \"start_time\": \"2023-01-29T16:23:06.08648Z\", \"end_time\": \"2023-01-29T16:23:45.269829Z\", \"created_time\": \"2023-01-29T16:23:00.924094Z\", \"created_time_dt\": \"2023-01-29T16:23:00.924094Z\", \"duration\": \"0:00:44\", \"iteration\": \"38\", \"goal\": \"accuracy_max\", \"run_name\": \"MaxAbsScaler, ExtremeRandomTrees\", \"run_properties\": \"copy=True\", \"primary_metric\": 0.98455819, \"best_metric\": 0.99808576}, {\"run_id\": \"AutoML_d88eb995-19ad-4dd2-819f-9793469cb552_39\", \"run_number\": 1675009406, \"metric\": null, \"status\": \"Completed\", \"run_type\": \"azureml.scriptrun\", \"training_percent\": \"100\", \"start_time\": \"2023-01-29T16:23:33.602551Z\", \"end_time\": \"2023-01-29T16:24:08.074519Z\", \"created_time\": \"2023-01-29T16:23:26.603049Z\", \"created_time_dt\": \"2023-01-29T16:23:26.603049Z\", \"duration\": \"0:00:41\", \"iteration\": \"39\", \"goal\": \"accuracy_max\", \"run_name\": \"StandardScalerWrapper, RandomForest\", \"run_properties\": \"copy=True, with_mean=False, with_std=True\", \"primary_metric\": 0.97001086, \"best_metric\": 0.99808576}, {\"run_id\": \"AutoML_d88eb995-19ad-4dd2-819f-9793469cb552_40\", \"run_number\": 1675009410, \"metric\": null, \"status\": \"Completed\", \"run_type\": \"azureml.scriptrun\", \"training_percent\": \"100\", \"start_time\": \"2023-01-29T16:23:37.545649Z\", \"end_time\": \"2023-01-29T16:24:08.894768Z\", \"created_time\": \"2023-01-29T16:23:30.512016Z\", \"created_time_dt\": \"2023-01-29T16:23:30.512016Z\", \"duration\": \"0:00:38\", \"iteration\": \"40\", \"goal\": \"accuracy_max\", \"run_name\": \"StandardScalerWrapper, XGBoostClassifier\", \"run_properties\": \"copy=True, with_mean=False, with_std=False\", \"primary_metric\": 0.98864202, \"best_metric\": 0.99808576}, {\"run_id\": \"AutoML_d88eb995-19ad-4dd2-819f-9793469cb552_41\", \"run_number\": 1675009416, \"metric\": null, \"status\": \"Completed\", \"run_type\": \"azureml.scriptrun\", \"training_percent\": \"100\", \"start_time\": \"2023-01-29T16:23:40.667793Z\", \"end_time\": \"2023-01-29T16:24:13.642982Z\", \"created_time\": \"2023-01-29T16:23:36.004524Z\", \"created_time_dt\": \"2023-01-29T16:23:36.004524Z\", \"duration\": \"0:00:37\", \"iteration\": \"41\", \"goal\": \"accuracy_max\", \"run_name\": \"SparseNormalizer, RandomForest\", \"run_properties\": \"copy=True, norm='l2'\", \"primary_metric\": 0.95673912, \"best_metric\": 0.99808576}, {\"run_id\": \"AutoML_d88eb995-19ad-4dd2-819f-9793469cb552_42\", \"run_number\": 1675009426, \"metric\": null, \"status\": \"Completed\", \"run_type\": \"azureml.scriptrun\", \"training_percent\": \"100\", \"start_time\": \"2023-01-29T16:23:54.457293Z\", \"end_time\": \"2023-01-29T16:24:27.927645Z\", \"created_time\": \"2023-01-29T16:23:46.799786Z\", \"created_time_dt\": \"2023-01-29T16:23:46.799786Z\", \"duration\": \"0:00:41\", \"iteration\": \"42\", \"goal\": \"accuracy_max\", \"run_name\": \"SparseNormalizer, XGBoostClassifier\", \"run_properties\": \"copy=True, norm='l1'\", \"primary_metric\": 0.99464042, \"best_metric\": 0.99808576}, {\"run_id\": \"AutoML_d88eb995-19ad-4dd2-819f-9793469cb552_43\", \"run_number\": 1675009449, \"metric\": null, \"status\": \"Completed\", \"run_type\": \"azureml.scriptrun\", \"training_percent\": \"100\", \"start_time\": \"2023-01-29T16:24:16.876173Z\", \"end_time\": \"2023-01-29T16:24:48.587909Z\", \"created_time\": \"2023-01-29T16:24:09.804474Z\", \"created_time_dt\": \"2023-01-29T16:24:09.804474Z\", \"duration\": \"0:00:38\", \"iteration\": \"43\", \"goal\": \"accuracy_max\", \"run_name\": \"StandardScalerWrapper, XGBoostClassifier\", \"run_properties\": \"copy=True, with_mean=False, with_std=False\", \"primary_metric\": 0.98596231, \"best_metric\": 0.99808576}, {\"run_id\": \"AutoML_d88eb995-19ad-4dd2-819f-9793469cb552_44\", \"run_number\": 1675009452, \"metric\": null, \"status\": \"Completed\", \"run_type\": \"azureml.scriptrun\", \"training_percent\": \"100\", \"start_time\": \"2023-01-29T16:24:19.839632Z\", \"end_time\": \"2023-01-29T16:24:50.969035Z\", \"created_time\": \"2023-01-29T16:24:12.056307Z\", \"created_time_dt\": \"2023-01-29T16:24:12.056307Z\", \"duration\": \"0:00:38\", \"iteration\": \"44\", \"goal\": \"accuracy_max\", \"run_name\": \"MaxAbsScaler, LogisticRegression\", \"run_properties\": \"copy=True\", \"primary_metric\": 0.98366517, \"best_metric\": 0.99808576}, {\"run_id\": \"AutoML_d88eb995-19ad-4dd2-819f-9793469cb552_45\", \"run_number\": 1675009456, \"metric\": null, \"status\": \"Completed\", \"run_type\": \"azureml.scriptrun\", \"training_percent\": \"100\", \"start_time\": \"2023-01-29T16:24:22.147713Z\", \"end_time\": \"2023-01-29T16:24:55.427366Z\", \"created_time\": \"2023-01-29T16:24:16.926287Z\", \"created_time_dt\": \"2023-01-29T16:24:16.926287Z\", \"duration\": \"0:00:38\", \"iteration\": \"45\", \"goal\": \"accuracy_max\", \"run_name\": \"StandardScalerWrapper, XGBoostClassifier\", \"run_properties\": \"copy=True, with_mean=False, with_std=False\", \"primary_metric\": 0.99770286, \"best_metric\": 0.99808576}, {\"run_id\": \"AutoML_d88eb995-19ad-4dd2-819f-9793469cb552_46\", \"run_number\": 1675009469, \"metric\": null, \"status\": \"Canceled\", \"run_type\": \"azureml.scriptrun\", \"training_percent\": \"100\", \"start_time\": \"2023-01-29T16:24:35.966495Z\", \"end_time\": \"2023-01-29T16:24:56.033667Z\", \"created_time\": \"2023-01-29T16:24:29.520842Z\", \"created_time_dt\": \"2023-01-29T16:24:29.520842Z\", \"duration\": \"0:00:26\", \"iteration\": \"46\", \"goal\": \"accuracy_max\", \"run_name\": \"MaxAbsScaler, LogisticRegression\", \"run_properties\": \"copy=True\", \"primary_metric\": 0.98353762, \"best_metric\": 0.99808576}, {\"run_id\": \"AutoML_d88eb995-19ad-4dd2-819f-9793469cb552_47\", \"run_number\": 1675009490, \"metric\": null, \"status\": \"Canceled\", \"run_type\": \"azureml.scriptrun\", \"training_percent\": \"100\", \"start_time\": \"2023-01-29T16:24:55.858982Z\", \"end_time\": \"2023-01-29T16:24:55.998916Z\", \"created_time\": \"2023-01-29T16:24:50.101785Z\", \"created_time_dt\": \"2023-01-29T16:24:50.101785Z\", \"duration\": \"0:00:05\", \"iteration\": \"47\", \"goal\": null, \"run_name\": \"Canceled\", \"run_properties\": null}, {\"run_id\": \"AutoML_d88eb995-19ad-4dd2-819f-9793469cb552_48\", \"run_number\": 1675009496, \"metric\": null, \"status\": \"Completed\", \"run_type\": \"azureml.scriptrun\", \"training_percent\": \"100\", \"start_time\": \"2023-01-29T16:25:05.226901Z\", \"end_time\": \"2023-01-29T16:26:03.567227Z\", \"created_time\": \"2023-01-29T16:24:56.977463Z\", \"created_time_dt\": \"2023-01-29T16:24:56.977463Z\", \"duration\": \"0:01:06\", \"iteration\": \"48\", \"goal\": \"accuracy_max\", \"run_name\": \"VotingEnsemble\", \"run_properties\": \"classification_labels=numpy.array([0, 1]\", \"primary_metric\": 0.99808576, \"best_metric\": 0.99808576}, {\"run_id\": \"AutoML_d88eb995-19ad-4dd2-819f-9793469cb552_49\", \"run_number\": 1675009497, \"metric\": null, \"status\": \"Completed\", \"run_type\": \"azureml.scriptrun\", \"training_percent\": \"100\", \"start_time\": \"2023-01-29T16:25:03.885421Z\", \"end_time\": \"2023-01-29T16:26:10.85715Z\", \"created_time\": \"2023-01-29T16:24:57.00293Z\", \"created_time_dt\": \"2023-01-29T16:24:57.00293Z\", \"duration\": \"0:01:13\", \"iteration\": \"49\", \"goal\": \"accuracy_max\", \"run_name\": \"StackEnsemble\", \"run_properties\": \"base_learners=[('31', Pipeline(memory=None, steps=[('standardscalerwrapper', StandardScalerWrapper(copy=True, with_mean=False, with_std=False\", \"primary_metric\": 0.99783049, \"best_metric\": 0.99808576}], \"children_metrics\": {\"categories\": [0], \"series\": {\"AUC_macro\": [{\"categories\": [\"0\", \"2\", \"5\", \"7\", \"10\", \"12\", \"16\", \"18\", \"21\", \"22\", \"23\", \"25\", \"26\", \"27\", \"28\", \"29\", \"30\", \"31\", \"32\", \"33\", \"34\", \"35\", \"36\", \"37\", \"38\", \"39\", \"40\", \"41\", \"42\", \"43\", \"44\", \"45\", \"46\", \"48\", \"49\"], \"mode\": \"markers\", \"name\": \"AUC_macro\", \"stepped\": false, \"type\": \"scatter\", \"data\": [0.9998959106594091, 0.9923977116486513, 0.9984088539452994, 0.9923397822757479, 0.9944099350994733, 0.9925258625187977, 0.9904192846578341, 0.9995609432904218, 0.9998955881307816, 0.9983727829035507, 0.9923853739883398, 0.9953820734719885, 0.9949795353891421, 0.9949462016919185, 0.9940953298283943, 0.9940989746240213, 0.5, 0.9998490021693204, 0.9993906441054818, 0.9996518468645196, 0.9975215160787805, 0.9956378618719771, 0.9942753700198266, 0.997089370685279, 0.9944179270604152, 0.9928928148155908, 0.9991685576909204, 0.9916733948652258, 0.9997832014948973, 0.9962844937879588, 0.9925297680858212, 0.9997913665961109, 0.9924776407628142, 0.9998376250679408, 0.9995736356531209]}, {\"categories\": [\"0\", \"2\", \"5\", \"7\", \"10\", \"12\", \"16\", \"18\", \"21\", \"22\", \"23\", \"25\", \"26\", \"27\", \"28\", \"29\", \"30\", \"31\", \"32\", \"33\", \"34\", \"35\", \"36\", \"37\", \"38\", \"39\", \"40\", \"41\", \"42\", \"43\", \"44\", \"45\", \"46\", \"48\", \"49\"], \"mode\": \"lines\", \"name\": \"AUC_macro_max\", \"stepped\": true, \"type\": \"scatter\", \"data\": [0.9998959106594091, 0.9998959106594091, 0.9998959106594091, 0.9998959106594091, 0.9998959106594091, 0.9998959106594091, 0.9998959106594091, 0.9998959106594091, 0.9998959106594091, 0.9998959106594091, 0.9998959106594091, 0.9998959106594091, 0.9998959106594091, 0.9998959106594091, 0.9998959106594091, 0.9998959106594091, 0.9998959106594091, 0.9998959106594091, 0.9998959106594091, 0.9998959106594091, 0.9998959106594091, 0.9998959106594091, 0.9998959106594091, 0.9998959106594091, 0.9998959106594091, 0.9998959106594091, 0.9998959106594091, 0.9998959106594091, 0.9998959106594091, 0.9998959106594091, 0.9998959106594091, 0.9998959106594091, 0.9998959106594091, 0.9998959106594091, 0.9998959106594091]}], \"AUC_weighted\": [{\"categories\": [\"0\", \"2\", \"5\", \"7\", \"10\", \"12\", \"16\", \"18\", \"21\", \"22\", \"23\", \"25\", \"26\", \"27\", \"28\", \"29\", \"30\", \"31\", \"32\", \"33\", \"34\", \"35\", \"36\", \"37\", \"38\", \"39\", \"40\", \"41\", \"42\", \"43\", \"44\", \"45\", \"46\", \"48\", \"49\"], \"mode\": \"markers\", \"name\": \"AUC_weighted\", \"stepped\": false, \"type\": \"scatter\", \"data\": [0.9998959106594091, 0.9923977116486513, 0.9984088539452994, 0.9923397822757482, 0.9944099350994733, 0.9925258625187977, 0.9904192846578341, 0.9995609432904218, 0.9998955881307816, 0.9983727829035507, 0.9923853739883398, 0.9953820734719887, 0.9949795353891421, 0.9949462016919185, 0.9940953298283943, 0.9940989746240211, 0.5, 0.9998490021693204, 0.9993906441054818, 0.9996518468645196, 0.9975215160787805, 0.9956378618719771, 0.9942753700198266, 0.997089370685279, 0.9944179270604152, 0.9928928148155907, 0.9991685576909205, 0.9916733948652258, 0.9997832014948974, 0.9962844937879588, 0.9925297680858212, 0.9997913665961109, 0.9924776407628142, 0.9998376250679408, 0.9995736356531209]}, {\"categories\": [\"0\", \"2\", \"5\", \"7\", \"10\", \"12\", \"16\", \"18\", \"21\", \"22\", \"23\", \"25\", \"26\", \"27\", \"28\", \"29\", \"30\", \"31\", \"32\", \"33\", \"34\", \"35\", \"36\", \"37\", \"38\", \"39\", \"40\", \"41\", \"42\", \"43\", \"44\", \"45\", \"46\", \"48\", \"49\"], \"mode\": \"lines\", \"name\": \"AUC_weighted_max\", \"stepped\": true, \"type\": \"scatter\", \"data\": [0.9998959106594091, 0.9998959106594091, 0.9998959106594091, 0.9998959106594091, 0.9998959106594091, 0.9998959106594091, 0.9998959106594091, 0.9998959106594091, 0.9998959106594091, 0.9998959106594091, 0.9998959106594091, 0.9998959106594091, 0.9998959106594091, 0.9998959106594091, 0.9998959106594091, 0.9998959106594091, 0.9998959106594091, 0.9998959106594091, 0.9998959106594091, 0.9998959106594091, 0.9998959106594091, 0.9998959106594091, 0.9998959106594091, 0.9998959106594091, 0.9998959106594091, 0.9998959106594091, 0.9998959106594091, 0.9998959106594091, 0.9998959106594091, 0.9998959106594091, 0.9998959106594091, 0.9998959106594091, 0.9998959106594091, 0.9998959106594091, 0.9998959106594091]}], \"recall_score_weighted\": [{\"categories\": [\"0\", \"2\", \"5\", \"7\", \"10\", \"12\", \"16\", \"18\", \"21\", \"22\", \"23\", \"25\", \"26\", \"27\", \"28\", \"29\", \"30\", \"31\", \"32\", \"33\", \"34\", \"35\", \"36\", \"37\", \"38\", \"39\", \"40\", \"41\", \"42\", \"43\", \"44\", \"45\", \"46\", \"48\", \"49\"], \"mode\": \"markers\", \"name\": \"recall_score_weighted\", \"stepped\": false, \"type\": \"scatter\", \"data\": [0.9974475958219917, 0.978432644595809, 0.9882592826537124, 0.9837927991873201, 0.9712865315239052, 0.9834099019314172, 0.9742213445684591, 0.9959163323912845, 0.9971925751794016, 0.987749241368532, 0.9823888425823425, 0.9831543115012439, 0.9781775425549928, 0.966565190211375, 0.9702653093783781, 0.976901543961554, 0.490429522159853, 0.9980857579151635, 0.9947681290129327, 0.9941296413268562, 0.9848135329434902, 0.9843034916583097, 0.9724348976987093, 0.9844312054751703, 0.9845581867079953, 0.9700108585233711, 0.9886420171131629, 0.9567391219410547, 0.994640415196072, 0.9859623061094254, 0.9836651667686857, 0.9977028606592604, 0.9835376157482776, 0.9980857579151635, 0.9978304930778948]}, {\"categories\": [\"0\", \"2\", \"5\", \"7\", \"10\", \"12\", \"16\", \"18\", \"21\", \"22\", \"23\", \"25\", \"26\", \"27\", \"28\", \"29\", \"30\", \"31\", \"32\", \"33\", \"34\", \"35\", \"36\", \"37\", \"38\", \"39\", \"40\", \"41\", \"42\", \"43\", \"44\", \"45\", \"46\", \"48\", \"49\"], \"mode\": \"lines\", \"name\": \"recall_score_weighted_max\", \"stepped\": true, \"type\": \"scatter\", \"data\": [0.9974475958219917, 0.9974475958219917, 0.9974475958219917, 0.9974475958219917, 0.9974475958219917, 0.9974475958219917, 0.9974475958219917, 0.9974475958219917, 0.9974475958219917, 0.9974475958219917, 0.9974475958219917, 0.9974475958219917, 0.9974475958219917, 0.9974475958219917, 0.9974475958219917, 0.9974475958219917, 0.9974475958219917, 0.9980857579151635, 0.9980857579151635, 0.9980857579151635, 0.9980857579151635, 0.9980857579151635, 0.9980857579151635, 0.9980857579151635, 0.9980857579151635, 0.9980857579151635, 0.9980857579151635, 0.9980857579151635, 0.9980857579151635, 0.9980857579151635, 0.9980857579151635, 0.9980857579151635, 0.9980857579151635, 0.9980857579151635, 0.9980857579151635]}], \"precision_score_macro\": [{\"categories\": [\"0\", \"2\", \"5\", \"7\", \"10\", \"12\", \"16\", \"18\", \"21\", \"22\", \"23\", \"25\", \"26\", \"27\", \"28\", \"29\", \"30\", \"31\", \"32\", \"33\", \"34\", \"35\", \"36\", \"37\", \"38\", \"39\", \"40\", \"41\", \"42\", \"43\", \"44\", \"45\", \"46\", \"48\", \"49\"], \"mode\": \"markers\", \"name\": \"precision_score_macro\", \"stepped\": false, \"type\": \"scatter\", \"data\": [0.9974691031239942, 0.9784199025568817, 0.9883776772617867, 0.9838454993032663, 0.9713896419757049, 0.9834558756239968, 0.9742190486886863, 0.9959685361622931, 0.9972198232161482, 0.9877948263341647, 0.9824263273282835, 0.9832469096701203, 0.9782470896948559, 0.9666935169517196, 0.9703565242915271, 0.9769845769472674, 0.2452147610799265, 0.9981171333022598, 0.994818564290161, 0.9941547790061301, 0.9848816772245756, 0.9843465422053003, 0.9724827218823376, 0.9845073426204534, 0.9846119757475604, 0.9701423281072474, 0.9887280310216809, 0.9570341743525728, 0.9946906436202317, 0.9860754437630284, 0.9837064942069208, 0.9977320218555408, 0.98358512367213, 0.9981090589309008, 0.9978609257598802]}, {\"categories\": [\"0\", \"2\", \"5\", \"7\", \"10\", \"12\", \"16\", \"18\", \"21\", \"22\", \"23\", \"25\", \"26\", \"27\", \"28\", \"29\", \"30\", \"31\", \"32\", \"33\", \"34\", \"35\", \"36\", \"37\", \"38\", \"39\", \"40\", \"41\", \"42\", \"43\", \"44\", \"45\", \"46\", \"48\", \"49\"], \"mode\": \"lines\", \"name\": \"precision_score_macro_max\", \"stepped\": true, \"type\": \"scatter\", \"data\": [0.9974691031239942, 0.9974691031239942, 0.9974691031239942, 0.9974691031239942, 0.9974691031239942, 0.9974691031239942, 0.9974691031239942, 0.9974691031239942, 0.9974691031239942, 0.9974691031239942, 0.9974691031239942, 0.9974691031239942, 0.9974691031239942, 0.9974691031239942, 0.9974691031239942, 0.9974691031239942, 0.9974691031239942, 0.9981171333022598, 0.9981171333022598, 0.9981171333022598, 0.9981171333022598, 0.9981171333022598, 0.9981171333022598, 0.9981171333022598, 0.9981171333022598, 0.9981171333022598, 0.9981171333022598, 0.9981171333022598, 0.9981171333022598, 0.9981171333022598, 0.9981171333022598, 0.9981171333022598, 0.9981171333022598, 0.9981171333022598, 0.9981171333022598]}], \"f1_score_macro\": [{\"categories\": [\"0\", \"2\", \"5\", \"7\", \"10\", \"12\", \"16\", \"18\", \"21\", \"22\", \"23\", \"25\", \"26\", \"27\", \"28\", \"29\", \"30\", \"31\", \"32\", \"33\", \"34\", \"35\", \"36\", \"37\", \"38\", \"39\", \"40\", \"41\", \"42\", \"43\", \"44\", \"45\", \"46\", \"48\", \"49\"], \"mode\": \"markers\", \"name\": \"f1_score_macro\", \"stepped\": false, \"type\": \"scatter\", \"data\": [0.9974465688282284, 0.9784226568535666, 0.9882512871751252, 0.9837834643765093, 0.9712677135199399, 0.9834003065772088, 0.9742086481622145, 0.9959139516597304, 0.9971911247430043, 0.9877414145130367, 0.9823791818103725, 0.9831434376822615, 0.9781643984903863, 0.9665413534789163, 0.9702458877104594, 0.9768860584441068, 0.3290407609979643, 0.99808465009004, 0.9947645745432794, 0.994126253139609, 0.9848045636157806, 0.984293540345709, 0.9724182734106492, 0.9844211434261283, 0.9845493718667241, 0.9699889716305184, 0.9886351709305747, 0.9567044230069787, 0.9946372524292318, 0.9859527772715577, 0.9836561804305468, 0.9977017251868243, 0.9835280331679689, 0.9980848534174426, 0.9978294477477458]}, {\"categories\": [\"0\", \"2\", \"5\", \"7\", \"10\", \"12\", \"16\", \"18\", \"21\", \"22\", \"23\", \"25\", \"26\", \"27\", \"28\", \"29\", \"30\", \"31\", \"32\", \"33\", \"34\", \"35\", \"36\", \"37\", \"38\", \"39\", \"40\", \"41\", \"42\", \"43\", \"44\", \"45\", \"46\", \"48\", \"49\"], \"mode\": \"lines\", \"name\": \"f1_score_macro_max\", \"stepped\": true, \"type\": \"scatter\", \"data\": [0.9974465688282284, 0.9974465688282284, 0.9974465688282284, 0.9974465688282284, 0.9974465688282284, 0.9974465688282284, 0.9974465688282284, 0.9974465688282284, 0.9974465688282284, 0.9974465688282284, 0.9974465688282284, 0.9974465688282284, 0.9974465688282284, 0.9974465688282284, 0.9974465688282284, 0.9974465688282284, 0.9974465688282284, 0.99808465009004, 0.99808465009004, 0.99808465009004, 0.99808465009004, 0.99808465009004, 0.99808465009004, 0.99808465009004, 0.99808465009004, 0.99808465009004, 0.99808465009004, 0.99808465009004, 0.99808465009004, 0.99808465009004, 0.99808465009004, 0.99808465009004, 0.99808465009004, 0.9980848534174426, 0.9980848534174426]}], \"average_precision_score_weighted\": [{\"categories\": [\"0\", \"2\", \"5\", \"7\", \"10\", \"12\", \"16\", \"18\", \"21\", \"22\", \"23\", \"25\", \"26\", \"27\", \"28\", \"29\", \"30\", \"31\", \"32\", \"33\", \"34\", \"35\", \"36\", \"37\", \"38\", \"39\", \"40\", \"41\", \"42\", \"43\", \"44\", \"45\", \"46\", \"48\", \"49\"], \"mode\": \"markers\", \"name\": \"average_precision_score_weighted\", \"stepped\": false, \"type\": \"scatter\", \"data\": [0.9998973835221919, 0.9916289884251996, 0.9982161963027941, 0.9861477736291253, 0.9940716358475401, 0.9869354301825478, 0.983486759003862, 0.9995689982490777, 0.9998969073178238, 0.9979896618532553, 0.9870455627239905, 0.9939706883374189, 0.994734056502758, 0.9949783445868137, 0.9940698261381365, 0.9932206148580679, 0.500261009605891, 0.9998520409808986, 0.9993436802843687, 0.9996594013422749, 0.997520621815093, 0.9943780069878043, 0.9941929813538255, 0.9971260766288192, 0.9941803284163735, 0.9928342747260412, 0.9991843905158806, 0.9918186163712136, 0.9997871790324157, 0.9949755747785002, 0.9866006619999569, 0.9997969311585237, 0.9863317414383092, 0.9998422818790855, 0.9989808575938802]}, {\"categories\": [\"0\", \"2\", \"5\", \"7\", \"10\", \"12\", \"16\", \"18\", \"21\", \"22\", \"23\", \"25\", \"26\", \"27\", \"28\", \"29\", \"30\", \"31\", \"32\", \"33\", \"34\", \"35\", \"36\", \"37\", \"38\", \"39\", \"40\", \"41\", \"42\", \"43\", \"44\", \"45\", \"46\", \"48\", \"49\"], \"mode\": \"lines\", \"name\": \"average_precision_score_weighted_max\", \"stepped\": true, \"type\": \"scatter\", \"data\": [0.9998973835221919, 0.9998973835221919, 0.9998973835221919, 0.9998973835221919, 0.9998973835221919, 0.9998973835221919, 0.9998973835221919, 0.9998973835221919, 0.9998973835221919, 0.9998973835221919, 0.9998973835221919, 0.9998973835221919, 0.9998973835221919, 0.9998973835221919, 0.9998973835221919, 0.9998973835221919, 0.9998973835221919, 0.9998973835221919, 0.9998973835221919, 0.9998973835221919, 0.9998973835221919, 0.9998973835221919, 0.9998973835221919, 0.9998973835221919, 0.9998973835221919, 0.9998973835221919, 0.9998973835221919, 0.9998973835221919, 0.9998973835221919, 0.9998973835221919, 0.9998973835221919, 0.9998973835221919, 0.9998973835221919, 0.9998973835221919, 0.9998973835221919]}], \"precision_score_weighted\": [{\"categories\": [\"0\", \"2\", \"5\", \"7\", \"10\", \"12\", \"16\", \"18\", \"21\", \"22\", \"23\", \"25\", \"26\", \"27\", \"28\", \"29\", \"30\", \"31\", \"32\", \"33\", \"34\", \"35\", \"36\", \"37\", \"38\", \"39\", \"40\", \"41\", \"42\", \"43\", \"44\", \"45\", \"46\", \"48\", \"49\"], \"mode\": \"markers\", \"name\": \"precision_score_weighted\", \"stepped\": false, \"type\": \"scatter\", \"data\": [0.9974543921015725, 0.9784432806579867, 0.9883286314461948, 0.9838246142744864, 0.9713608086429419, 0.9834379645490371, 0.9742615005053608, 0.9959297269022681, 0.9971992626463229, 0.9877677604694506, 0.9824138679005726, 0.9831922431596064, 0.9782225139179251, 0.9666480982229786, 0.9703012318055713, 0.9769415025401587, 0.24056002696279863, 0.9980893886731159, 0.9947803676314276, 0.9941367202359253, 0.9848588346354423, 0.9843248741835497, 0.9724578175139937, 0.9844682171689613, 0.984589364444852, 0.9700917713868762, 0.9887014290200579, 0.9569930195118979, 0.99466243144237, 0.986021502532507, 0.9836867480389083, 0.9977082963942328, 0.9835608969794931, 0.9980891029465049, 0.9978363776491539]}, {\"categories\": [\"0\", \"2\", \"5\", \"7\", \"10\", \"12\", \"16\", \"18\", \"21\", \"22\", \"23\", \"25\", \"26\", \"27\", \"28\", \"29\", \"30\", \"31\", \"32\", \"33\", \"34\", \"35\", \"36\", \"37\", \"38\", \"39\", \"40\", \"41\", \"42\", \"43\", \"44\", \"45\", \"46\", \"48\", \"49\"], \"mode\": \"lines\", \"name\": \"precision_score_weighted_max\", \"stepped\": true, \"type\": \"scatter\", \"data\": [0.9974543921015725, 0.9974543921015725, 0.9974543921015725, 0.9974543921015725, 0.9974543921015725, 0.9974543921015725, 0.9974543921015725, 0.9974543921015725, 0.9974543921015725, 0.9974543921015725, 0.9974543921015725, 0.9974543921015725, 0.9974543921015725, 0.9974543921015725, 0.9974543921015725, 0.9974543921015725, 0.9974543921015725, 0.9980893886731159, 0.9980893886731159, 0.9980893886731159, 0.9980893886731159, 0.9980893886731159, 0.9980893886731159, 0.9980893886731159, 0.9980893886731159, 0.9980893886731159, 0.9980893886731159, 0.9980893886731159, 0.9980893886731159, 0.9980893886731159, 0.9980893886731159, 0.9980893886731159, 0.9980893886731159, 0.9980893886731159, 0.9980893886731159]}], \"matthews_correlation\": [{\"categories\": [\"0\", \"2\", \"5\", \"7\", \"10\", \"12\", \"16\", \"18\", \"21\", \"22\", \"23\", \"25\", \"26\", \"27\", \"28\", \"29\", \"30\", \"31\", \"32\", \"33\", \"34\", \"35\", \"36\", \"37\", \"38\", \"39\", \"40\", \"41\", \"42\", \"43\", \"44\", \"45\", \"46\", \"48\", \"49\"], \"mode\": \"markers\", \"name\": \"matthews_correlation\", \"stepped\": false, \"type\": \"scatter\", \"data\": [0.9948999618138918, 0.9568553483395782, 0.9765743876358707, 0.9676004205479704, 0.9426150826222989, 0.9668303833891875, 0.9484567112892135, 0.9918418470432231, 0.9943890738741384, 0.9755024701280707, 0.9647848887747704, 0.9663276118436338, 0.9563767876623016, 0.9331731125997476, 0.9405333503767803, 0.953815949583262, 0.0, 0.9961730451054066, 0.9895419640493914, 0.9882599565169526, 0.9696566866078558, 0.9686099866289972, 0.9448622957418564, 0.9688814308046105, 0.9691315832810302, 0.940067323099869, 0.9773316378208527, 0.9136785337857158, 0.989296894454314, 0.97196758486061, 0.9673354258826855, 0.9954089812078817, 0.967080906787919, 0.9961731240896287, 0.9956649115978822]}, {\"categories\": [\"0\", \"2\", \"5\", \"7\", \"10\", \"12\", \"16\", \"18\", \"21\", \"22\", \"23\", \"25\", \"26\", \"27\", \"28\", \"29\", \"30\", \"31\", \"32\", \"33\", \"34\", \"35\", \"36\", \"37\", \"38\", \"39\", \"40\", \"41\", \"42\", \"43\", \"44\", \"45\", \"46\", \"48\", \"49\"], \"mode\": \"lines\", \"name\": \"matthews_correlation_max\", \"stepped\": true, \"type\": \"scatter\", \"data\": [0.9948999618138918, 0.9948999618138918, 0.9948999618138918, 0.9948999618138918, 0.9948999618138918, 0.9948999618138918, 0.9948999618138918, 0.9948999618138918, 0.9948999618138918, 0.9948999618138918, 0.9948999618138918, 0.9948999618138918, 0.9948999618138918, 0.9948999618138918, 0.9948999618138918, 0.9948999618138918, 0.9948999618138918, 0.9961730451054066, 0.9961730451054066, 0.9961730451054066, 0.9961730451054066, 0.9961730451054066, 0.9961730451054066, 0.9961730451054066, 0.9961730451054066, 0.9961730451054066, 0.9961730451054066, 0.9961730451054066, 0.9961730451054066, 0.9961730451054066, 0.9961730451054066, 0.9961730451054066, 0.9961730451054066, 0.9961731240896287, 0.9961731240896287]}], \"log_loss\": [{\"categories\": [\"0\", \"2\", \"5\", \"7\", \"10\", \"12\", \"16\", \"18\", \"21\", \"22\", \"23\", \"25\", \"26\", \"27\", \"28\", \"29\", \"30\", \"31\", \"32\", \"33\", \"34\", \"35\", \"36\", \"37\", \"38\", \"39\", \"40\", \"41\", \"42\", \"43\", \"44\", \"45\", \"46\", \"48\", \"49\"], \"mode\": \"markers\", \"name\": \"log_loss\", \"stepped\": false, \"type\": \"scatter\", \"data\": [0.010415947541906632, 0.3345482430451519, 0.33435102764496216, 0.08671363702297027, 0.13279204943617656, 0.07840762673519523, 0.10802314017833184, 0.06762978715132688, 0.016931956109608397, 0.0983352352747487, 0.07930728441609022, 0.23583849003747615, 0.3756516802899893, 0.11360640078855773, 0.19903378158307727, 0.13803829810757667, 0.6932859001883291, 0.009502622908139875, 0.045683572385561935, 0.02042114852413452, 0.07358576811816109, 0.3809147791286662, 0.4132873416531095, 0.06104641565988493, 0.2623893694962394, 0.2222828530000751, 0.6719860494543076, 0.1240869304823174, 0.016701997384040844, 0.378668078994625, 0.07914617407635952, 0.010081039947824642, 0.08165464056088509, 0.016125290254568263, 0.36548259212833856]}, {\"categories\": [\"0\", \"2\", \"5\", \"7\", \"10\", \"12\", \"16\", \"18\", \"21\", \"22\", \"23\", \"25\", \"26\", \"27\", \"28\", \"29\", \"30\", \"31\", \"32\", \"33\", \"34\", \"35\", \"36\", \"37\", \"38\", \"39\", \"40\", \"41\", \"42\", \"43\", \"44\", \"45\", \"46\", \"48\", \"49\"], \"mode\": \"lines\", \"name\": \"log_loss_min\", \"stepped\": true, \"type\": \"scatter\", \"data\": [0.010415947541906632, 0.010415947541906632, 0.010415947541906632, 0.010415947541906632, 0.010415947541906632, 0.010415947541906632, 0.010415947541906632, 0.010415947541906632, 0.010415947541906632, 0.010415947541906632, 0.010415947541906632, 0.010415947541906632, 0.010415947541906632, 0.010415947541906632, 0.010415947541906632, 0.010415947541906632, 0.010415947541906632, 0.009502622908139875, 0.009502622908139875, 0.009502622908139875, 0.009502622908139875, 0.009502622908139875, 0.009502622908139875, 0.009502622908139875, 0.009502622908139875, 0.009502622908139875, 0.009502622908139875, 0.009502622908139875, 0.009502622908139875, 0.009502622908139875, 0.009502622908139875, 0.009502622908139875, 0.009502622908139875, 0.009502622908139875, 0.009502622908139875]}], \"norm_macro_recall\": [{\"categories\": [\"0\", \"2\", \"5\", \"7\", \"10\", \"12\", \"16\", \"18\", \"21\", \"22\", \"23\", \"25\", \"26\", \"27\", \"28\", \"29\", \"30\", \"31\", \"32\", \"33\", \"34\", \"35\", \"36\", \"37\", \"38\", \"39\", \"40\", \"41\", \"42\", \"43\", \"44\", \"45\", \"46\", \"48\", \"49\"], \"mode\": \"markers\", \"name\": \"norm_macro_recall\", \"stepped\": false, \"type\": \"scatter\", \"data\": [0.9948617244206577, 0.9568708973404096, 0.976393510326686, 0.9675098777949811, 0.9424509555731584, 0.9667490574533499, 0.9484753641686965, 0.991746647022584, 0.9943385104451247, 0.9754153203393032, 0.9647171560631644, 0.9661614425915748, 0.9562594627627241, 0.9329593494952212, 0.940353719128326, 0.9536627886969917, 0.0, 0.9961118304366829, 0.9894468151108461, 0.9882103676699707, 0.9695500633806073, 0.968526920599464, 0.9447591784803704, 0.9687482268141627, 0.969039243298164, 0.9398502575704921, 0.9772072819675997, 0.913289111287461, 0.989212526628925, 0.9717843606609623, 0.9672578939272587, 0.9953539258683677, 0.9669915943139626, 0.9961281350695212, 0.9956079790227073]}, {\"categories\": [\"0\", \"2\", \"5\", \"7\", \"10\", \"12\", \"16\", \"18\", \"21\", \"22\", \"23\", \"25\", \"26\", \"27\", \"28\", \"29\", \"30\", \"31\", \"32\", \"33\", \"34\", \"35\", \"36\", \"37\", \"38\", \"39\", \"40\", \"41\", \"42\", \"43\", \"44\", \"45\", \"46\", \"48\", \"49\"], \"mode\": \"lines\", \"name\": \"norm_macro_recall_max\", \"stepped\": true, \"type\": \"scatter\", \"data\": [0.9948617244206577, 0.9948617244206577, 0.9948617244206577, 0.9948617244206577, 0.9948617244206577, 0.9948617244206577, 0.9948617244206577, 0.9948617244206577, 0.9948617244206577, 0.9948617244206577, 0.9948617244206577, 0.9948617244206577, 0.9948617244206577, 0.9948617244206577, 0.9948617244206577, 0.9948617244206577, 0.9948617244206577, 0.9961118304366829, 0.9961118304366829, 0.9961118304366829, 0.9961118304366829, 0.9961118304366829, 0.9961118304366829, 0.9961118304366829, 0.9961118304366829, 0.9961118304366829, 0.9961118304366829, 0.9961118304366829, 0.9961118304366829, 0.9961118304366829, 0.9961118304366829, 0.9961118304366829, 0.9961118304366829, 0.9961281350695212, 0.9961281350695212]}], \"f1_score_weighted\": [{\"categories\": [\"0\", \"2\", \"5\", \"7\", \"10\", \"12\", \"16\", \"18\", \"21\", \"22\", \"23\", \"25\", \"26\", \"27\", \"28\", \"29\", \"30\", \"31\", \"32\", \"33\", \"34\", \"35\", \"36\", \"37\", \"38\", \"39\", \"40\", \"41\", \"42\", \"43\", \"44\", \"45\", \"46\", \"48\", \"49\"], \"mode\": \"markers\", \"name\": \"f1_score_weighted\", \"stepped\": false, \"type\": \"scatter\", \"data\": [0.997447583519269, 0.9784329469489, 0.9882580597336952, 0.9837919668382616, 0.9712838465419059, 0.9834090548005323, 0.9742217232202469, 0.9959160623936715, 0.9971925086927715, 0.9877486862120335, 0.9823880977054852, 0.9831529146694523, 0.9781760448286555, 0.9665614610028438, 0.9702624915646684, 0.9768996134283376, 0.3227775223237776, 0.9980857023412864, 0.9947678437877719, 0.9941294582949629, 0.9848124106681663, 0.9843027344029368, 0.9724334883848392, 0.984430145699634, 0.9845573609957855, 0.9700066551157157, 0.988641081923503, 0.9567311778420693, 0.9946402333988082, 0.985960900572163, 0.9836644303289118, 0.9977028146603324, 0.9835368409020928, 0.9980857228435515, 0.997830428779851]}, {\"categories\": [\"0\", \"2\", \"5\", \"7\", \"10\", \"12\", \"16\", \"18\", \"21\", \"22\", \"23\", \"25\", \"26\", \"27\", \"28\", \"29\", \"30\", \"31\", \"32\", \"33\", \"34\", \"35\", \"36\", \"37\", \"38\", \"39\", \"40\", \"41\", \"42\", \"43\", \"44\", \"45\", \"46\", \"48\", \"49\"], \"mode\": \"lines\", \"name\": \"f1_score_weighted_max\", \"stepped\": true, \"type\": \"scatter\", \"data\": [0.997447583519269, 0.997447583519269, 0.997447583519269, 0.997447583519269, 0.997447583519269, 0.997447583519269, 0.997447583519269, 0.997447583519269, 0.997447583519269, 0.997447583519269, 0.997447583519269, 0.997447583519269, 0.997447583519269, 0.997447583519269, 0.997447583519269, 0.997447583519269, 0.997447583519269, 0.9980857023412864, 0.9980857023412864, 0.9980857023412864, 0.9980857023412864, 0.9980857023412864, 0.9980857023412864, 0.9980857023412864, 0.9980857023412864, 0.9980857023412864, 0.9980857023412864, 0.9980857023412864, 0.9980857023412864, 0.9980857023412864, 0.9980857023412864, 0.9980857023412864, 0.9980857023412864, 0.9980857228435515, 0.9980857228435515]}], \"accuracy\": [{\"categories\": [\"0\", \"2\", \"5\", \"7\", \"10\", \"12\", \"16\", \"18\", \"21\", \"22\", \"23\", \"25\", \"26\", \"27\", \"28\", \"29\", \"30\", \"31\", \"32\", \"33\", \"34\", \"35\", \"36\", \"37\", \"38\", \"39\", \"40\", \"41\", \"42\", \"43\", \"44\", \"45\", \"46\", \"48\", \"49\"], \"mode\": \"markers\", \"name\": \"accuracy\", \"stepped\": false, \"type\": \"scatter\", \"data\": [0.9974475958219917, 0.978432644595809, 0.9882592826537124, 0.9837927991873201, 0.9712865315239052, 0.9834099019314172, 0.9742213445684591, 0.9959163323912845, 0.9971925751794016, 0.987749241368532, 0.9823888425823425, 0.9831543115012439, 0.9781775425549928, 0.966565190211375, 0.9702653093783781, 0.976901543961554, 0.490429522159853, 0.9980857579151635, 0.9947681290129327, 0.9941296413268562, 0.9848135329434902, 0.9843034916583097, 0.9724348976987093, 0.9844312054751703, 0.9845581867079953, 0.9700108585233711, 0.9886420171131629, 0.9567391219410547, 0.994640415196072, 0.9859623061094254, 0.9836651667686857, 0.9977028606592604, 0.9835376157482776, 0.9980857579151635, 0.9978304930778948]}, {\"categories\": [\"0\", \"2\", \"5\", \"7\", \"10\", \"12\", \"16\", \"18\", \"21\", \"22\", \"23\", \"25\", \"26\", \"27\", \"28\", \"29\", \"30\", \"31\", \"32\", \"33\", \"34\", \"35\", \"36\", \"37\", \"38\", \"39\", \"40\", \"41\", \"42\", \"43\", \"44\", \"45\", \"46\", \"48\", \"49\"], \"mode\": \"lines\", \"name\": \"accuracy_max\", \"stepped\": true, \"type\": \"scatter\", \"data\": [0.9974475958219917, 0.9974475958219917, 0.9974475958219917, 0.9974475958219917, 0.9974475958219917, 0.9974475958219917, 0.9974475958219917, 0.9974475958219917, 0.9974475958219917, 0.9974475958219917, 0.9974475958219917, 0.9974475958219917, 0.9974475958219917, 0.9974475958219917, 0.9974475958219917, 0.9974475958219917, 0.9974475958219917, 0.9980857579151635, 0.9980857579151635, 0.9980857579151635, 0.9980857579151635, 0.9980857579151635, 0.9980857579151635, 0.9980857579151635, 0.9980857579151635, 0.9980857579151635, 0.9980857579151635, 0.9980857579151635, 0.9980857579151635, 0.9980857579151635, 0.9980857579151635, 0.9980857579151635, 0.9980857579151635, 0.9980857579151635, 0.9980857579151635]}], \"precision_score_micro\": [{\"categories\": [\"0\", \"2\", \"5\", \"7\", \"10\", \"12\", \"16\", \"18\", \"21\", \"22\", \"23\", \"25\", \"26\", \"27\", \"28\", \"29\", \"30\", \"31\", \"32\", \"33\", \"34\", \"35\", \"36\", \"37\", \"38\", \"39\", \"40\", \"41\", \"42\", \"43\", \"44\", \"45\", \"46\", \"48\", \"49\"], \"mode\": \"markers\", \"name\": \"precision_score_micro\", \"stepped\": false, \"type\": \"scatter\", \"data\": [0.9974475958219917, 0.978432644595809, 0.9882592826537124, 0.9837927991873201, 0.9712865315239052, 0.9834099019314172, 0.9742213445684591, 0.9959163323912845, 0.9971925751794016, 0.987749241368532, 0.9823888425823425, 0.9831543115012439, 0.9781775425549928, 0.966565190211375, 0.9702653093783781, 0.976901543961554, 0.490429522159853, 0.9980857579151635, 0.9947681290129327, 0.9941296413268562, 0.9848135329434902, 0.9843034916583097, 0.9724348976987093, 0.9844312054751703, 0.9845581867079953, 0.9700108585233711, 0.9886420171131629, 0.9567391219410547, 0.994640415196072, 0.9859623061094254, 0.9836651667686857, 0.9977028606592604, 0.9835376157482776, 0.9980857579151635, 0.9978304930778948]}, {\"categories\": [\"0\", \"2\", \"5\", \"7\", \"10\", \"12\", \"16\", \"18\", \"21\", \"22\", \"23\", \"25\", \"26\", \"27\", \"28\", \"29\", \"30\", \"31\", \"32\", \"33\", \"34\", \"35\", \"36\", \"37\", \"38\", \"39\", \"40\", \"41\", \"42\", \"43\", \"44\", \"45\", \"46\", \"48\", \"49\"], \"mode\": \"lines\", \"name\": \"precision_score_micro_max\", \"stepped\": true, \"type\": \"scatter\", \"data\": [0.9974475958219917, 0.9974475958219917, 0.9974475958219917, 0.9974475958219917, 0.9974475958219917, 0.9974475958219917, 0.9974475958219917, 0.9974475958219917, 0.9974475958219917, 0.9974475958219917, 0.9974475958219917, 0.9974475958219917, 0.9974475958219917, 0.9974475958219917, 0.9974475958219917, 0.9974475958219917, 0.9974475958219917, 0.9980857579151635, 0.9980857579151635, 0.9980857579151635, 0.9980857579151635, 0.9980857579151635, 0.9980857579151635, 0.9980857579151635, 0.9980857579151635, 0.9980857579151635, 0.9980857579151635, 0.9980857579151635, 0.9980857579151635, 0.9980857579151635, 0.9980857579151635, 0.9980857579151635, 0.9980857579151635, 0.9980857579151635, 0.9980857579151635]}], \"AUC_micro\": [{\"categories\": [\"0\", \"2\", \"5\", \"7\", \"10\", \"12\", \"16\", \"18\", \"21\", \"22\", \"23\", \"25\", \"26\", \"27\", \"28\", \"29\", \"30\", \"31\", \"32\", \"33\", \"34\", \"35\", \"36\", \"37\", \"38\", \"39\", \"40\", \"41\", \"42\", \"43\", \"44\", \"45\", \"46\", \"48\", \"49\"], \"mode\": \"markers\", \"name\": \"AUC_micro\", \"stepped\": false, \"type\": \"scatter\", \"data\": [0.9998835134544196, 0.9925386927840606, 0.9985913131833992, 0.9926971831336611, 0.9946081944741902, 0.9929011460209285, 0.9908575005669075, 0.9995811336005994, 0.9998853110703478, 0.9984757275229142, 0.9927685567738651, 0.99656381475203, 0.9951118203834067, 0.9946199524568321, 0.9940271026752381, 0.9945740946342301, 0.490429522159853, 0.9998352581614405, 0.9993164226984442, 0.9996678973766231, 0.997632168531358, 0.9956629788937933, 0.9942444409165476, 0.9970661532188554, 0.9945314307124992, 0.9928048560021411, 0.9992002703920042, 0.9918470316113954, 0.9997643502697805, 0.9971294448314436, 0.9929093151329876, 0.9998012040706472, 0.9928673702679905, 0.9998322199687795, 0.9995901247180781]}, {\"categories\": [\"0\", \"2\", \"5\", \"7\", \"10\", \"12\", \"16\", \"18\", \"21\", \"22\", \"23\", \"25\", \"26\", \"27\", \"28\", \"29\", \"30\", \"31\", \"32\", \"33\", \"34\", \"35\", \"36\", \"37\", \"38\", \"39\", \"40\", \"41\", \"42\", \"43\", \"44\", \"45\", \"46\", \"48\", \"49\"], \"mode\": \"lines\", \"name\": \"AUC_micro_max\", \"stepped\": true, \"type\": \"scatter\", \"data\": [0.9998835134544196, 0.9998835134544196, 0.9998835134544196, 0.9998835134544196, 0.9998835134544196, 0.9998835134544196, 0.9998835134544196, 0.9998835134544196, 0.9998853110703478, 0.9998853110703478, 0.9998853110703478, 0.9998853110703478, 0.9998853110703478, 0.9998853110703478, 0.9998853110703478, 0.9998853110703478, 0.9998853110703478, 0.9998853110703478, 0.9998853110703478, 0.9998853110703478, 0.9998853110703478, 0.9998853110703478, 0.9998853110703478, 0.9998853110703478, 0.9998853110703478, 0.9998853110703478, 0.9998853110703478, 0.9998853110703478, 0.9998853110703478, 0.9998853110703478, 0.9998853110703478, 0.9998853110703478, 0.9998853110703478, 0.9998853110703478, 0.9998853110703478]}], \"average_precision_score_micro\": [{\"categories\": [\"0\", \"2\", \"5\", \"7\", \"10\", \"12\", \"16\", \"18\", \"21\", \"22\", \"23\", \"25\", \"26\", \"27\", \"28\", \"29\", \"30\", \"31\", \"32\", \"33\", \"34\", \"35\", \"36\", \"37\", \"38\", \"39\", \"40\", \"41\", \"42\", \"43\", \"44\", \"45\", \"46\", \"48\", \"49\"], \"mode\": \"markers\", \"name\": \"average_precision_score_micro\", \"stepped\": false, \"type\": \"scatter\", \"data\": [0.9998850685533786, 0.9918525429504121, 0.9985638251203239, 0.9881448367817474, 0.9944343642658546, 0.9891212281162843, 0.9837000844538585, 0.9995868111201478, 0.9998867081700592, 0.9981786288935546, 0.9891293365724356, 0.9958744781376371, 0.9949825632939456, 0.9946994308652517, 0.994068008304158, 0.9942914503863396, 0.4953452658828721, 0.9998383532350574, 0.9992337817211115, 0.9996737861285873, 0.9976432397691759, 0.9945988903949488, 0.9942324035509096, 0.997068760353169, 0.9943212999194071, 0.992693152773465, 0.9992127186973401, 0.991986744388589, 0.9997682827812705, 0.9962772959790908, 0.9887917367726112, 0.9998048727823715, 0.9884985849736925, 0.9998355973395489, 0.9989642236622954]}, {\"categories\": [\"0\", \"2\", \"5\", \"7\", \"10\", \"12\", \"16\", \"18\", \"21\", \"22\", \"23\", \"25\", \"26\", \"27\", \"28\", \"29\", \"30\", \"31\", \"32\", \"33\", \"34\", \"35\", \"36\", \"37\", \"38\", \"39\", \"40\", \"41\", \"42\", \"43\", \"44\", \"45\", \"46\", \"48\", \"49\"], \"mode\": \"lines\", \"name\": \"average_precision_score_micro_max\", \"stepped\": true, \"type\": \"scatter\", \"data\": [0.9998850685533786, 0.9998850685533786, 0.9998850685533786, 0.9998850685533786, 0.9998850685533786, 0.9998850685533786, 0.9998850685533786, 0.9998850685533786, 0.9998867081700592, 0.9998867081700592, 0.9998867081700592, 0.9998867081700592, 0.9998867081700592, 0.9998867081700592, 0.9998867081700592, 0.9998867081700592, 0.9998867081700592, 0.9998867081700592, 0.9998867081700592, 0.9998867081700592, 0.9998867081700592, 0.9998867081700592, 0.9998867081700592, 0.9998867081700592, 0.9998867081700592, 0.9998867081700592, 0.9998867081700592, 0.9998867081700592, 0.9998867081700592, 0.9998867081700592, 0.9998867081700592, 0.9998867081700592, 0.9998867081700592, 0.9998867081700592, 0.9998867081700592]}], \"recall_score_macro\": [{\"categories\": [\"0\", \"2\", \"5\", \"7\", \"10\", \"12\", \"16\", \"18\", \"21\", \"22\", \"23\", \"25\", \"26\", \"27\", \"28\", \"29\", \"30\", \"31\", \"32\", \"33\", \"34\", \"35\", \"36\", \"37\", \"38\", \"39\", \"40\", \"41\", \"42\", \"43\", \"44\", \"45\", \"46\", \"48\", \"49\"], \"mode\": \"markers\", \"name\": \"recall_score_macro\", \"stepped\": false, \"type\": \"scatter\", \"data\": [0.9974308622103288, 0.9784354486702048, 0.9881967551633432, 0.9837549388974904, 0.9712254777865791, 0.983374528726675, 0.9742376820843482, 0.995873323511292, 0.9971692552225624, 0.9877076601696515, 0.982358578031582, 0.9830807212957874, 0.978129731381362, 0.9664796747476105, 0.9701768595641631, 0.9768313943484959, 0.5, 0.9980559152183414, 0.9947234075554231, 0.9941051838349854, 0.9847750316903037, 0.984263460299732, 0.9723795892401851, 0.9843741134070815, 0.9845196216490819, 0.9699251287852461, 0.9886036409837999, 0.9566445556437305, 0.9946062633144624, 0.9858921803304812, 0.9836289469636293, 0.9976769629341838, 0.9834957971569812, 0.9980640675347606, 0.9978039895113536]}, {\"categories\": [\"0\", \"2\", \"5\", \"7\", \"10\", \"12\", \"16\", \"18\", \"21\", \"22\", \"23\", \"25\", \"26\", \"27\", \"28\", \"29\", \"30\", \"31\", \"32\", \"33\", \"34\", \"35\", \"36\", \"37\", \"38\", \"39\", \"40\", \"41\", \"42\", \"43\", \"44\", \"45\", \"46\", \"48\", \"49\"], \"mode\": \"lines\", \"name\": \"recall_score_macro_max\", \"stepped\": true, \"type\": \"scatter\", \"data\": [0.9974308622103288, 0.9974308622103288, 0.9974308622103288, 0.9974308622103288, 0.9974308622103288, 0.9974308622103288, 0.9974308622103288, 0.9974308622103288, 0.9974308622103288, 0.9974308622103288, 0.9974308622103288, 0.9974308622103288, 0.9974308622103288, 0.9974308622103288, 0.9974308622103288, 0.9974308622103288, 0.9974308622103288, 0.9980559152183414, 0.9980559152183414, 0.9980559152183414, 0.9980559152183414, 0.9980559152183414, 0.9980559152183414, 0.9980559152183414, 0.9980559152183414, 0.9980559152183414, 0.9980559152183414, 0.9980559152183414, 0.9980559152183414, 0.9980559152183414, 0.9980559152183414, 0.9980559152183414, 0.9980559152183414, 0.9980640675347606, 0.9980640675347606]}], \"average_precision_score_macro\": [{\"categories\": [\"0\", \"2\", \"5\", \"7\", \"10\", \"12\", \"16\", \"18\", \"21\", \"22\", \"23\", \"25\", \"26\", \"27\", \"28\", \"29\", \"30\", \"31\", \"32\", \"33\", \"34\", \"35\", \"36\", \"37\", \"38\", \"39\", \"40\", \"41\", \"42\", \"43\", \"44\", \"45\", \"46\", \"48\", \"49\"], \"mode\": \"markers\", \"name\": \"average_precision_score_macro\", \"stepped\": false, \"type\": \"scatter\", \"data\": [0.9998973840889871, 0.9916230732119157, 0.9982269422651783, 0.986178148154651, 0.9940763785218737, 0.9869729259728638, 0.9835186685149605, 0.9995703541343811, 0.9998969072912555, 0.9979963757104141, 0.9870791449956797, 0.9939956546296932, 0.9947416602610811, 0.9949832373984939, 0.9940746592786962, 0.9932376060407941, 0.5, 0.9998521320365423, 0.9993486177339648, 0.9996596015210933, 0.9975235350374871, 0.9943808724338312, 0.9942018490356993, 0.9971301289191654, 0.9941763932112007, 0.9928356596755761, 0.9991852533246742, 0.9918140503947515, 0.9997871324889198, 0.9949907110353411, 0.9866333992924424, 0.9997976889594277, 0.9863629443935809, 0.9998427547666445, 0.9989944971082672]}, {\"categories\": [\"0\", \"2\", \"5\", \"7\", \"10\", \"12\", \"16\", \"18\", \"21\", \"22\", \"23\", \"25\", \"26\", \"27\", \"28\", \"29\", \"30\", \"31\", \"32\", \"33\", \"34\", \"35\", \"36\", \"37\", \"38\", \"39\", \"40\", \"41\", \"42\", \"43\", \"44\", \"45\", \"46\", \"48\", \"49\"], \"mode\": \"lines\", \"name\": \"average_precision_score_macro_max\", \"stepped\": true, \"type\": \"scatter\", \"data\": [0.9998973840889871, 0.9998973840889871, 0.9998973840889871, 0.9998973840889871, 0.9998973840889871, 0.9998973840889871, 0.9998973840889871, 0.9998973840889871, 0.9998973840889871, 0.9998973840889871, 0.9998973840889871, 0.9998973840889871, 0.9998973840889871, 0.9998973840889871, 0.9998973840889871, 0.9998973840889871, 0.9998973840889871, 0.9998973840889871, 0.9998973840889871, 0.9998973840889871, 0.9998973840889871, 0.9998973840889871, 0.9998973840889871, 0.9998973840889871, 0.9998973840889871, 0.9998973840889871, 0.9998973840889871, 0.9998973840889871, 0.9998973840889871, 0.9998973840889871, 0.9998973840889871, 0.9998973840889871, 0.9998973840889871, 0.9998973840889871, 0.9998973840889871]}], \"f1_score_micro\": [{\"categories\": [\"0\", \"2\", \"5\", \"7\", \"10\", \"12\", \"16\", \"18\", \"21\", \"22\", \"23\", \"25\", \"26\", \"27\", \"28\", \"29\", \"30\", \"31\", \"32\", \"33\", \"34\", \"35\", \"36\", \"37\", \"38\", \"39\", \"40\", \"41\", \"42\", \"43\", \"44\", \"45\", \"46\", \"48\", \"49\"], \"mode\": \"markers\", \"name\": \"f1_score_micro\", \"stepped\": false, \"type\": \"scatter\", \"data\": [0.9974475958219917, 0.978432644595809, 0.9882592826537124, 0.9837927991873201, 0.9712865315239052, 0.9834099019314172, 0.9742213445684591, 0.9959163323912845, 0.9971925751794016, 0.987749241368532, 0.9823888425823425, 0.9831543115012439, 0.9781775425549928, 0.966565190211375, 0.9702653093783781, 0.976901543961554, 0.490429522159853, 0.9980857579151635, 0.9947681290129327, 0.9941296413268562, 0.9848135329434902, 0.9843034916583097, 0.9724348976987093, 0.9844312054751703, 0.9845581867079953, 0.9700108585233711, 0.9886420171131629, 0.9567391219410547, 0.994640415196072, 0.9859623061094254, 0.9836651667686857, 0.9977028606592604, 0.9835376157482776, 0.9980857579151635, 0.9978304930778948]}, {\"categories\": [\"0\", \"2\", \"5\", \"7\", \"10\", \"12\", \"16\", \"18\", \"21\", \"22\", \"23\", \"25\", \"26\", \"27\", \"28\", \"29\", \"30\", \"31\", \"32\", \"33\", \"34\", \"35\", \"36\", \"37\", \"38\", \"39\", \"40\", \"41\", \"42\", \"43\", \"44\", \"45\", \"46\", \"48\", \"49\"], \"mode\": \"lines\", \"name\": \"f1_score_micro_max\", \"stepped\": true, \"type\": \"scatter\", \"data\": [0.9974475958219917, 0.9974475958219917, 0.9974475958219917, 0.9974475958219917, 0.9974475958219917, 0.9974475958219917, 0.9974475958219917, 0.9974475958219917, 0.9974475958219917, 0.9974475958219917, 0.9974475958219917, 0.9974475958219917, 0.9974475958219917, 0.9974475958219917, 0.9974475958219917, 0.9974475958219917, 0.9974475958219917, 0.9980857579151635, 0.9980857579151635, 0.9980857579151635, 0.9980857579151635, 0.9980857579151635, 0.9980857579151635, 0.9980857579151635, 0.9980857579151635, 0.9980857579151635, 0.9980857579151635, 0.9980857579151635, 0.9980857579151635, 0.9980857579151635, 0.9980857579151635, 0.9980857579151635, 0.9980857579151635, 0.9980857579151635, 0.9980857579151635]}], \"recall_score_micro\": [{\"categories\": [\"0\", \"2\", \"5\", \"7\", \"10\", \"12\", \"16\", \"18\", \"21\", \"22\", \"23\", \"25\", \"26\", \"27\", \"28\", \"29\", \"30\", \"31\", \"32\", \"33\", \"34\", \"35\", \"36\", \"37\", \"38\", \"39\", \"40\", \"41\", \"42\", \"43\", \"44\", \"45\", \"46\", \"48\", \"49\"], \"mode\": \"markers\", \"name\": \"recall_score_micro\", \"stepped\": false, \"type\": \"scatter\", \"data\": [0.9974475958219917, 0.978432644595809, 0.9882592826537124, 0.9837927991873201, 0.9712865315239052, 0.9834099019314172, 0.9742213445684591, 0.9959163323912845, 0.9971925751794016, 0.987749241368532, 0.9823888425823425, 0.9831543115012439, 0.9781775425549928, 0.966565190211375, 0.9702653093783781, 0.976901543961554, 0.490429522159853, 0.9980857579151635, 0.9947681290129327, 0.9941296413268562, 0.9848135329434902, 0.9843034916583097, 0.9724348976987093, 0.9844312054751703, 0.9845581867079953, 0.9700108585233711, 0.9886420171131629, 0.9567391219410547, 0.994640415196072, 0.9859623061094254, 0.9836651667686857, 0.9977028606592604, 0.9835376157482776, 0.9980857579151635, 0.9978304930778948]}, {\"categories\": [\"0\", \"2\", \"5\", \"7\", \"10\", \"12\", \"16\", \"18\", \"21\", \"22\", \"23\", \"25\", \"26\", \"27\", \"28\", \"29\", \"30\", \"31\", \"32\", \"33\", \"34\", \"35\", \"36\", \"37\", \"38\", \"39\", \"40\", \"41\", \"42\", \"43\", \"44\", \"45\", \"46\", \"48\", \"49\"], \"mode\": \"lines\", \"name\": \"recall_score_micro_max\", \"stepped\": true, \"type\": \"scatter\", \"data\": [0.9974475958219917, 0.9974475958219917, 0.9974475958219917, 0.9974475958219917, 0.9974475958219917, 0.9974475958219917, 0.9974475958219917, 0.9974475958219917, 0.9974475958219917, 0.9974475958219917, 0.9974475958219917, 0.9974475958219917, 0.9974475958219917, 0.9974475958219917, 0.9974475958219917, 0.9974475958219917, 0.9974475958219917, 0.9980857579151635, 0.9980857579151635, 0.9980857579151635, 0.9980857579151635, 0.9980857579151635, 0.9980857579151635, 0.9980857579151635, 0.9980857579151635, 0.9980857579151635, 0.9980857579151635, 0.9980857579151635, 0.9980857579151635, 0.9980857579151635, 0.9980857579151635, 0.9980857579151635, 0.9980857579151635, 0.9980857579151635, 0.9980857579151635]}], \"balanced_accuracy\": [{\"categories\": [\"0\", \"2\", \"5\", \"7\", \"10\", \"12\", \"16\", \"18\", \"21\", \"22\", \"23\", \"25\", \"26\", \"27\", \"28\", \"29\", \"30\", \"31\", \"32\", \"33\", \"34\", \"35\", \"36\", \"37\", \"38\", \"39\", \"40\", \"41\", \"42\", \"43\", \"44\", \"45\", \"46\", \"48\", \"49\"], \"mode\": \"markers\", \"name\": \"balanced_accuracy\", \"stepped\": false, \"type\": \"scatter\", \"data\": [0.9974308622103288, 0.9784354486702048, 0.9881967551633432, 0.9837549388974904, 0.9712254777865791, 0.983374528726675, 0.9742376820843482, 0.995873323511292, 0.9971692552225624, 0.9877076601696515, 0.982358578031582, 0.9830807212957874, 0.978129731381362, 0.9664796747476105, 0.9701768595641631, 0.9768313943484959, 0.5, 0.9980559152183414, 0.9947234075554231, 0.9941051838349854, 0.9847750316903037, 0.984263460299732, 0.9723795892401851, 0.9843741134070815, 0.9845196216490819, 0.9699251287852461, 0.9886036409837999, 0.9566445556437305, 0.9946062633144624, 0.9858921803304812, 0.9836289469636293, 0.9976769629341838, 0.9834957971569812, 0.9980640675347606, 0.9978039895113536]}, {\"categories\": [\"0\", \"2\", \"5\", \"7\", \"10\", \"12\", \"16\", \"18\", \"21\", \"22\", \"23\", \"25\", \"26\", \"27\", \"28\", \"29\", \"30\", \"31\", \"32\", \"33\", \"34\", \"35\", \"36\", \"37\", \"38\", \"39\", \"40\", \"41\", \"42\", \"43\", \"44\", \"45\", \"46\", \"48\", \"49\"], \"mode\": \"lines\", \"name\": \"balanced_accuracy_max\", \"stepped\": true, \"type\": \"scatter\", \"data\": [0.9974308622103288, 0.9974308622103288, 0.9974308622103288, 0.9974308622103288, 0.9974308622103288, 0.9974308622103288, 0.9974308622103288, 0.9974308622103288, 0.9974308622103288, 0.9974308622103288, 0.9974308622103288, 0.9974308622103288, 0.9974308622103288, 0.9974308622103288, 0.9974308622103288, 0.9974308622103288, 0.9974308622103288, 0.9980559152183414, 0.9980559152183414, 0.9980559152183414, 0.9980559152183414, 0.9980559152183414, 0.9980559152183414, 0.9980559152183414, 0.9980559152183414, 0.9980559152183414, 0.9980559152183414, 0.9980559152183414, 0.9980559152183414, 0.9980559152183414, 0.9980559152183414, 0.9980559152183414, 0.9980559152183414, 0.9980640675347606, 0.9980640675347606]}], \"weighted_accuracy\": [{\"categories\": [\"0\", \"2\", \"5\", \"7\", \"10\", \"12\", \"16\", \"18\", \"21\", \"22\", \"23\", \"25\", \"26\", \"27\", \"28\", \"29\", \"30\", \"31\", \"32\", \"33\", \"34\", \"35\", \"36\", \"37\", \"38\", \"39\", \"40\", \"41\", \"42\", \"43\", \"44\", \"45\", \"46\", \"48\", \"49\"], \"mode\": \"markers\", \"name\": \"weighted_accuracy\", \"stepped\": false, \"type\": \"scatter\", \"data\": [0.9974642983987169, 0.9784298390780306, 0.9883217384980899, 0.9838305974636187, 0.9713475365582147, 0.9834452310439794, 0.9742050487517124, 0.9959592777492876, 0.9972158545230503, 0.9877907620687963, 0.9824190711395918, 0.983227799251677, 0.9782252679530631, 0.966650614443979, 0.9703536463252822, 0.976971583685305, 0.48087341362567637, 0.9981155504143329, 0.9948127900139984, 0.9941540667301438, 0.9848519871840431, 0.9843434765737241, 0.97249012270574, 0.984488246176649, 0.9845966929982083, 0.9700964198142478, 0.9886803567655141, 0.9568336000873339, 0.9946745057575607, 0.9860323198120458, 0.9837013323549835, 0.9977287161159667, 0.9835793696982933, 0.9981074141361408, 0.9978569591891263]}, {\"categories\": [\"0\", \"2\", \"5\", \"7\", \"10\", \"12\", \"16\", \"18\", \"21\", \"22\", \"23\", \"25\", \"26\", \"27\", \"28\", \"29\", \"30\", \"31\", \"32\", \"33\", \"34\", \"35\", \"36\", \"37\", \"38\", \"39\", \"40\", \"41\", \"42\", \"43\", \"44\", \"45\", \"46\", \"48\", \"49\"], \"mode\": \"lines\", \"name\": \"weighted_accuracy_max\", \"stepped\": true, \"type\": \"scatter\", \"data\": [0.9974642983987169, 0.9974642983987169, 0.9974642983987169, 0.9974642983987169, 0.9974642983987169, 0.9974642983987169, 0.9974642983987169, 0.9974642983987169, 0.9974642983987169, 0.9974642983987169, 0.9974642983987169, 0.9974642983987169, 0.9974642983987169, 0.9974642983987169, 0.9974642983987169, 0.9974642983987169, 0.9974642983987169, 0.9981155504143329, 0.9981155504143329, 0.9981155504143329, 0.9981155504143329, 0.9981155504143329, 0.9981155504143329, 0.9981155504143329, 0.9981155504143329, 0.9981155504143329, 0.9981155504143329, 0.9981155504143329, 0.9981155504143329, 0.9981155504143329, 0.9981155504143329, 0.9981155504143329, 0.9981155504143329, 0.9981155504143329, 0.9981155504143329]}]}, \"metricName\": null, \"primaryMetricName\": \"accuracy\", \"showLegend\": false}, \"run_metrics\": [{\"name\": \"experiment_status\", \"run_id\": \"AutoML_d88eb995-19ad-4dd2-819f-9793469cb552\", \"categories\": [0, 1, 2, 3, 4, 5, 6, 7, 8, 9, 10, 11, 12, 13], \"series\": [{\"data\": [\"DatasetEvaluation\", \"FeaturesGeneration\", \"DatasetFeaturization\", \"DatasetFeaturizationCompleted\", \"DatasetCrossValidationSplit\", \"ModelSelection\", \"BestRunExplainModel\", \"ModelExplanationDataSetSetup\", \"PickSurrogateModel\", \"EngineeredFeatureExplanations\", \"EngineeredFeatureExplanations\", \"RawFeaturesExplanations\", \"RawFeaturesExplanations\", \"BestRunExplainModel\"]}]}, {\"name\": \"experiment_status_description\", \"run_id\": \"AutoML_d88eb995-19ad-4dd2-819f-9793469cb552\", \"categories\": [0, 1, 2, 3, 4, 5, 6, 7, 8, 9, 10, 11, 12, 13], \"series\": [{\"data\": [\"Gathering dataset statistics.\", \"Generating features for the dataset.\", \"Beginning to fit featurizers and featurize the dataset.\", \"Completed fit featurizers and featurizing the dataset.\", \"Generating individually featurized CV splits.\", \"Beginning model selection.\", \"Best run model explanations started\", \"Model explanations data setup completed\", \"Choosing LightGBM as the surrogate model for explanations\", \"Computation of engineered features started\", \"Computation of engineered features completed\", \"Computation of raw features started\", \"Computation of raw features completed\", \"Best run model explanations completed\"]}]}, {\"name\": \"f1_score_weighted\", \"run_id\": \"AutoML_d88eb995-19ad-4dd2-819f-9793469cb552\", \"categories\": [0], \"series\": [{\"data\": [0.9980857023412864]}]}, {\"name\": \"f1_score_macro\", \"run_id\": \"AutoML_d88eb995-19ad-4dd2-819f-9793469cb552\", \"categories\": [0], \"series\": [{\"data\": [0.99808465009004]}]}, {\"name\": \"recall_score_micro\", \"run_id\": \"AutoML_d88eb995-19ad-4dd2-819f-9793469cb552\", \"categories\": [0], \"series\": [{\"data\": [0.9980857579151635]}]}, {\"name\": \"weighted_accuracy\", \"run_id\": \"AutoML_d88eb995-19ad-4dd2-819f-9793469cb552\", \"categories\": [0], \"series\": [{\"data\": [0.9981155504143329]}]}, {\"name\": \"average_precision_score_weighted\", \"run_id\": \"AutoML_d88eb995-19ad-4dd2-819f-9793469cb552\", \"categories\": [0], \"series\": [{\"data\": [0.9998520409808986]}]}, {\"name\": \"average_precision_score_macro\", \"run_id\": \"AutoML_d88eb995-19ad-4dd2-819f-9793469cb552\", \"categories\": [0], \"series\": [{\"data\": [0.9998521320365423]}]}, {\"name\": \"norm_macro_recall\", \"run_id\": \"AutoML_d88eb995-19ad-4dd2-819f-9793469cb552\", \"categories\": [0], \"series\": [{\"data\": [0.9961118304366829]}]}, {\"name\": \"AUC_weighted\", \"run_id\": \"AutoML_d88eb995-19ad-4dd2-819f-9793469cb552\", \"categories\": [0], \"series\": [{\"data\": [0.9998490021693204]}]}, {\"name\": \"AUC_micro\", \"run_id\": \"AutoML_d88eb995-19ad-4dd2-819f-9793469cb552\", \"categories\": [0], \"series\": [{\"data\": [0.9998352581614405]}]}, {\"name\": \"f1_score_micro\", \"run_id\": \"AutoML_d88eb995-19ad-4dd2-819f-9793469cb552\", \"categories\": [0], \"series\": [{\"data\": [0.9980857579151635]}]}, {\"name\": \"precision_score_weighted\", \"run_id\": \"AutoML_d88eb995-19ad-4dd2-819f-9793469cb552\", \"categories\": [0], \"series\": [{\"data\": [0.9980893886731159]}]}, {\"name\": \"accuracy\", \"run_id\": \"AutoML_d88eb995-19ad-4dd2-819f-9793469cb552\", \"categories\": [0], \"series\": [{\"data\": [0.9980857579151635]}]}, {\"name\": \"balanced_accuracy\", \"run_id\": \"AutoML_d88eb995-19ad-4dd2-819f-9793469cb552\", \"categories\": [0], \"series\": [{\"data\": [0.9980559152183414]}]}, {\"name\": \"precision_score_macro\", \"run_id\": \"AutoML_d88eb995-19ad-4dd2-819f-9793469cb552\", \"categories\": [0], \"series\": [{\"data\": [0.9981171333022598]}]}, {\"name\": \"precision_score_micro\", \"run_id\": \"AutoML_d88eb995-19ad-4dd2-819f-9793469cb552\", \"categories\": [0], \"series\": [{\"data\": [0.9980857579151635]}]}, {\"name\": \"AUC_macro\", \"run_id\": \"AutoML_d88eb995-19ad-4dd2-819f-9793469cb552\", \"categories\": [0], \"series\": [{\"data\": [0.9998490021693204]}]}, {\"name\": \"log_loss\", \"run_id\": \"AutoML_d88eb995-19ad-4dd2-819f-9793469cb552\", \"categories\": [0], \"series\": [{\"data\": [0.009502622908139875]}]}, {\"name\": \"average_precision_score_micro\", \"run_id\": \"AutoML_d88eb995-19ad-4dd2-819f-9793469cb552\", \"categories\": [0], \"series\": [{\"data\": [0.9998383532350574]}]}, {\"name\": \"matthews_correlation\", \"run_id\": \"AutoML_d88eb995-19ad-4dd2-819f-9793469cb552\", \"categories\": [0], \"series\": [{\"data\": [0.9961730451054066]}]}, {\"name\": \"recall_score_weighted\", \"run_id\": \"AutoML_d88eb995-19ad-4dd2-819f-9793469cb552\", \"categories\": [0], \"series\": [{\"data\": [0.9980857579151635]}]}, {\"name\": \"recall_score_macro\", \"run_id\": \"AutoML_d88eb995-19ad-4dd2-819f-9793469cb552\", \"categories\": [0], \"series\": [{\"data\": [0.9980559152183414]}]}], \"run_logs\": \"\\nRun is completed.\", \"graph\": {}, \"widget_settings\": {\"childWidgetDisplay\": \"popup\", \"send_telemetry\": false, \"log_level\": \"INFO\", \"sdk_version\": \"1.47.0\"}, \"loading\": false}"
          },
          "metadata": {}
        }
      ],
      "execution_count": 9,
      "metadata": {
        "gather": {
          "logged": 1675009655318
        },
        "jupyter": {
          "outputs_hidden": false,
          "source_hidden": false
        },
        "nteract": {
          "transient": {
            "deleting": false
          }
        }
      }
    },
    {
      "cell_type": "code",
      "source": [
        "status = remote_run.wait_for_completion()"
      ],
      "outputs": [],
      "execution_count": 10,
      "metadata": {
        "gather": {
          "logged": 1675009943155
        }
      }
    },
    {
      "cell_type": "markdown",
      "source": [
        "## Best Model\n",
        "\n",
        "TODO: In the cell below, get the best model from the automl experiments and display all the properties of the model.\n",
        "\n"
      ],
      "metadata": {}
    },
    {
      "cell_type": "code",
      "source": [
        "best_run, fitted_model = remote_run.get_output()\n",
        "\n",
        "\n",
        "# Best Run\n",
        "print(\"Best Run: \")\n",
        "print(\"\")\n",
        "\n",
        "# Accuracy\n",
        "print(\"Accuracy: \" + str(best_run.get_metrics()['accuracy']))\n",
        "print(\"\")\n",
        "\n",
        "# Metrics\n",
        "print(\"Metrics: \" + str(best_run.get_metrics()))\n",
        "print(\"\")\n",
        "\n",
        "# Name\n",
        "print(\"Name: \" + str(best_run.properties['model_name']))\n",
        "print(\"\")\n",
        "\n",
        "# Tags\n",
        "print(\"Tags: \" + str(best_run.get_tags()))\n",
        "print(\"\")\n"
      ],
      "outputs": [
        {
          "output_type": "stream",
          "name": "stderr",
          "text": "WARNING:root:The version of the SDK does not match the version the model was trained on.\nWARNING:root:The consistency in the result may not be guaranteed.\nWARNING:root:Package:azureml-automl-core, training version:1.48.0, current version:1.47.0\nPackage:azureml-automl-runtime, training version:1.48.0.post1, current version:1.47.0\nPackage:azureml-core, training version:1.48.0, current version:1.47.0\nPackage:azureml-dataprep, training version:4.8.3, current version:4.5.7\nPackage:azureml-dataprep-rslex, training version:2.15.1, current version:2.11.4\nPackage:azureml-dataset-runtime, training version:1.48.0, current version:1.47.0\nPackage:azureml-defaults, training version:1.48.0, current version:1.47.0\nPackage:azureml-interpret, training version:1.48.0, current version:1.47.0\nPackage:azureml-mlflow, training version:1.48.0, current version:1.47.0\nPackage:azureml-pipeline-core, training version:1.48.0, current version:1.47.0\nPackage:azureml-responsibleai, training version:1.48.0, current version:1.47.0\nPackage:azureml-telemetry, training version:1.48.0, current version:1.47.0\nPackage:azureml-train-automl-client, training version:1.48.0, current version:1.47.0\nPackage:azureml-train-automl-runtime, training version:1.48.0.post1, current version:1.47.0\nPackage:azureml-train-core, training version:1.48.0, current version:1.47.0\nPackage:azureml-train-restclients-hyperdrive, training version:1.48.0, current version:1.47.0\nPackage:azureml-training-tabular, training version:1.48.0, current version:1.47.0\nWARNING:root:Please ensure the version of your local conda dependencies match the version on which your model was trained in order to properly retrieve your model.\n"
        },
        {
          "output_type": "stream",
          "name": "stdout",
          "text": "Best Run: \n\nAccuracy: 0.9980857579151635\n\nMetrics: {'recall_score_weighted': 0.9980857579151635, 'recall_score_macro': 0.9980559152183414, 'precision_score_micro': 0.9980857579151635, 'balanced_accuracy': 0.9980559152183414, 'matthews_correlation': 0.9961730451054066, 'precision_score_macro': 0.9981171333022598, 'AUC_weighted': 0.9998490021693204, 'recall_score_micro': 0.9980857579151635, 'f1_score_micro': 0.9980857579151635, 'AUC_micro': 0.9998352581614405, 'f1_score_macro': 0.99808465009004, 'log_loss': 0.009502622908139875, 'average_precision_score_macro': 0.9998521320365423, 'average_precision_score_weighted': 0.9998520409808986, 'weighted_accuracy': 0.9981155504143329, 'f1_score_weighted': 0.9980857023412864, 'accuracy': 0.9980857579151635, 'norm_macro_recall': 0.9961118304366829, 'average_precision_score_micro': 0.9998383532350574, 'AUC_macro': 0.9998490021693204, 'precision_score_weighted': 0.9980893886731159, 'confusion_matrix': 'aml://artifactId/ExperimentRun/dcid.AutoML_d88eb995-19ad-4dd2-819f-9793469cb552_31/confusion_matrix', 'accuracy_table': 'aml://artifactId/ExperimentRun/dcid.AutoML_d88eb995-19ad-4dd2-819f-9793469cb552_31/accuracy_table'}\n\nName: AutoMLd88eb995131\n\nTags: {'_aml_system_azureml.automlComponent': 'AutoML', '_aml_system_ComputeTargetStatus': '{\"AllocationState\":\"steady\",\"PreparingNodeCount\":0,\"RunningNodeCount\":4,\"CurrentNodeCount\":4}', 'mlflow.source.type': 'JOB', 'mlflow.source.name': 'automl_driver.py', '_aml_system_codegen': 'completed', '_aml_system_automl_is_child_run_end_telemetry_event_logged': 'True', 'model_explain_run_id': 'AutoML_d88eb995-19ad-4dd2-819f-9793469cb552_ModelExplain', 'model_explanation': 'True'}\n\n"
        }
      ],
      "execution_count": 11,
      "metadata": {
        "gather": {
          "logged": 1675009963693
        },
        "jupyter": {
          "outputs_hidden": false,
          "source_hidden": false
        },
        "nteract": {
          "transient": {
            "deleting": false
          }
        }
      }
    },
    {
      "cell_type": "code",
      "source": [
        "# Locate Scoring File\n",
        "best_run.get_file_names()"
      ],
      "outputs": [
        {
          "output_type": "execute_result",
          "execution_count": 12,
          "data": {
            "text/plain": "['accuracy_table',\n 'automl_driver.py',\n 'confusion_matrix',\n 'explanation/6a177125/classes.interpret.json',\n 'explanation/6a177125/expected_values.interpret.json',\n 'explanation/6a177125/features.interpret.json',\n 'explanation/6a177125/global_names/0.interpret.json',\n 'explanation/6a177125/global_rank/0.interpret.json',\n 'explanation/6a177125/global_values/0.interpret.json',\n 'explanation/6a177125/local_importance_values_sparse.interpret.json',\n 'explanation/6a177125/per_class_names/0.interpret.json',\n 'explanation/6a177125/per_class_rank/0.interpret.json',\n 'explanation/6a177125/per_class_values/0.interpret.json',\n 'explanation/6a177125/rich_metadata.interpret.json',\n 'explanation/6a177125/true_ys_viz.interpret.json',\n 'explanation/6a177125/visualization_dict.interpret.json',\n 'explanation/6a177125/ys_pred_proba_viz.interpret.json',\n 'explanation/6a177125/ys_pred_viz.interpret.json',\n 'explanation/db44654c/classes.interpret.json',\n 'explanation/db44654c/eval_data_viz.interpret.json',\n 'explanation/db44654c/expected_values.interpret.json',\n 'explanation/db44654c/features.interpret.json',\n 'explanation/db44654c/global_names/0.interpret.json',\n 'explanation/db44654c/global_rank/0.interpret.json',\n 'explanation/db44654c/global_values/0.interpret.json',\n 'explanation/db44654c/local_importance_values.interpret.json',\n 'explanation/db44654c/per_class_names/0.interpret.json',\n 'explanation/db44654c/per_class_rank/0.interpret.json',\n 'explanation/db44654c/per_class_values/0.interpret.json',\n 'explanation/db44654c/rich_metadata.interpret.json',\n 'explanation/db44654c/true_ys_viz.interpret.json',\n 'explanation/db44654c/visualization_dict.interpret.json',\n 'explanation/db44654c/ys_pred_proba_viz.interpret.json',\n 'explanation/db44654c/ys_pred_viz.interpret.json',\n 'logs/azureml/azureml_automl.log',\n 'outputs/conda_env_v_1_0_0.yml',\n 'outputs/engineered_feature_names.json',\n 'outputs/env_dependencies.json',\n 'outputs/featurization_summary.json',\n 'outputs/generated_code/conda_environment.yaml',\n 'outputs/generated_code/script.py',\n 'outputs/generated_code/script_run_notebook.ipynb',\n 'outputs/internal_cross_validated_models.pkl',\n 'outputs/model.pkl',\n 'outputs/pipeline_graph.json',\n 'outputs/run_id.txt',\n 'outputs/scoring_file_pbi_v_1_0_0.py',\n 'outputs/scoring_file_v_1_0_0.py',\n 'outputs/scoring_file_v_2_0_0.py',\n 'system_logs/cs_capability/cs-capability.log',\n 'system_logs/hosttools_capability/hosttools-capability.log',\n 'system_logs/lifecycler/execution-wrapper.log',\n 'system_logs/lifecycler/lifecycler.log',\n 'system_logs/metrics_capability/metrics-capability.log',\n 'system_logs/snapshot_capability/snapshot-capability.log',\n 'user_logs/std_log.txt']"
          },
          "metadata": {}
        }
      ],
      "execution_count": 12,
      "metadata": {
        "jupyter": {
          "source_hidden": false,
          "outputs_hidden": false
        },
        "nteract": {
          "transient": {
            "deleting": false
          }
        },
        "gather": {
          "logged": 1675009964003
        }
      }
    },
    {
      "cell_type": "code",
      "source": [
        "y_test = test['y']\n",
        "X_test = test.drop(['y'], axis=1)\n",
        "\n",
        "ypred = fitted_model.predict(X_test)\n",
        "cm = confusion_matrix(y_test, ypred)\n",
        "\n",
        "# Visualize the confusion matrix\n",
        "pd.DataFrame(cm).style.background_gradient(cmap='Blues', low=0, high=0.9)"
      ],
      "outputs": [
        {
          "output_type": "execute_result",
          "execution_count": 13,
          "data": {
            "text/plain": "<pandas.io.formats.style.Styler at 0x7ff4e37b5eb0>",
            "text/html": "<style  type=\"text/css\" >\n#T_917a61c0_9ff2_11ed_ba2e_c799e8662e6brow0_col0,#T_917a61c0_9ff2_11ed_ba2e_c799e8662e6brow1_col1{\n            background-color:  #63a8d3;\n            color:  #000000;\n        }#T_917a61c0_9ff2_11ed_ba2e_c799e8662e6brow0_col1,#T_917a61c0_9ff2_11ed_ba2e_c799e8662e6brow1_col0{\n            background-color:  #f7fbff;\n            color:  #000000;\n        }</style><table id=\"T_917a61c0_9ff2_11ed_ba2e_c799e8662e6b\" ><thead>    <tr>        <th class=\"blank level0\" ></th>        <th class=\"col_heading level0 col0\" >0</th>        <th class=\"col_heading level0 col1\" >1</th>    </tr></thead><tbody>\n                <tr>\n                        <th id=\"T_917a61c0_9ff2_11ed_ba2e_c799e8662e6blevel0_row0\" class=\"row_heading level0 row0\" >0</th>\n                        <td id=\"T_917a61c0_9ff2_11ed_ba2e_c799e8662e6brow0_col0\" class=\"data row0 col0\" >976</td>\n                        <td id=\"T_917a61c0_9ff2_11ed_ba2e_c799e8662e6brow0_col1\" class=\"data row0 col1\" >2</td>\n            </tr>\n            <tr>\n                        <th id=\"T_917a61c0_9ff2_11ed_ba2e_c799e8662e6blevel0_row1\" class=\"row_heading level0 row1\" >1</th>\n                        <td id=\"T_917a61c0_9ff2_11ed_ba2e_c799e8662e6brow1_col0\" class=\"data row1 col0\" >1</td>\n                        <td id=\"T_917a61c0_9ff2_11ed_ba2e_c799e8662e6brow1_col1\" class=\"data row1 col1\" >981</td>\n            </tr>\n    </tbody></table>"
          },
          "metadata": {}
        }
      ],
      "execution_count": 13,
      "metadata": {
        "gather": {
          "logged": 1675009968600
        }
      }
    },
    {
      "cell_type": "code",
      "source": [
        "#TODO: Save the best model\n",
        "joblib.dump(fitted_model, filename='automl_best_model.joblib')\n",
        "\n",
        "# Register the best model\n",
        "model_name = best_run.properties['model_name']\n",
        "model = remote_run.register_model(model_name=model_name)"
      ],
      "outputs": [],
      "execution_count": 14,
      "metadata": {
        "jupyter": {
          "source_hidden": false,
          "outputs_hidden": false
        },
        "nteract": {
          "transient": {
            "deleting": false
          }
        },
        "gather": {
          "logged": 1675009997881
        }
      }
    },
    {
      "cell_type": "markdown",
      "source": [
        "## Model Deployment\n",
        "\n",
        "Remember you have to deploy only one of the two models you trained but you still need to register both the models. Perform the steps in the rest of this notebook only if you wish to deploy this model.\n",
        "\n",
        "TODO: In the cell below, register the model, create an inference config and deploy the model as a web service."
      ],
      "metadata": {}
    },
    {
      "cell_type": "code",
      "source": [
        "# Download Scoring File\n",
        "best_run.download_file('outputs/scoring_file_v_1_0_0.py','score.py')"
      ],
      "outputs": [],
      "execution_count": 15,
      "metadata": {
        "jupyter": {
          "source_hidden": false,
          "outputs_hidden": false
        },
        "nteract": {
          "transient": {
            "deleting": false
          }
        },
        "gather": {
          "logged": 1675010002560
        }
      }
    },
    {
      "cell_type": "code",
      "source": [
        "environment = best_run.get_environment().save_to_directory(path='environment')\n",
        "entry_script= 'score.py'\n",
        "inference_config = InferenceConfig(entry_script = entry_script, environment=environment)\n",
        "deployment_config = AciWebservice.deploy_configuration(cpu_cores=1, memory_gb=1)\n",
        "\n",
        "service = Model.deploy(workspace=ws,\n",
        "                    name=\"wine-webservice\",\n",
        "                    models=[model],\n",
        "                    inference_config=inference_config,\n",
        "                    deployment_config=deployment_config)\n",
        "\n",
        "service.wait_for_deployment(show_output=True)"
      ],
      "outputs": [
        {
          "output_type": "stream",
          "name": "stdout",
          "text": "Tips: You can try get_logs(): https://aka.ms/debugimage#dockerlog or local deployment: https://aka.ms/debugimage#debug-locally to debug if deployment takes longer than 10 minutes.\nRunning\n2023-01-29 16:52:31+00:00 Creating Container Registry if not exists.\n2023-01-29 16:52:32+00:00 Use the existing image.\n2023-01-29 16:52:33+00:00 Submitting deployment to compute.\n2023-01-29 16:52:36+00:00 Checking the status of deployment wine-webservice..\n2023-01-29 16:57:14+00:00 Checking the status of inference endpoint wine-webservice.\nSucceeded\nACI service creation operation finished, operation \"Succeeded\"\n"
        }
      ],
      "execution_count": 19,
      "metadata": {
        "gather": {
          "logged": 1675011472953
        },
        "jupyter": {
          "outputs_hidden": false,
          "source_hidden": false
        },
        "nteract": {
          "transient": {
            "deleting": false
          }
        }
      }
    },
    {
      "attachments": {},
      "cell_type": "markdown",
      "source": [
        "## Interacting with the endpoint\n",
        "TODO: In the cell below, send a request to the web service you deployed to test it."
      ],
      "metadata": {
        "collapsed": true,
        "gather": {
          "logged": 1598431657736
        },
        "jupyter": {
          "outputs_hidden": false,
          "source_hidden": false
        },
        "nteract": {
          "transient": {
            "deleting": false
          }
        }
      }
    },
    {
      "cell_type": "code",
      "source": [
        "url = service.scoring_uri\n",
        "print(url)\n",
        "\n",
        "test_payloads = [\n",
        "    {\n",
        "    'fixed acidity': 6.6,\n",
        "    'volatile acidity': 0.84,\n",
        "    'citric acid': 0.03,\n",
        "    'residual sugar': 2.3,\n",
        "    'chlorides': 0.059,\n",
        "    'free sulfur dioxide': 32.0,\n",
        "    'total sulfur dioxide': 48.0,\n",
        "    'density': 0.9952,\n",
        "    'pH': 3.52,\n",
        "    'sulphates': 0.56,\n",
        "    'alcohol': 12.3,\n",
        "    'quality': 7\n",
        "    },\n",
        "    {\n",
        "    'fixed acidity': 6.0,\n",
        "    'volatile acidity': 0.2,\n",
        "    'citric acid': 0.26,\n",
        "    'residual sugar': 1.1,\n",
        "    'chlorides': 0.033,\n",
        "    'free sulfur dioxide': 38.0,\n",
        "    'total sulfur dioxide': 67.0,\n",
        "    'density': 0.98954,\n",
        "    'pH': 3.14,\n",
        "    'sulphates': 0.38,\n",
        "    'alcohol': 11.5,\n",
        "    'quality': 6\n",
        "    }\n",
        "]\n",
        "\n",
        "for payload in test_payloads:\n",
        "\n",
        "    test_payload = {\"data\":[payload]}\n",
        "    input_data = json.dumps(test_payload)\n",
        "    print(input_data)\n",
        "\n",
        "    output = requests.post(url, input_data, headers={'Content-Type': 'application/json'})\n",
        "    print(output.json())\n"
      ],
      "outputs": [
        {
          "output_type": "stream",
          "name": "stdout",
          "text": "http://c632af4d-ed3a-4d41-9e55-524e08e860c7.southcentralus.azurecontainer.io/score\n{\"data\": [{\"fixed acidity\": 6.6, \"volatile acidity\": 0.84, \"citric acid\": 0.03, \"residual sugar\": 2.3, \"chlorides\": 0.059, \"free sulfur dioxide\": 32.0, \"total sulfur dioxide\": 48.0, \"density\": 0.9952, \"pH\": 3.52, \"sulphates\": 0.56, \"alcohol\": 12.3, \"quality\": 7}]}\n{\"result\": [1]}\n{\"data\": [{\"fixed acidity\": 6.0, \"volatile acidity\": 0.2, \"citric acid\": 0.26, \"residual sugar\": 1.1, \"chlorides\": 0.033, \"free sulfur dioxide\": 38.0, \"total sulfur dioxide\": 67.0, \"density\": 0.98954, \"pH\": 3.14, \"sulphates\": 0.38, \"alcohol\": 11.5, \"quality\": 6}]}\n{\"result\": [0]}\n"
        }
      ],
      "execution_count": 20,
      "metadata": {
        "gather": {
          "logged": 1675011473107
        },
        "jupyter": {
          "outputs_hidden": false,
          "source_hidden": false
        },
        "nteract": {
          "transient": {
            "deleting": false
          }
        }
      }
    },
    {
      "cell_type": "code",
      "source": [
        "# Look at service logs\n",
        "print(service.get_logs())"
      ],
      "outputs": [
        {
          "output_type": "stream",
          "name": "stdout",
          "text": "2023-01-29T16:56:54,713302900+00:00 - rsyslog/run \n2023-01-29T16:56:54,713333600+00:00 - iot-server/run \n2023-01-29T16:56:54,715042200+00:00 - gunicorn/run \n2023-01-29T16:56:54,717292900+00:00 | gunicorn/run | \n2023-01-29T16:56:54,723941800+00:00 | gunicorn/run | ###############################################\n2023-01-29T16:56:54,725799600+00:00 | gunicorn/run | AzureML Container Runtime Information\n2023-01-29T16:56:54,733135100+00:00 | gunicorn/run | ###############################################\n2023-01-29T16:56:54,734835400+00:00 | gunicorn/run | \n2023-01-29T16:56:54,741906400+00:00 | gunicorn/run | \n2023-01-29T16:56:54,757352500+00:00 | gunicorn/run | AzureML image information: openmpi3.1.2-ubuntu18.04, Materializaton Build:20230103.v4\n2023-01-29T16:56:54,761895500+00:00 | gunicorn/run | \n2023-01-29T16:56:54,763993200+00:00 | gunicorn/run | \n2023-01-29T16:56:54,771473100+00:00 | gunicorn/run | PATH environment variable: /azureml-envs/azureml_cc96bffb210e59c36dafe3fe23d9a95e/bin:/opt/miniconda/bin:/usr/local/sbin:/usr/local/bin:/usr/sbin:/usr/bin:/sbin:/bin\n2023-01-29T16:56:54,773303300+00:00 | gunicorn/run | PYTHONPATH environment variable: \n2023-01-29T16:56:54,775079300+00:00 | gunicorn/run | \n2023-01-29T16:56:54,785339800+00:00 - nginx/run \n2023-01-29T16:56:54,788383600+00:00 | gunicorn/run | Pip Dependencies (before dynamic installation)\n\nEdgeHubConnectionString and IOTEDGE_IOTHUBHOSTNAME are not set. Exiting...\n2023-01-29T16:56:56,187761166+00:00 - iot-server/finish 1 0\n2023-01-29T16:56:56,193708036+00:00 - Exit code 1 is normal. Not restarting iot-server.\nadal==1.2.7\napplicationinsights==0.11.10\nargcomplete==2.0.0\narviz @ file:///home/conda/feedstock_root/build_artifacts/arviz_1666645025910/work\nattrs==22.2.0\nazure-common==1.1.28\nazure-core==1.26.2\nazure-graphrbac==0.61.1\nazure-identity==1.12.0\nazure-mgmt-authorization==3.0.0\nazure-mgmt-containerregistry==10.0.0\nazure-mgmt-core==1.3.2\nazure-mgmt-keyvault==10.1.0\nazure-mgmt-resource==21.2.1\nazure-mgmt-storage==20.1.0\nazure-storage-blob==12.13.0\nazure-storage-queue==12.5.0\nazureml-automl-core==1.48.0\nazureml-automl-runtime==1.48.0.post1\nazureml-core==1.48.0\nazureml-dataprep==4.8.3\nazureml-dataprep-native==38.0.0\nazureml-dataprep-rslex==2.15.1\nazureml-dataset-runtime==1.48.0\nazureml-defaults==1.48.0\nazureml-inference-server-http==0.7.7\nazureml-interpret==1.48.0\nazureml-mlflow==1.48.0\nazureml-pipeline-core==1.48.0\nazureml-responsibleai==1.48.0\nazureml-telemetry==1.48.0\nazureml-train-automl-client==1.48.0\nazureml-train-automl-runtime==1.48.0.post1\nazureml-train-core==1.48.0\nazureml-train-restclients-hyperdrive==1.48.0\nazureml-training-tabular==1.48.0\nbackcall==0.2.0\nbackports.tempfile==1.0\nbackports.weakref==1.0.post1\nbcrypt==4.0.1\nbokeh==2.4.3\nboto==2.49.0\nboto3 @ file:///home/conda/feedstock_root/build_artifacts/boto3_1602889982367/work\nbotocore @ file:///home/conda/feedstock_root/build_artifacts/botocore_1602884371056/work\nbrotlipy @ file:///home/conda/feedstock_root/build_artifacts/brotlipy_1648854164153/work\ncachetools==5.2.1\ncertifi==2022.12.7\ncffi @ file:///home/conda/feedstock_root/build_artifacts/cffi_1625835301720/work\ncftime @ file:///home/conda/feedstock_root/build_artifacts/cftime_1663606412550/work\ncharset-normalizer==3.0.1\nclick @ file:///home/conda/feedstock_root/build_artifacts/click_1645238117885/work\ncloudpickle @ file:///home/conda/feedstock_root/build_artifacts/cloudpickle_1598400192773/work\ncolorama @ file:///home/conda/feedstock_root/build_artifacts/colorama_1666700638685/work\ncontextlib2==21.6.0\nconvertdate @ file:///home/conda/feedstock_root/build_artifacts/convertdate_1642883757836/work\ncryptography @ file:///home/conda/feedstock_root/build_artifacts/cryptography_1666563349571/work\ncycler @ file:///home/conda/feedstock_root/build_artifacts/cycler_1635519461629/work\nCython==0.29.17\ndask==2021.6.0\ndatabricks-cli==0.17.4\ndataclasses==0.6\ndebugpy==1.6.5\ndecorator==5.1.1\ndice-ml==0.9\ndill==0.3.6\ndistributed==2021.6.0\ndistro==1.8.0\ndocker==6.0.1\ndotnetcore2==3.1.23\neconml==0.14.0\nentrypoints==0.4\nephem @ file:///home/conda/feedstock_root/build_artifacts/ephem_1649637195901/work\nerroranalysis==0.3.13\nfairlearn==0.7.0\nfbprophet @ file:///home/conda/feedstock_root/build_artifacts/fbprophet_1599365534439/work\nfire==0.5.0\nFlask==2.2.2\nFlask-Cors==3.0.10\nflatbuffers==23.1.4\nfonttools @ file:///home/conda/feedstock_root/build_artifacts/fonttools_1666389892786/work\nfsspec==2022.11.0\ngensim==3.8.3\ngitdb==4.0.10\nGitPython==3.1.30\ngoogle-api-core==2.11.0\ngoogle-auth==2.16.0\ngoogleapis-common-protos==1.58.0\ngunicorn==20.1.0\nh5py==3.7.0\nHeapDict==1.0.1\nholidays @ file:///home/conda/feedstock_root/build_artifacts/holidays_1595448845196/work\nhumanfriendly==10.0\nidna @ file:///home/conda/feedstock_root/build_artifacts/idna_1663625384323/work\nimportlib-metadata @ file:///home/conda/feedstock_root/build_artifacts/importlib-metadata_1653252814274/work\nimportlib-resources==5.10.2\ninference-schema==1.5.1\ninterpret-community==0.27.0\ninterpret-core==0.2.7\nipykernel==6.6.0\nipython==7.34.0\nisodate==0.6.1\nitsdangerous==2.1.2\njedi==0.18.2\njeepney==0.8.0\nJinja2==3.1.2\njmespath @ file:///home/conda/feedstock_root/build_artifacts/jmespath_1589369830981/work\njoblib @ file:///home/conda/feedstock_root/build_artifacts/joblib_1589548394565/work\njsonpickle==2.2.0\njsonschema==4.17.3\njupyter-client==7.4.9\njupyter-core==4.12.0\nkeras2onnx==1.6.0\nkiwisolver @ file:///home/conda/feedstock_root/build_artifacts/kiwisolver_1657953088445/work\nknack==0.10.1\nkorean-lunar-calendar @ file:///home/conda/feedstock_root/build_artifacts/korean_lunar_calendar_1663341251025/work\nlightgbm==3.2.1\nllvmlite==0.38.1\nlocket==1.0.0\nLunarCalendar==0.0.9\nMarkupSafe==2.0.1\nmatplotlib @ file:///home/conda/feedstock_root/build_artifacts/matplotlib-suite_1661439848456/work\nmatplotlib-inline==0.1.6\nml-wrappers==0.2.2\nmlflow-skinny==1.30.0\nmpi4py==3.1.3\nmsal==1.20.0\nmsal-extensions==1.0.0\nmsgpack==1.0.4\nmsrest==0.7.1\nmsrestazure==0.6.4\nmunkres==1.1.4\nndg-httpsclient==0.5.1\nnest-asyncio==1.5.6\nnetCDF4 @ file:///home/conda/feedstock_root/build_artifacts/netcdf4_1663234155476/work\nnetworkx==2.5\nnimbusml==1.8.0\nnumba==0.55.2\nnumpy @ file:///home/conda/feedstock_root/build_artifacts/numpy_1649806299270/work\noauthlib==3.2.2\nonnx==1.12.0\nonnxconverter-common==1.6.0\nonnxmltools==1.4.1\nonnxruntime==1.11.1\nopencensus==0.11.0\nopencensus-context==0.1.3\nopencensus-ext-azure==1.1.7\npackaging==21.3\npandas==1.1.5\nparamiko==2.12.0\nparso==0.8.3\npartd==1.3.0\npathspec==0.10.3\npatsy==0.5.3\npexpect==4.8.0\npickleshare==0.7.5\nPillow @ file:///home/conda/feedstock_root/build_artifacts/pillow_1660385854171/work\npkginfo==1.9.6\npkgutil-resolve-name==1.3.10\npmdarima==1.7.1\nportalocker==2.6.0\nprompt-toolkit==3.0.36\nprotobuf==3.20.1\npsutil @ file:///home/conda/feedstock_root/build_artifacts/psutil_1666155398032/work\nptyprocess==0.7.0\npy-cpuinfo==5.0.0\npyarrow==9.0.0\npyasn1==0.4.8\npyasn1-modules==0.2.8\npycparser @ file:///home/conda/feedstock_root/build_artifacts/pycparser_1636257122734/work\nPygments==2.14.0\nPyJWT==2.6.0\nPyMeeus @ file:///home/conda/feedstock_root/build_artifacts/pymeeus_1670868433998/work\nPyNaCl==1.5.0\npyOpenSSL==22.1.0\npyparsing @ file:///home/conda/feedstock_root/build_artifacts/pyparsing_1652235407899/work\npyrsistent==0.19.3\nPySocks @ file:///home/conda/feedstock_root/build_artifacts/pysocks_1648857264451/work\npystan @ file:///home/conda/feedstock_root/build_artifacts/pystan_1598392733373/work\npython-dateutil @ file:///home/conda/feedstock_root/build_artifacts/python-dateutil_1626286286081/work\npytz @ file:///home/conda/feedstock_root/build_artifacts/pytz_1671365381334/work\nPyYAML==6.0\npyzmq==25.0.0\nraiutils==0.3.0\nrequests==2.28.2\nrequests-oauthlib==1.3.1\nresponsibleai==0.23.0\nrsa==4.9\ns3transfer @ file:///home/conda/feedstock_root/build_artifacts/s3transfer_1618355402893/work\nscikit-learn==0.22.1\nscipy==1.5.3\nSecretStorage==3.3.3\nsemver==2.13.0\nsetuptools-git==1.2\nshap==0.39.0\nsix @ file:///home/conda/feedstock_root/build_artifacts/six_1620240208055/work\nskl2onnx==1.4.9\nsklearn-pandas==1.7.0\nslicer==0.0.7\nsmart-open==1.9.0\nsmmap==5.0.0\nsortedcontainers==2.4.0\nsparse==0.13.0\nsqlparse==0.4.3\nstatsmodels==0.11.1\ntabulate==0.9.0\ntblib==1.7.0\ntermcolor==2.2.0\ntoolz==0.12.0\ntornado==6.2\ntqdm @ file:///home/conda/feedstock_root/build_artifacts/tqdm_1662214488106/work\ntraitlets==5.8.1\ntyping-extensions @ file:///home/conda/feedstock_root/build_artifacts/typing_extensions_1665144421445/work\nunicodedata2 @ file:///home/conda/feedstock_root/build_artifacts/unicodedata2_1649111917568/work\nurllib3 @ file:///home/conda/feedstock_root/build_artifacts/urllib3_1603125704209/work\nwcwidth==0.2.5\nwebsocket-client==1.4.2\nWerkzeug==2.2.2\nwrapt==1.12.1\nxarray @ file:///home/conda/feedstock_root/build_artifacts/xarray_1639125986756/work\nxarray-einstats @ file:///home/conda/feedstock_root/build_artifacts/xarray-einstats_1648967091347/work\nxgboost==1.3.3\nzict==2.2.0\nzipp @ file:///home/conda/feedstock_root/build_artifacts/zipp_1669453021653/work\n\n2023-01-29T16:56:58,896578374+00:00 | gunicorn/run | \n2023-01-29T16:56:58,901106477+00:00 | gunicorn/run | ###############################################\n2023-01-29T16:56:58,904931980+00:00 | gunicorn/run | AzureML Inference Server\n2023-01-29T16:56:58,907346581+00:00 | gunicorn/run | ###############################################\n2023-01-29T16:56:58,912711185+00:00 | gunicorn/run | \n2023-01-29T16:57:02,703889214+00:00 | gunicorn/run | Starting AzureML Inference Server HTTP.\n\nAzure ML Inferencing HTTP server v0.7.7\n\n\nServer Settings\n---------------\nEntry Script Name: /var/azureml-app/main.py\nModel Directory: /var/azureml-app/azureml-models/AutoMLd88eb995131/1\nWorker Count: 1\nWorker Timeout (seconds): 300\nServer Port: 31311\nApplication Insights Enabled: false\nApplication Insights Key: None\nInferencing HTTP server version: azmlinfsrv/0.7.7\nCORS for the specified origins: None\n\n\nServer Routes\n---------------\nLiveness Probe: GET   127.0.0.1:31311/\nScore:          POST  127.0.0.1:31311/score\n\nStarting gunicorn 20.1.0\nListening at: http://0.0.0.0:31311 (79)\nUsing worker: sync\nBooting worker with pid: 135\nInitializing logger\n2023-01-29 16:57:05,688 | root | INFO | Starting up app insights client\nlogging socket was found. logging is available.\nlogging socket was found. logging is available.\n2023-01-29 16:57:05,689 | root | INFO | Starting up app insight hooks\n2023-01-29 16:57:08,834 | root | INFO | Found driver script at /var/azureml-app/main.py and the score script at /var/azureml-app/score.py\n2023-01-29 16:57:08,835 | root | INFO | run() is decorated with @input_schema. Server will invoke it with the following arguments: data, method.\n2023-01-29 16:57:08,835 | root | INFO | Invoking user's init function\ngenerated new fontManager\nImporting plotly failed. Interactive plots will not work.\n2023-01-29 16:57:34,294 | azureml.core | WARNING | Failure while loading azureml_run_type_providers. Failed to load entrypoint azureml.scriptrun = azureml.core.script_run:ScriptRun._from_run_dto with exception (urllib3 1.25.11 (/azureml-envs/azureml_cc96bffb210e59c36dafe3fe23d9a95e/lib/python3.7/site-packages), Requirement.parse('urllib3>=1.26.0'), {'docker'}).\nFailure while loading azureml_run_type_providers. Failed to load entrypoint azureml.scriptrun = azureml.core.script_run:ScriptRun._from_run_dto with exception (urllib3 1.25.11 (/azureml-envs/azureml_cc96bffb210e59c36dafe3fe23d9a95e/lib/python3.7/site-packages), Requirement.parse('urllib3>=1.26.0'), {'docker'}).\n2023-01-29 16:57:34,322 | azureml.core | WARNING | Failure while loading azureml_run_type_providers. Failed to load entrypoint azureml.PipelineRun = azureml.pipeline.core.run:PipelineRun._from_dto with exception (urllib3 1.25.11 (/azureml-envs/azureml_cc96bffb210e59c36dafe3fe23d9a95e/lib/python3.7/site-packages), Requirement.parse('urllib3>=1.26.0'), {'docker'}).\nFailure while loading azureml_run_type_providers. Failed to load entrypoint azureml.PipelineRun = azureml.pipeline.core.run:PipelineRun._from_dto with exception (urllib3 1.25.11 (/azureml-envs/azureml_cc96bffb210e59c36dafe3fe23d9a95e/lib/python3.7/site-packages), Requirement.parse('urllib3>=1.26.0'), {'docker'}).\n2023-01-29 16:57:34,350 | azureml.core | WARNING | Failure while loading azureml_run_type_providers. Failed to load entrypoint azureml.ReusedStepRun = azureml.pipeline.core.run:StepRun._from_reused_dto with exception (urllib3 1.25.11 (/azureml-envs/azureml_cc96bffb210e59c36dafe3fe23d9a95e/lib/python3.7/site-packages), Requirement.parse('urllib3>=1.26.0'), {'docker'}).\nFailure while loading azureml_run_type_providers. Failed to load entrypoint azureml.ReusedStepRun = azureml.pipeline.core.run:StepRun._from_reused_dto with exception (urllib3 1.25.11 (/azureml-envs/azureml_cc96bffb210e59c36dafe3fe23d9a95e/lib/python3.7/site-packages), Requirement.parse('urllib3>=1.26.0'), {'docker'}).\n2023-01-29 16:57:34,371 | azureml.core | WARNING | Failure while loading azureml_run_type_providers. Failed to load entrypoint azureml.StepRun = azureml.pipeline.core.run:StepRun._from_dto with exception (urllib3 1.25.11 (/azureml-envs/azureml_cc96bffb210e59c36dafe3fe23d9a95e/lib/python3.7/site-packages), Requirement.parse('urllib3>=1.26.0'), {'docker'}).\nFailure while loading azureml_run_type_providers. Failed to load entrypoint azureml.StepRun = azureml.pipeline.core.run:StepRun._from_dto with exception (urllib3 1.25.11 (/azureml-envs/azureml_cc96bffb210e59c36dafe3fe23d9a95e/lib/python3.7/site-packages), Requirement.parse('urllib3>=1.26.0'), {'docker'}).\n2023-01-29 16:57:34,469 | azureml.core | WARNING | Failure while loading azureml_run_type_providers. Failed to load entrypoint automl = azureml.train.automl.run:AutoMLRun._from_run_dto with exception (urllib3 1.25.11 (/azureml-envs/azureml_cc96bffb210e59c36dafe3fe23d9a95e/lib/python3.7/site-packages), Requirement.parse('urllib3>=1.26.0'), {'docker'}).\nFailure while loading azureml_run_type_providers. Failed to load entrypoint automl = azureml.train.automl.run:AutoMLRun._from_run_dto with exception (urllib3 1.25.11 (/azureml-envs/azureml_cc96bffb210e59c36dafe3fe23d9a95e/lib/python3.7/site-packages), Requirement.parse('urllib3>=1.26.0'), {'docker'}).\n2023-01-29 16:57:34,488 | azureml.core | WARNING | Failure while loading azureml_run_type_providers. Failed to load entrypoint hyperdrive = azureml.train.hyperdrive:HyperDriveRun._from_run_dto with exception (urllib3 1.25.11 (/azureml-envs/azureml_cc96bffb210e59c36dafe3fe23d9a95e/lib/python3.7/site-packages), Requirement.parse('urllib3>=1.26.0'), {'docker'}).\nFailure while loading azureml_run_type_providers. Failed to load entrypoint hyperdrive = azureml.train.hyperdrive:HyperDriveRun._from_run_dto with exception (urllib3 1.25.11 (/azureml-envs/azureml_cc96bffb210e59c36dafe3fe23d9a95e/lib/python3.7/site-packages), Requirement.parse('urllib3>=1.26.0'), {'docker'}).\n2023-01-29 16:57:38,262 | root | INFO | Users's init has completed successfully\n2023-01-29 16:57:38,270 | root | INFO | Swaggers are prepared for the following versions: [2, 3].\n2023-01-29 16:57:38,270 | root | INFO | Scoring timeout is found from os.environ: 60000 ms\n2023-01-29 16:57:38,271 | root | INFO | AML_FLASK_ONE_COMPATIBILITY is set. Patched Flask to ensure compatibility with Flask 1.\n2023-01-29 16:57:48,766 | root | INFO | 200\n127.0.0.1 - - [29/Jan/2023:16:57:48 +0000] \"GET /swagger.json HTTP/1.0\" 200 3624 \"-\" \"Go-http-client/1.1\"\n2023-01-29 16:57:53,020 | root | INFO | 200\n127.0.0.1 - - [29/Jan/2023:16:57:53 +0000] \"GET /swagger.json HTTP/1.0\" 200 3624 \"-\" \"Go-http-client/1.1\"\n2023-01-29 16:57:53,360 | root | INFO | 200\n127.0.0.1 - - [29/Jan/2023:16:57:53 +0000] \"POST /score HTTP/1.0\" 200 19 \"-\" \"python-requests/2.28.1\"\n2023-01-29 16:57:53,481 | root | INFO | 200\n127.0.0.1 - - [29/Jan/2023:16:57:53 +0000] \"POST /score HTTP/1.0\" 200 19 \"-\" \"python-requests/2.28.1\"\n\n"
        }
      ],
      "execution_count": 21,
      "metadata": {
        "gather": {
          "logged": 1675011473867
        }
      }
    },
    {
      "cell_type": "markdown",
      "source": [
        "TODO: In the cell below, print the logs of the web service and delete the service"
      ],
      "metadata": {
        "collapsed": true,
        "gather": {
          "logged": 1598432765711
        },
        "jupyter": {
          "outputs_hidden": false,
          "source_hidden": false
        },
        "nteract": {
          "transient": {
            "deleting": false
          }
        }
      }
    },
    {
      "cell_type": "code",
      "source": [
        "service.delete()"
      ],
      "outputs": [],
      "execution_count": 22,
      "metadata": {
        "jupyter": {
          "outputs_hidden": false,
          "source_hidden": false
        },
        "nteract": {
          "transient": {
            "deleting": false
          }
        },
        "gather": {
          "logged": 1675017818097
        }
      }
    },
    {
      "cell_type": "markdown",
      "source": [
        "**Submission Checklist**\n",
        "- I have registered the model.\n",
        "- I have deployed the model with the best accuracy as a webservice.\n",
        "- I have tested the webservice by sending a request to the model endpoint.\n",
        "- I have deleted the webservice and shutdown all the computes that I have used.\n",
        "- I have taken a screenshot showing the model endpoint as active.\n",
        "- The project includes a file containing the environment details.\n"
      ],
      "metadata": {}
    },
    {
      "cell_type": "markdown",
      "source": [],
      "metadata": {}
    }
  ],
  "metadata": {
    "kernel_info": {
      "name": "python3"
    },
    "kernelspec": {
      "name": "python3",
      "language": "python",
      "display_name": "Python 3 (ipykernel)"
    },
    "language_info": {
      "name": "python",
      "version": "3.8.5",
      "mimetype": "text/x-python",
      "codemirror_mode": {
        "name": "ipython",
        "version": 3
      },
      "pygments_lexer": "ipython3",
      "nbconvert_exporter": "python",
      "file_extension": ".py"
    },
    "nteract": {
      "version": "nteract-front-end@1.0.0"
    },
    "vscode": {
      "interpreter": {
        "hash": "c51c08607ff8cd9207d91601d63430099d9812bcf1d743ac27aa576a2536f0ea"
      }
    },
    "microsoft": {
      "host": {
        "AzureML": {
          "notebookHasBeenCompleted": true
        }
      }
    }
  },
  "nbformat": 4,
  "nbformat_minor": 2
}