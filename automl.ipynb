{
  "cells": [
    {
      "cell_type": "markdown",
      "source": [
        "# Automated ML\n",
        "\n",
        "TODO: Import Dependencies. In the cell below, import all the dependencies that you will need to complete the project."
      ],
      "metadata": {}
    },
    {
      "cell_type": "code",
      "source": [
        "from azureml.core.environment import Environment\n",
        "from azureml.core.conda_dependencies import CondaDependencies\n",
        "from azureml.core.experiment import Experiment\n",
        "from azureml.core.workspace import Workspace\n",
        "from azureml.core.dataset import Dataset\n",
        "from azureml.data.dataset_factory import TabularDatasetFactory\n",
        "from azureml.core.compute import AmlCompute\n",
        "from azureml.core.compute import ComputeTarget\n",
        "from azureml.core.compute_target import ComputeTargetException\n",
        "from azureml.core.model import Model\n",
        "from sklearn.model_selection import train_test_split\n",
        "from azureml.widgets import RunDetails\n",
        "from azureml.train.automl import AutoMLConfig\n",
        "from azureml.core.webservice import LocalWebservice\n",
        "from azureml.core.webservice import Webservice, AciWebservice\n",
        "from azureml.core.model import InferenceConfig\n",
        "from azureml.automl.core.shared import constants\n",
        "from sklearn.metrics import confusion_matrix\n",
        "from sklearn.utils import resample\n",
        "import numpy as np\n",
        "import pandas as pd\n",
        "import requests\n",
        "import joblib\n",
        "import json\n",
        "import logging"
      ],
      "outputs": [],
      "execution_count": 1,
      "metadata": {
        "gather": {
          "logged": 1674950298465
        },
        "jupyter": {
          "outputs_hidden": false,
          "source_hidden": false
        },
        "nteract": {
          "transient": {
            "deleting": false
          }
        }
      }
    },
    {
      "attachments": {},
      "cell_type": "markdown",
      "source": [
        "## Dataset\n",
        "\n",
        "\n",
        "### Overview\n",
        "TODO: In this markdown cell, give an overview of the dataset you are using. Also mention the task you will be performing.\n",
        "\n",
        "## Dataset\n",
        "\n",
        "The Wine Quality Datasets have been taken from the UCI Machine Learning Repository. The data is broken up into two individual datasets, one for red wines and the other for white wines. The red wine dataset contains 1599 examples while the white wine dataset has 4898 examples. Both datserts have the same 12 attributes as follows:\n",
        "\n",
        "Attribute information:\n",
        "\n",
        "For more information, read [Cortez et al., 2009].\n",
        "\n",
        "Input variables (based on physicochemical tests):\n",
        "1 - fixed acidity\n",
        "2 - volatile acidity\n",
        "3 - citric acid\n",
        "4 - residual sugar\n",
        "5 - chlorides\n",
        "6 - free sulfur dioxide\n",
        "7 - total sulfur dioxide\n",
        "8 - density\n",
        "9 - pH\n",
        "10 - sulphates\n",
        "11 - alcohol\n",
        "Output variable (based on sensory data): \n",
        "12 - quality (score between 0 and 10)\n",
        "\n",
        "There are no missing values. I will be combining these datasets into one dataset and using AutoML to predict if a wine is red or white.\n",
        "\n",
        "This dataset is public and available for research. I have included the citation below as requested:\n",
        "\n",
        "P. Cortez, A. Cerdeira, F. Almeida, T. Matos and J. Reis. \n",
        "Modeling wine preferences by data mining from physicochemical properties.\n",
        "In Decision Support Systems, Elsevier, 47(4):547-553. ISSN: 0167-9236.\n",
        "\n",
        "Available at: [@Elsevier] http://dx.doi.org/10.1016/j.dss.2009.05.016\n",
        "            [Pre-press (pdf)] http://www3.dsi.uminho.pt/pcortez/winequality09.pdf\n",
        "            [bib] http://www3.dsi.uminho.pt/pcortez/dss09.bib\n",
        "            \n",
        "\n",
        "\n",
        "TODO: Get data. In the cell below, write code to access the data you will be using in this project. Remember that the dataset needs to be external."
      ],
      "metadata": {}
    },
    {
      "cell_type": "code",
      "source": [
        "ws = Workspace.from_config()\n",
        "\n",
        "# choose a name for experiment\n",
        "experiment_name = 'Wine_Evaluation_AutoMl'\n",
        "\n",
        "experiment=Experiment(ws, experiment_name)"
      ],
      "outputs": [],
      "execution_count": 2,
      "metadata": {
        "gather": {
          "logged": 1674950300925
        },
        "jupyter": {
          "outputs_hidden": false,
          "source_hidden": false
        },
        "nteract": {
          "transient": {
            "deleting": false
          }
        }
      }
    },
    {
      "cell_type": "code",
      "source": [
        "cluster_name = \"automl-capstone-cluster\"\n",
        "\n",
        "# TODO: Create compute cluster\n",
        "# Use vm_size = \"Standard_D2_V2\" in your provisioning configuration.\n",
        "# max_nodes should be no greater than 4.\n",
        "\n",
        "vm_size = \"Standard_D2_V2\"\n",
        "max_nodes = 4\n",
        "\n",
        "try:\n",
        "    compute_target = ComputeTarget(workspace=ws, name=cluster_name)\n",
        "    print('Found existing cluster, using it.')\n",
        "except:\n",
        "    compute_config = AmlCompute.provisioning_configuration(vm_size=vm_size, max_nodes=max_nodes)\n",
        "    compute_target = ComputeTarget.create(ws, cluster_name, compute_config)\n",
        "\n",
        "compute_target.wait_for_completion(show_output=True)"
      ],
      "outputs": [
        {
          "output_type": "stream",
          "name": "stdout",
          "text": "Found existing cluster, using it.\nSucceeded\nAmlCompute wait for completion finished\n\nMinimum number of nodes requested have been provisioned\n"
        }
      ],
      "execution_count": 3,
      "metadata": {
        "gather": {
          "logged": 1674950301214
        }
      }
    },
    {
      "cell_type": "code",
      "source": [
        "dataset_name = 'winequality'\n",
        "\n",
        "# Check Registry\n",
        "if dataset_name in ws.datasets.keys(): \n",
        "    dataset = ws.datasets[dataset_name] \n",
        "\n",
        "    print(f'Located {dataset_name} in Registry.')\n",
        "\n",
        "# Read from UCI ML Repository\n",
        "else:\n",
        "# Read data\n",
        "    red = pd.read_csv('https://archive.ics.uci.edu/ml/machine-learning-databases/wine-quality/winequality-red.csv', sep=';')\n",
        "    white = pd.read_csv('https://archive.ics.uci.edu/ml/machine-learning-databases/wine-quality/winequality-white.csv', sep=';')\n",
        "\n",
        "# Set target classes (0: White Wine, 1: Red Wine)\n",
        "    white['y'] = 0\n",
        "    red['y'] = 1\n",
        "\n",
        "# Combine into a single DataFrame & shuffle\n",
        "    wine_df = pd.concat([red, white], axis=0)\n",
        "    wine_df = wine_df.sample(frac=1)\n",
        "\n",
        "# Upsample to balance dataset (Number of Instances: red wine - 1599; white wine - 4898)\n",
        "    def upsample_classes(data, target):\n",
        "        \n",
        "        lst = list(data[target].unique())\n",
        "        \n",
        "        classes = []\n",
        "        for c in lst:\n",
        "            classes.append(data[data[target]==c])\n",
        "        \n",
        "        length = 0\n",
        "        class_lab = None\n",
        "        for c in classes:\n",
        "            if len(c)>length:\n",
        "                length=len(c)\n",
        "                class_lab = c\n",
        "        class_lab = class_lab[target].unique()[0]\n",
        "        \n",
        "        regroup = pd.concat(classes)\n",
        "        maj_class = regroup[regroup[target]==class_lab]\n",
        "\n",
        "        lst.remove(class_lab)\n",
        "        \n",
        "        new_classes=[]\n",
        "        for i in lst:\n",
        "            new_classes.append(resample(data[data[target]==i],replace=True, n_samples=len(maj_class)))\n",
        "\n",
        "        minority_classes = pd.concat(new_classes)\n",
        "        upsample = pd.concat([regroup[regroup[target]==class_lab],minority_classes])\n",
        "\n",
        "        return upsample\n",
        "\n",
        "    wine_df_balanced = upsample_classes(wine_df, 'y')\n",
        "\n",
        "\n",
        "# Register the dataset\n",
        "    datastore = ws.get_default_datastore()\n",
        "\n",
        "    dataset = Dataset.Tabular.register_pandas_dataframe(\n",
        "        dataframe=wine_df_balanced, \n",
        "        name=dataset_name, \n",
        "        description='A dataset of white and red wines',\n",
        "        target=datastore\n",
        "    )\n",
        "\n",
        "    print(f'Read {dataset_name} from UCI ML Repository and registered dataset.')\n"
      ],
      "outputs": [
        {
          "output_type": "stream",
          "name": "stdout",
          "text": "Located winequality in Registry.\n"
        }
      ],
      "execution_count": 4,
      "metadata": {
        "gather": {
          "logged": 1674950307161
        }
      }
    },
    {
      "cell_type": "code",
      "source": [
        "# Check out the DataFrame\n",
        "df = dataset.to_pandas_dataframe()\n",
        "df.head()"
      ],
      "outputs": [
        {
          "output_type": "execute_result",
          "execution_count": 5,
          "data": {
            "text/plain": "   fixed acidity  volatile acidity  citric acid  residual sugar  chlorides  \\\n0            6.6             0.210         0.30             9.9      0.041   \n1            7.1             0.170         0.43             1.3      0.023   \n2            7.3             0.655         0.20            10.2      0.071   \n3            6.6             0.260         0.38             6.5      0.170   \n4            6.8             0.290         0.16             1.4      0.038   \n\n   free sulfur dioxide  total sulfur dioxide  density    pH  sulphates  \\\n0                 64.0                 174.0  0.99500  3.07       0.50   \n1                 33.0                 132.0  0.99067  3.11       0.56   \n2                 28.0                 212.0  0.99710  2.96       0.58   \n3                 68.0                 201.0  0.99560  3.19       0.38   \n4                122.5                 234.5  0.99220  3.15       0.47   \n\n   alcohol  quality  y  \n0     10.1        6  0  \n1     11.7        6  0  \n2      9.2        6  0  \n3      9.4        6  0  \n4     10.0        4  0  ",
            "text/html": "<div>\n<style scoped>\n    .dataframe tbody tr th:only-of-type {\n        vertical-align: middle;\n    }\n\n    .dataframe tbody tr th {\n        vertical-align: top;\n    }\n\n    .dataframe thead th {\n        text-align: right;\n    }\n</style>\n<table border=\"1\" class=\"dataframe\">\n  <thead>\n    <tr style=\"text-align: right;\">\n      <th></th>\n      <th>fixed acidity</th>\n      <th>volatile acidity</th>\n      <th>citric acid</th>\n      <th>residual sugar</th>\n      <th>chlorides</th>\n      <th>free sulfur dioxide</th>\n      <th>total sulfur dioxide</th>\n      <th>density</th>\n      <th>pH</th>\n      <th>sulphates</th>\n      <th>alcohol</th>\n      <th>quality</th>\n      <th>y</th>\n    </tr>\n  </thead>\n  <tbody>\n    <tr>\n      <th>0</th>\n      <td>6.6</td>\n      <td>0.210</td>\n      <td>0.30</td>\n      <td>9.9</td>\n      <td>0.041</td>\n      <td>64.0</td>\n      <td>174.0</td>\n      <td>0.99500</td>\n      <td>3.07</td>\n      <td>0.50</td>\n      <td>10.1</td>\n      <td>6</td>\n      <td>0</td>\n    </tr>\n    <tr>\n      <th>1</th>\n      <td>7.1</td>\n      <td>0.170</td>\n      <td>0.43</td>\n      <td>1.3</td>\n      <td>0.023</td>\n      <td>33.0</td>\n      <td>132.0</td>\n      <td>0.99067</td>\n      <td>3.11</td>\n      <td>0.56</td>\n      <td>11.7</td>\n      <td>6</td>\n      <td>0</td>\n    </tr>\n    <tr>\n      <th>2</th>\n      <td>7.3</td>\n      <td>0.655</td>\n      <td>0.20</td>\n      <td>10.2</td>\n      <td>0.071</td>\n      <td>28.0</td>\n      <td>212.0</td>\n      <td>0.99710</td>\n      <td>2.96</td>\n      <td>0.58</td>\n      <td>9.2</td>\n      <td>6</td>\n      <td>0</td>\n    </tr>\n    <tr>\n      <th>3</th>\n      <td>6.6</td>\n      <td>0.260</td>\n      <td>0.38</td>\n      <td>6.5</td>\n      <td>0.170</td>\n      <td>68.0</td>\n      <td>201.0</td>\n      <td>0.99560</td>\n      <td>3.19</td>\n      <td>0.38</td>\n      <td>9.4</td>\n      <td>6</td>\n      <td>0</td>\n    </tr>\n    <tr>\n      <th>4</th>\n      <td>6.8</td>\n      <td>0.290</td>\n      <td>0.16</td>\n      <td>1.4</td>\n      <td>0.038</td>\n      <td>122.5</td>\n      <td>234.5</td>\n      <td>0.99220</td>\n      <td>3.15</td>\n      <td>0.47</td>\n      <td>10.0</td>\n      <td>4</td>\n      <td>0</td>\n    </tr>\n  </tbody>\n</table>\n</div>"
          },
          "metadata": {}
        }
      ],
      "execution_count": 5,
      "metadata": {
        "gather": {
          "logged": 1674950311797
        }
      }
    },
    {
      "cell_type": "code",
      "source": [
        "\n",
        "# Split the DataFrame into training and testing datasets\n",
        "train, test = train_test_split(df, random_state=666, shuffle=True, test_size=0.2)\n",
        "datastore = ws.get_default_datastore()\n",
        "train = Dataset.Tabular.register_pandas_dataframe(\n",
        "        dataframe=train, \n",
        "        name='wine_train', \n",
        "        description='A dataset of white and red wines',\n",
        "        target=datastore\n",
        "    )\n"
      ],
      "outputs": [
        {
          "output_type": "stream",
          "name": "stdout",
          "text": "Validating arguments.\nArguments validated.\nSuccessfully obtained datastore reference and path.\nUploading file to managed-dataset/4969c670-bd59-4d9e-b0f7-f2c1fd6766a4/\nSuccessfully uploaded file to datastore.\nCreating and registering a new dataset.\nSuccessfully created and registered a new dataset.\n"
        }
      ],
      "execution_count": 6,
      "metadata": {
        "gather": {
          "logged": 1674950315741
        }
      }
    },
    {
      "attachments": {},
      "cell_type": "markdown",
      "source": [
        "## AutoML Configuration\n",
        "\n",
        "TODO: Explain why you chose the automl settings and cofiguration you used below.\n",
        "\n",
        "I set the following AutoML parameters: \n",
        "\n",
        "* *experiment_timeout_minutes*: 30\n",
        "* *enable_early_stopping*: True    \n",
        "* *primary_metric*: 'accuracy'\n",
        "* *n_cross_validations*:5\n",
        "* *iterations*: 50\n",
        "* *max_concurrent_iterations*: 4\n",
        "\n",
        "The *experiment_timeout_minutes* (30 mins), *iterations* (50) and *enable_early_stopping* (True) are set to reduce time \n",
        "taken for model training. Enabling early stopping allows the training process to conclude if there is no considerable \n",
        "improvement to the *primary_metric* (accuracy). *n_cross_validations* is set to 5 to ensure Bias vs Variance tradeoff\n",
        "and prevent overfitting.The *max_concurrent_iterations* (4) is set as we are running on compute Standard_D2_V2 which has \n",
        "4 nodes. This allows 4 jobs to be run in parallel on each node.\n"
      ],
      "metadata": {}
    },
    {
      "cell_type": "code",
      "source": [
        "# TODO: Put your automl settings here\n",
        "automl_settings = {\n",
        "    \"experiment_timeout_minutes\":30,\n",
        "    \"enable_early_stopping\":True,    \n",
        "    \"primary_metric\":'accuracy',\n",
        "    \"n_cross_validations\":5,\n",
        "    \"iterations\":50,\n",
        "    \"max_concurrent_iterations\":4,\n",
        "    \"verbosity\": logging.INFO\n",
        "}\n",
        "\n",
        "# TODO: Put your automl config here\n",
        "automl_config = AutoMLConfig(\n",
        "    compute_target=compute_target, \n",
        "    task='classification', \n",
        "    training_data=train,\n",
        "    label_column_name='y',\n",
        "    **automl_settings)"
      ],
      "outputs": [],
      "execution_count": 7,
      "metadata": {
        "gather": {
          "logged": 1674950383438
        },
        "jupyter": {
          "outputs_hidden": false,
          "source_hidden": false
        },
        "nteract": {
          "transient": {
            "deleting": false
          }
        }
      }
    },
    {
      "cell_type": "code",
      "source": [
        "# TODO: Submit your experiment\n",
        "remote_run = experiment.submit(automl_config, show_output=True)"
      ],
      "outputs": [
        {
          "output_type": "stream",
          "name": "stdout",
          "text": "Submitting remote run.\nNo run_configuration provided, running on automl-capstone-cluster with default configuration\nRunning on remote compute: automl-capstone-cluster\n"
        },
        {
          "output_type": "display_data",
          "data": {
            "text/plain": "<IPython.core.display.HTML object>",
            "text/html": "<table style=\"width:100%\"><tr><th>Experiment</th><th>Id</th><th>Type</th><th>Status</th><th>Details Page</th><th>Docs Page</th></tr><tr><td>Wine_Evaluation_AutoMl</td><td>AutoML_b656a63b-cc15-48a5-80c5-57adc9bbd5e7</td><td>automl</td><td>NotStarted</td><td><a href=\"https://ml.azure.com/runs/AutoML_b656a63b-cc15-48a5-80c5-57adc9bbd5e7?wsid=/subscriptions/d7f39349-a66b-446e-aba6-0053c2cf1c11/resourcegroups/aml-quickstarts-223774/workspaces/quick-starts-ws-223774&amp;tid=660b3398-b80e-49d2-bc5b-ac1dc93b5254\" target=\"_blank\" rel=\"noopener\">Link to Azure Machine Learning studio</a></td><td><a href=\"https://docs.microsoft.com/en-us/python/api/overview/azure/ml/intro?view=azure-ml-py\" target=\"_blank\" rel=\"noopener\">Link to Documentation</a></td></tr></table>"
          },
          "metadata": {}
        },
        {
          "output_type": "stream",
          "name": "stdout",
          "text": "\nCurrent status: FeaturesGeneration. Generating features for the dataset.\nCurrent status: DatasetCrossValidationSplit. Generating individually featurized CV splits.\nCurrent status: ModelSelection. Beginning model selection.\n\n********************************************************************************************\nDATA GUARDRAILS: \n\nTYPE:         Class balancing detection\nSTATUS:       PASSED\nDESCRIPTION:  Your inputs were analyzed, and all classes are balanced in your training data.\n              Learn more about imbalanced data: https://aka.ms/AutomatedMLImbalancedData\n\n********************************************************************************************\n\nTYPE:         Missing feature values imputation\nSTATUS:       PASSED\nDESCRIPTION:  No feature missing values were detected in the training data.\n              Learn more about missing value imputation: https://aka.ms/AutomatedMLFeaturization\n\n********************************************************************************************\n\nTYPE:         High cardinality feature detection\nSTATUS:       PASSED\nDESCRIPTION:  Your inputs were analyzed, and no high cardinality features were detected.\n              Learn more about high cardinality feature handling: https://aka.ms/AutomatedMLFeaturization\n\n********************************************************************************************\n\n********************************************************************************************\nITER: The iteration being evaluated.\nPIPELINE: A summary description of the pipeline being evaluated.\nDURATION: Time taken for the current iteration.\nMETRIC: The result of computing score on the fitted pipeline.\nBEST: The best observed score thus far.\n********************************************************************************************\n\n ITER   PIPELINE                                       DURATION            METRIC      BEST\n    0   MaxAbsScaler LightGBM                          0:00:15             0.9974    0.9974\n    1   MaxAbsScaler XGBoostClassifier                 0:00:16             0.9977    0.9977\n    2   MaxAbsScaler ExtremeRandomTrees                0:00:16             0.9830    0.9977\n    3   SparseNormalizer XGBoostClassifier             0:00:14             0.9821    0.9977\n    4   MaxAbsScaler LightGBM                          0:00:13             0.9904    0.9977\n    5   MaxAbsScaler LightGBM                          0:00:13             0.9903    0.9977\n    6   StandardScalerWrapper XGBoostClassifier        0:00:15             0.9963    0.9977\n    7   MaxAbsScaler LogisticRegression                0:00:11             0.9856    0.9977\n    8   StandardScalerWrapper ExtremeRandomTrees       0:00:13             0.9128    0.9977\n    9   StandardScalerWrapper XGBoostClassifier        0:00:14             0.9943    0.9977\n   10   SparseNormalizer LightGBM                      0:00:09             0.9715    0.9977\n   11   StandardScalerWrapper XGBoostClassifier        0:00:13             0.9918    0.9977\n   15   SparseNormalizer RandomForest                  0:00:22             0.9754    0.9977\n   12   MaxAbsScaler LogisticRegression                0:00:15             0.9865    0.9977\n   16   StandardScalerWrapper LogisticRegression       0:00:15             0.9766    0.9977\n   13   MaxAbsScaler SGD                               0:00:13             0.9814    0.9977\n   17   StandardScalerWrapper RandomForest             0:00:15             0.9844    0.9977\n   14   StandardScalerWrapper XGBoostClassifier        0:00:14             0.9892    0.9977\n   18   StandardScalerWrapper XGBoostClassifier        0:00:10             0.9955    0.9977\n   19   TruncatedSVDWrapper RandomForest               0:00:23             0.9186    0.9977\n   20   TruncatedSVDWrapper RandomForest               0:00:48             0.9658    0.9977\n   22   SparseNormalizer XGBoostClassifier             0:00:34             0.9894    0.9977\n   24   StandardScalerWrapper RandomForest             0:00:30             0.9732    0.9977\n   23   StandardScalerWrapper LogisticRegression       0:00:36             0.9866    0.9977\n   25   SparseNormalizer XGBoostClassifier             0:00:35             0.9824    0.9977\n   26   MaxAbsScaler RandomForest                      0:00:30             0.9680    0.9977\n   27   SparseNormalizer XGBoostClassifier             0:00:34             0.9840    0.9977\n   28   StandardScalerWrapper XGBoostClassifier        0:00:32             0.9728    0.9977\n   29   StandardScalerWrapper XGBoostClassifier        0:00:31             0.9973    0.9977\n   30   TruncatedSVDWrapper XGBoostClassifier          0:00:33             0.4904    0.9977\n   31   SparseNormalizer XGBoostClassifier             0:00:33             0.9889    0.9977\n   32   StandardScalerWrapper XGBoostClassifier        0:00:30             0.9844    0.9977\n   21                                                  0:03:43                nan    0.9977\n   33   MaxAbsScaler LightGBM                          0:00:32             0.9833    0.9977\n   34   MaxAbsScaler RandomForest                      0:00:33             0.9782    0.9977\n   35                                                  0:00:11                nan    0.9977\n   36    VotingEnsemble                                0:00:50             0.9980    0.9980\n   37    StackEnsemble                                 0:00:56             0.9976    0.9980\n"
        }
      ],
      "execution_count": 8,
      "metadata": {
        "gather": {
          "logged": 1674951591797
        },
        "jupyter": {
          "outputs_hidden": false,
          "source_hidden": false
        },
        "nteract": {
          "transient": {
            "deleting": false
          }
        }
      }
    },
    {
      "cell_type": "markdown",
      "source": [
        "## Run Details\n",
        "\n",
        "OPTIONAL: Write about the different models trained and their performance. Why do you think some models did better than others?\n",
        "\n",
        "TODO: In the cell below, use the `RunDetails` widget to show the different experiments."
      ],
      "metadata": {}
    },
    {
      "cell_type": "code",
      "source": [
        "RunDetails(remote_run).show()"
      ],
      "outputs": [
        {
          "output_type": "display_data",
          "data": {
            "text/plain": "_AutoMLWidget(widget_settings={'childWidgetDisplay': 'popup', 'send_telemetry': False, 'log_level': 'INFO', 's…",
            "application/vnd.jupyter.widget-view+json": {
              "version_major": 2,
              "version_minor": 0,
              "model_id": "8dc658fbe1b240f6afee1b1dc0e30fd5"
            }
          },
          "metadata": {}
        },
        {
          "output_type": "display_data",
          "data": {
            "application/aml.mini.widget.v1": "{\"status\": \"Completed\", \"workbench_run_details_uri\": \"https://ml.azure.com/runs/AutoML_b656a63b-cc15-48a5-80c5-57adc9bbd5e7?wsid=/subscriptions/d7f39349-a66b-446e-aba6-0053c2cf1c11/resourcegroups/aml-quickstarts-223774/workspaces/quick-starts-ws-223774&tid=660b3398-b80e-49d2-bc5b-ac1dc93b5254\", \"run_id\": \"AutoML_b656a63b-cc15-48a5-80c5-57adc9bbd5e7\", \"run_properties\": {\"run_id\": \"AutoML_b656a63b-cc15-48a5-80c5-57adc9bbd5e7\", \"created_utc\": \"2023-01-28T23:59:47.911527Z\", \"properties\": {\"num_iterations\": \"50\", \"training_type\": \"TrainFull\", \"acquisition_function\": \"EI\", \"primary_metric\": \"accuracy\", \"train_split\": \"0\", \"acquisition_parameter\": \"0\", \"num_cross_validation\": \"5\", \"target\": \"automl-capstone-cluster\", \"AMLSettingsJsonString\": \"{\\\"path\\\":null,\\\"name\\\":\\\"Wine_Evaluation_AutoMl\\\",\\\"subscription_id\\\":\\\"d7f39349-a66b-446e-aba6-0053c2cf1c11\\\",\\\"resource_group\\\":\\\"aml-quickstarts-223774\\\",\\\"workspace_name\\\":\\\"quick-starts-ws-223774\\\",\\\"region\\\":\\\"southcentralus\\\",\\\"compute_target\\\":\\\"automl-capstone-cluster\\\",\\\"spark_service\\\":null,\\\"azure_service\\\":\\\"remote\\\",\\\"many_models\\\":false,\\\"pipeline_fetch_max_batch_size\\\":1,\\\"enable_batch_run\\\":true,\\\"enable_parallel_run\\\":false,\\\"num_procs\\\":null,\\\"enable_run_restructure\\\":false,\\\"start_auxiliary_runs_before_parent_complete\\\":false,\\\"enable_code_generation\\\":true,\\\"iterations\\\":50,\\\"primary_metric\\\":\\\"accuracy\\\",\\\"task_type\\\":\\\"classification\\\",\\\"positive_label\\\":null,\\\"data_script\\\":null,\\\"test_size\\\":0.0,\\\"test_include_predictions_only\\\":false,\\\"validation_size\\\":0.0,\\\"n_cross_validations\\\":5,\\\"y_min\\\":null,\\\"y_max\\\":null,\\\"num_classes\\\":null,\\\"featurization\\\":\\\"auto\\\",\\\"_ignore_package_version_incompatibilities\\\":false,\\\"is_timeseries\\\":false,\\\"max_cores_per_iteration\\\":1,\\\"max_concurrent_iterations\\\":4,\\\"iteration_timeout_minutes\\\":null,\\\"mem_in_mb\\\":null,\\\"enforce_time_on_windows\\\":false,\\\"experiment_timeout_minutes\\\":30,\\\"experiment_exit_score\\\":null,\\\"partition_column_names\\\":null,\\\"whitelist_models\\\":null,\\\"blacklist_algos\\\":[\\\"TensorFlowLinearClassifier\\\",\\\"TensorFlowDNN\\\"],\\\"supported_models\\\":[\\\"AveragedPerceptronClassifier\\\",\\\"MultinomialNaiveBayes\\\",\\\"ExtremeRandomTrees\\\",\\\"LinearSVM\\\",\\\"SGD\\\",\\\"LightGBM\\\",\\\"GradientBoosting\\\",\\\"BernoulliNaiveBayes\\\",\\\"TensorFlowDNN\\\",\\\"KNN\\\",\\\"SVM\\\",\\\"DecisionTree\\\",\\\"TensorFlowLinearClassifier\\\",\\\"TabnetClassifier\\\",\\\"LogisticRegression\\\",\\\"RandomForest\\\",\\\"XGBoostClassifier\\\"],\\\"private_models\\\":[],\\\"auto_blacklist\\\":true,\\\"blacklist_samples_reached\\\":false,\\\"exclude_nan_labels\\\":true,\\\"verbosity\\\":20,\\\"_debug_log\\\":\\\"azureml_automl.log\\\",\\\"show_warnings\\\":false,\\\"model_explainability\\\":true,\\\"service_url\\\":null,\\\"sdk_url\\\":null,\\\"sdk_packages\\\":null,\\\"enable_onnx_compatible_models\\\":false,\\\"enable_split_onnx_featurizer_estimator_models\\\":false,\\\"vm_type\\\":\\\"STANDARD_D2_V2\\\",\\\"telemetry_verbosity\\\":20,\\\"send_telemetry\\\":true,\\\"enable_dnn\\\":false,\\\"scenario\\\":\\\"AutoML\\\",\\\"environment_label\\\":null,\\\"save_mlflow\\\":false,\\\"enable_categorical_indicators\\\":false,\\\"force_text_dnn\\\":false,\\\"enable_feature_sweeping\\\":true,\\\"enable_early_stopping\\\":true,\\\"early_stopping_n_iters\\\":10,\\\"arguments\\\":null,\\\"dataset_id\\\":\\\"58042f2c-3d48-4f81-aa38-2482d63694a7\\\",\\\"hyperdrive_config\\\":null,\\\"validation_dataset_id\\\":null,\\\"run_source\\\":null,\\\"metrics\\\":null,\\\"enable_metric_confidence\\\":false,\\\"enable_ensembling\\\":true,\\\"enable_stack_ensembling\\\":true,\\\"ensemble_iterations\\\":15,\\\"enable_tf\\\":false,\\\"enable_subsampling\\\":false,\\\"subsample_seed\\\":null,\\\"enable_nimbusml\\\":false,\\\"enable_streaming\\\":false,\\\"force_streaming\\\":false,\\\"track_child_runs\\\":true,\\\"n_best_runs\\\":1,\\\"allowed_private_models\\\":[],\\\"label_column_name\\\":\\\"y\\\",\\\"weight_column_name\\\":null,\\\"cv_split_column_names\\\":null,\\\"enable_local_managed\\\":false,\\\"_local_managed_run_id\\\":null,\\\"cost_mode\\\":1,\\\"lag_length\\\":0,\\\"metric_operation\\\":\\\"maximize\\\",\\\"preprocess\\\":true}\", \"DataPrepJsonString\": \"{\\\\\\\"training_data\\\\\\\": {\\\\\\\"datasetId\\\\\\\": \\\\\\\"58042f2c-3d48-4f81-aa38-2482d63694a7\\\\\\\"}, \\\\\\\"datasets\\\\\\\": 0}\", \"EnableSubsampling\": \"False\", \"runTemplate\": \"AutoML\", \"azureml.runsource\": \"automl\", \"display_task_type\": \"classification\", \"dependencies_versions\": \"{\\\"azureml-widgets\\\": \\\"1.47.0\\\", \\\"azureml-training-tabular\\\": \\\"1.47.0\\\", \\\"azureml-train\\\": \\\"1.47.0\\\", \\\"azureml-train-restclients-hyperdrive\\\": \\\"1.47.0\\\", \\\"azureml-train-core\\\": \\\"1.47.0\\\", \\\"azureml-train-automl\\\": \\\"1.47.0\\\", \\\"azureml-train-automl-runtime\\\": \\\"1.47.0\\\", \\\"azureml-train-automl-client\\\": \\\"1.47.0\\\", \\\"azureml-tensorboard\\\": \\\"1.47.0\\\", \\\"azureml-telemetry\\\": \\\"1.47.0\\\", \\\"azureml-sdk\\\": \\\"1.47.0\\\", \\\"azureml-samples\\\": \\\"0+unknown\\\", \\\"azureml-responsibleai\\\": \\\"1.47.0\\\", \\\"azureml-pipeline\\\": \\\"1.47.0\\\", \\\"azureml-pipeline-steps\\\": \\\"1.47.0\\\", \\\"azureml-pipeline-core\\\": \\\"1.47.0\\\", \\\"azureml-opendatasets\\\": \\\"1.47.0\\\", \\\"azureml-mlflow\\\": \\\"1.47.0\\\", \\\"azureml-interpret\\\": \\\"1.47.0\\\", \\\"azureml-inference-server-http\\\": \\\"0.7.6\\\", \\\"azureml-explain-model\\\": \\\"1.47.0\\\", \\\"azureml-defaults\\\": \\\"1.47.0\\\", \\\"azureml-dataset-runtime\\\": \\\"1.47.0\\\", \\\"azureml-dataprep\\\": \\\"4.5.7\\\", \\\"azureml-dataprep-rslex\\\": \\\"2.11.4\\\", \\\"azureml-dataprep-native\\\": \\\"38.0.0\\\", \\\"azureml-datadrift\\\": \\\"1.47.0\\\", \\\"azureml-core\\\": \\\"1.47.0\\\", \\\"azureml-contrib-services\\\": \\\"1.47.0\\\", \\\"azureml-contrib-server\\\": \\\"1.47.0\\\", \\\"azureml-contrib-reinforcementlearning\\\": \\\"1.47.0\\\", \\\"azureml-contrib-pipeline-steps\\\": \\\"1.47.0\\\", \\\"azureml-contrib-notebook\\\": \\\"1.47.0\\\", \\\"azureml-contrib-fairness\\\": \\\"1.47.0\\\", \\\"azureml-contrib-dataset\\\": \\\"1.47.0\\\", \\\"azureml-contrib-automl-pipeline-steps\\\": \\\"1.47.0\\\", \\\"azureml-cli-common\\\": \\\"1.47.0\\\", \\\"azureml-automl-runtime\\\": \\\"1.47.0\\\", \\\"azureml-automl-dnn-nlp\\\": \\\"1.47.0\\\", \\\"azureml-automl-core\\\": \\\"1.47.0\\\", \\\"azureml-accel-models\\\": \\\"1.47.0\\\"}\", \"_aml_system_scenario_identification\": \"Remote.Parent\", \"ClientType\": \"SDK\", \"environment_cpu_name\": \"AzureML-AutoML\", \"environment_cpu_label\": \"prod\", \"environment_gpu_name\": \"AzureML-AutoML-GPU\", \"environment_gpu_label\": \"prod\", \"root_attribution\": \"automl\", \"attribution\": \"AutoML\", \"Orchestrator\": \"AutoML\", \"CancelUri\": \"https://southcentralus.api.azureml.ms/jasmine/v1.0/subscriptions/d7f39349-a66b-446e-aba6-0053c2cf1c11/resourceGroups/aml-quickstarts-223774/providers/Microsoft.MachineLearningServices/workspaces/quick-starts-ws-223774/experimentids/4d80e012-4904-468c-8f6d-a62fef31836f/cancel/AutoML_b656a63b-cc15-48a5-80c5-57adc9bbd5e7\", \"ClientSdkVersion\": \"1.48.0.post1\", \"snapshotId\": \"00000000-0000-0000-0000-000000000000\", \"SetupRunId\": \"AutoML_b656a63b-cc15-48a5-80c5-57adc9bbd5e7_setup\", \"SetupRunContainerId\": \"dcid.AutoML_b656a63b-cc15-48a5-80c5-57adc9bbd5e7_setup\", \"FeaturizationRunJsonPath\": \"featurizer_container.json\", \"FeaturizationRunId\": \"AutoML_b656a63b-cc15-48a5-80c5-57adc9bbd5e7_featurize\", \"ProblemInfoJsonString\": \"{\\\"dataset_num_categorical\\\": 0, \\\"is_sparse\\\": true, \\\"subsampling\\\": false, \\\"has_extra_col\\\": true, \\\"dataset_classes\\\": 2, \\\"dataset_features\\\": 18, \\\"dataset_samples\\\": 7836, \\\"single_frequency_class_detected\\\": false}\", \"ModelExplainRunId\": \"AutoML_b656a63b-cc15-48a5-80c5-57adc9bbd5e7_ModelExplain\"}, \"tags\": {\"model_explain_run\": \"best_run\", \"_aml_system_automl_run_workspace_id\": \"cf4e820e-5ae0-4458-bced-3501ac974d4f\", \"_aml_system_azureml.automlComponent\": \"AutoML\", \"pipeline_id\": \"\", \"score\": \"\", \"predicted_cost\": \"\", \"fit_time\": \"\", \"training_percent\": \"\", \"iteration\": \"\", \"run_preprocessor\": \"\", \"run_algorithm\": \"\", \"dynamic_allowlisting_iterations\": \"<25>;<30>;<35>;\", \"_aml_system_azureml.automl_early_exit_message\": \"No scores improved over last 10 iterations, so experiment stopped early. This early stopping behavior can be disabled by setting enable_early_stopping = False in AutoMLConfig for notebook/python SDK runs.\", \"automl_best_child_run_id\": \"AutoML_b656a63b-cc15-48a5-80c5-57adc9bbd5e7_36\", \"model_explain_best_run_child_id\": \"AutoML_b656a63b-cc15-48a5-80c5-57adc9bbd5e7_36\"}, \"end_time_utc\": \"2023-01-29T00:19:35.703403Z\", \"status\": \"Completed\", \"log_files\": {}, \"log_groups\": [], \"run_duration\": \"0:19:47\", \"run_number\": \"1674950387\", \"run_queued_details\": {\"status\": \"Completed\", \"details\": null}}, \"child_runs\": [{\"run_id\": \"AutoML_b656a63b-cc15-48a5-80c5-57adc9bbd5e7_setup\", \"run_number\": 1674950400, \"metric\": null, \"status\": \"Completed\", \"run_type\": \"azureml.scriptrun\", \"training_percent\": null, \"start_time\": \"2023-01-29T00:02:22.577331Z\", \"end_time\": \"2023-01-29T00:04:07.446789Z\", \"created_time\": \"2023-01-29T00:00:00.296729Z\", \"created_time_dt\": \"2023-01-29T00:00:00.296729Z\", \"duration\": \"0:04:07\", \"iteration\": null, \"goal\": null, \"run_name\": \"Completed\", \"run_properties\": null}, {\"run_id\": \"AutoML_b656a63b-cc15-48a5-80c5-57adc9bbd5e7_featurize\", \"run_number\": 1674950647, \"metric\": null, \"status\": \"Completed\", \"run_type\": \"automl.featurization\", \"training_percent\": null, \"start_time\": \"2023-01-29T00:04:08.118315Z\", \"end_time\": \"2023-01-29T00:05:46.007731Z\", \"created_time\": \"2023-01-29T00:04:07.776491Z\", \"created_time_dt\": \"2023-01-29T00:04:07.776491Z\", \"duration\": \"0:01:38\", \"iteration\": null, \"goal\": null, \"run_name\": \"Completed\", \"run_properties\": null}, {\"run_id\": \"AutoML_b656a63b-cc15-48a5-80c5-57adc9bbd5e7_0\", \"run_number\": 1674950748, \"metric\": null, \"status\": \"Completed\", \"run_type\": null, \"training_percent\": \"100\", \"start_time\": \"2023-01-29T00:06:09.037337Z\", \"end_time\": \"2023-01-29T00:06:24.00347Z\", \"created_time\": \"2023-01-29T00:05:48.722943Z\", \"created_time_dt\": \"2023-01-29T00:05:48.722943Z\", \"duration\": \"0:00:35\", \"iteration\": \"0\", \"goal\": \"accuracy_max\", \"run_name\": \"MaxAbsScaler, LightGBM\", \"run_properties\": \"copy=True\", \"primary_metric\": 0.99744768, \"best_metric\": 0.99744768}, {\"run_id\": \"AutoML_b656a63b-cc15-48a5-80c5-57adc9bbd5e7_1\", \"run_number\": 1674950749, \"metric\": null, \"status\": \"Completed\", \"run_type\": null, \"training_percent\": \"100\", \"start_time\": \"2023-01-29T00:06:24.447313Z\", \"end_time\": \"2023-01-29T00:06:40.355257Z\", \"created_time\": \"2023-01-29T00:05:49.347232Z\", \"created_time_dt\": \"2023-01-29T00:05:49.347232Z\", \"duration\": \"0:00:51\", \"iteration\": \"1\", \"goal\": \"accuracy_max\", \"run_name\": \"MaxAbsScaler, XGBoostClassifier\", \"run_properties\": \"copy=True\", \"primary_metric\": 0.99770286, \"best_metric\": 0.99770286}, {\"run_id\": \"AutoML_b656a63b-cc15-48a5-80c5-57adc9bbd5e7_3\", \"run_number\": 1674950750, \"metric\": null, \"status\": \"Completed\", \"run_type\": null, \"training_percent\": \"100\", \"start_time\": \"2023-01-29T00:06:58.210153Z\", \"end_time\": \"2023-01-29T00:07:11.719798Z\", \"created_time\": \"2023-01-29T00:05:50.562007Z\", \"created_time_dt\": \"2023-01-29T00:05:50.562007Z\", \"duration\": \"0:01:21\", \"iteration\": \"3\", \"goal\": \"accuracy_max\", \"run_name\": \"SparseNormalizer, XGBoostClassifier\", \"run_properties\": \"copy=True, norm='l2'\", \"primary_metric\": 0.98213341, \"best_metric\": 0.99770286}, {\"run_id\": \"AutoML_b656a63b-cc15-48a5-80c5-57adc9bbd5e7_worker_0\", \"run_number\": 1674950751, \"metric\": null, \"status\": \"Completed\", \"run_type\": \"azureml.scriptrun\", \"training_percent\": null, \"start_time\": \"2023-01-29T00:05:58.6973Z\", \"end_time\": \"2023-01-29T00:07:33.884418Z\", \"created_time\": \"2023-01-29T00:05:51.495282Z\", \"created_time_dt\": \"2023-01-29T00:05:51.495282Z\", \"duration\": \"0:01:42\", \"iteration\": null, \"goal\": null, \"run_name\": \"Completed\", \"run_properties\": null}, {\"run_id\": \"AutoML_b656a63b-cc15-48a5-80c5-57adc9bbd5e7_6\", \"run_number\": 1674950752, \"metric\": null, \"status\": \"Completed\", \"run_type\": null, \"training_percent\": \"100\", \"start_time\": \"2023-01-29T00:08:02.095563Z\", \"end_time\": \"2023-01-29T00:08:16.683353Z\", \"created_time\": \"2023-01-29T00:05:52.2826Z\", \"created_time_dt\": \"2023-01-29T00:05:52.2826Z\", \"duration\": \"0:02:24\", \"iteration\": \"6\", \"goal\": \"accuracy_max\", \"run_name\": \"StandardScalerWrapper, XGBoostClassifier\", \"run_properties\": \"copy=True, with_mean=False, with_std=False\", \"primary_metric\": 0.99629915, \"best_metric\": 0.99770286}, {\"run_id\": \"AutoML_b656a63b-cc15-48a5-80c5-57adc9bbd5e7_8\", \"run_number\": 1674950753, \"metric\": null, \"status\": \"Completed\", \"run_type\": null, \"training_percent\": \"100\", \"start_time\": \"2023-01-29T00:08:29.054223Z\", \"end_time\": \"2023-01-29T00:08:42.303356Z\", \"created_time\": \"2023-01-29T00:05:53.482766Z\", \"created_time_dt\": \"2023-01-29T00:05:53.482766Z\", \"duration\": \"0:02:48\", \"iteration\": \"8\", \"goal\": \"accuracy_max\", \"run_name\": \"StandardScalerWrapper, ExtremeRandomTrees\", \"run_properties\": \"copy=True, with_mean=False, with_std=False\", \"primary_metric\": 0.91283805, \"best_metric\": 0.99770286}, {\"run_id\": \"AutoML_b656a63b-cc15-48a5-80c5-57adc9bbd5e7_worker_1\", \"run_number\": 1674950754, \"metric\": null, \"status\": \"Completed\", \"run_type\": \"azureml.scriptrun\", \"training_percent\": null, \"start_time\": \"2023-01-29T00:07:38.652282Z\", \"end_time\": \"2023-01-29T00:09:04.650827Z\", \"created_time\": \"2023-01-29T00:05:54.379113Z\", \"created_time_dt\": \"2023-01-29T00:05:54.379113Z\", \"duration\": \"0:03:10\", \"iteration\": null, \"goal\": null, \"run_name\": \"Completed\", \"run_properties\": null}, {\"run_id\": \"AutoML_b656a63b-cc15-48a5-80c5-57adc9bbd5e7_11\", \"run_number\": 1674950755, \"metric\": null, \"status\": \"Completed\", \"run_type\": null, \"training_percent\": \"100\", \"start_time\": \"2023-01-29T00:13:36.478483Z\", \"end_time\": \"2023-01-29T00:13:49.861933Z\", \"created_time\": \"2023-01-29T00:05:55.416272Z\", \"created_time_dt\": \"2023-01-29T00:05:55.416272Z\", \"duration\": \"0:07:54\", \"iteration\": \"11\", \"goal\": \"accuracy_max\", \"run_name\": \"StandardScalerWrapper, XGBoostClassifier\", \"run_properties\": \"copy=True, with_mean=False, with_std=False\", \"primary_metric\": 0.99183226, \"best_metric\": 0.99770286}, {\"run_id\": \"AutoML_b656a63b-cc15-48a5-80c5-57adc9bbd5e7_13\", \"run_number\": 1674950756, \"metric\": null, \"status\": \"Completed\", \"run_type\": null, \"training_percent\": \"100\", \"start_time\": \"2023-01-29T00:14:05.314271Z\", \"end_time\": \"2023-01-29T00:14:18.704987Z\", \"created_time\": \"2023-01-29T00:05:56.554708Z\", \"created_time_dt\": \"2023-01-29T00:05:56.554708Z\", \"duration\": \"0:08:22\", \"iteration\": \"13\", \"goal\": \"accuracy_max\", \"run_name\": \"MaxAbsScaler, SGD\", \"run_properties\": \"copy=True\", \"primary_metric\": 0.98136827, \"best_metric\": 0.99770286}, {\"run_id\": \"AutoML_b656a63b-cc15-48a5-80c5-57adc9bbd5e7_worker_2\", \"run_number\": 1674950757, \"metric\": null, \"status\": \"Completed\", \"run_type\": \"azureml.scriptrun\", \"training_percent\": null, \"start_time\": \"2023-01-29T00:08:43.735633Z\", \"end_time\": \"2023-01-29T00:14:42.287384Z\", \"created_time\": \"2023-01-29T00:05:57.376774Z\", \"created_time_dt\": \"2023-01-29T00:05:57.376774Z\", \"duration\": \"0:08:44\", \"iteration\": null, \"goal\": null, \"run_name\": \"Completed\", \"run_properties\": null}, {\"run_id\": \"AutoML_b656a63b-cc15-48a5-80c5-57adc9bbd5e7_16\", \"run_number\": 1674950758, \"metric\": null, \"status\": \"Completed\", \"run_type\": null, \"training_percent\": \"100\", \"start_time\": \"2023-01-29T00:13:53.614585Z\", \"end_time\": \"2023-01-29T00:14:08.450009Z\", \"created_time\": \"2023-01-29T00:05:58.21264Z\", \"created_time_dt\": \"2023-01-29T00:05:58.21264Z\", \"duration\": \"0:08:10\", \"iteration\": \"16\", \"goal\": \"accuracy_max\", \"run_name\": \"StandardScalerWrapper, LogisticRegression\", \"run_properties\": \"copy=True, with_mean=False, with_std=False\", \"primary_metric\": 0.97664612, \"best_metric\": 0.99770286}, {\"run_id\": \"AutoML_b656a63b-cc15-48a5-80c5-57adc9bbd5e7_18\", \"run_number\": 1674950759, \"metric\": null, \"status\": \"Completed\", \"run_type\": null, \"training_percent\": \"100\", \"start_time\": \"2023-01-29T00:14:24.802841Z\", \"end_time\": \"2023-01-29T00:14:35.136501Z\", \"created_time\": \"2023-01-29T00:05:59.320202Z\", \"created_time_dt\": \"2023-01-29T00:05:59.320202Z\", \"duration\": \"0:08:35\", \"iteration\": \"18\", \"goal\": \"accuracy_max\", \"run_name\": \"StandardScalerWrapper, XGBoostClassifier\", \"run_properties\": \"copy=True, with_mean=False, with_std=False\", \"primary_metric\": 0.99553319, \"best_metric\": 0.99770286}, {\"run_id\": \"AutoML_b656a63b-cc15-48a5-80c5-57adc9bbd5e7_worker_3\", \"run_number\": 1674950760, \"metric\": null, \"status\": \"Completed\", \"run_type\": \"azureml.scriptrun\", \"training_percent\": null, \"start_time\": \"2023-01-29T00:08:47.040197Z\", \"end_time\": \"2023-01-29T00:15:07.185353Z\", \"created_time\": \"2023-01-29T00:06:00.224548Z\", \"created_time_dt\": \"2023-01-29T00:06:00.224548Z\", \"duration\": \"0:09:06\", \"iteration\": null, \"goal\": null, \"run_name\": \"Completed\", \"run_properties\": null}, {\"run_id\": \"AutoML_b656a63b-cc15-48a5-80c5-57adc9bbd5e7_20\", \"run_number\": 1674951267, \"metric\": null, \"status\": \"Completed\", \"run_type\": \"azureml.scriptrun\", \"training_percent\": \"100\", \"start_time\": \"2023-01-29T00:14:39.953594Z\", \"end_time\": \"2023-01-29T00:15:27.504338Z\", \"created_time\": \"2023-01-29T00:14:27.673272Z\", \"created_time_dt\": \"2023-01-29T00:14:27.673272Z\", \"duration\": \"0:00:59\", \"iteration\": \"20\", \"goal\": \"accuracy_max\", \"run_name\": \"TruncatedSVDWrapper, RandomForest\", \"run_properties\": \"n_components=0.7026315789473684, random_state=None\", \"primary_metric\": 0.96579809, \"best_metric\": 0.99770286}, {\"run_id\": \"AutoML_b656a63b-cc15-48a5-80c5-57adc9bbd5e7_22\", \"run_number\": 1674951291, \"metric\": null, \"status\": \"Completed\", \"run_type\": \"azureml.scriptrun\", \"training_percent\": \"100\", \"start_time\": \"2023-01-29T00:14:59.406831Z\", \"end_time\": \"2023-01-29T00:15:33.482398Z\", \"created_time\": \"2023-01-29T00:14:51.207982Z\", \"created_time_dt\": \"2023-01-29T00:14:51.207982Z\", \"duration\": \"0:00:42\", \"iteration\": \"22\", \"goal\": \"accuracy_max\", \"run_name\": \"SparseNormalizer, XGBoostClassifier\", \"run_properties\": \"copy=True, norm='l1'\", \"primary_metric\": 0.98940773, \"best_metric\": 0.99770286}, {\"run_id\": \"AutoML_b656a63b-cc15-48a5-80c5-57adc9bbd5e7_24\", \"run_number\": 1674951330, \"metric\": null, \"status\": \"Completed\", \"run_type\": \"azureml.scriptrun\", \"training_percent\": \"100\", \"start_time\": \"2023-01-29T00:15:35.311362Z\", \"end_time\": \"2023-01-29T00:16:05.358702Z\", \"created_time\": \"2023-01-29T00:15:30.018508Z\", \"created_time_dt\": \"2023-01-29T00:15:30.018508Z\", \"duration\": \"0:00:35\", \"iteration\": \"24\", \"goal\": \"accuracy_max\", \"run_name\": \"StandardScalerWrapper, RandomForest\", \"run_properties\": \"copy=True, with_mean=False, with_std=False\", \"primary_metric\": 0.97320029, \"best_metric\": 0.99770286}, {\"run_id\": \"AutoML_b656a63b-cc15-48a5-80c5-57adc9bbd5e7_25\", \"run_number\": 1674951336, \"metric\": null, \"status\": \"Completed\", \"run_type\": \"azureml.scriptrun\", \"training_percent\": \"100\", \"start_time\": \"2023-01-29T00:15:42.590807Z\", \"end_time\": \"2023-01-29T00:16:18.039221Z\", \"created_time\": \"2023-01-29T00:15:36.169819Z\", \"created_time_dt\": \"2023-01-29T00:15:36.169819Z\", \"duration\": \"0:00:41\", \"iteration\": \"25\", \"goal\": \"accuracy_max\", \"run_name\": \"SparseNormalizer, XGBoostClassifier\", \"run_properties\": \"copy=True, norm='max'\", \"primary_metric\": 0.98238892, \"best_metric\": 0.99770286}, {\"run_id\": \"AutoML_b656a63b-cc15-48a5-80c5-57adc9bbd5e7_26\", \"run_number\": 1674951366, \"metric\": null, \"status\": \"Completed\", \"run_type\": \"azureml.scriptrun\", \"training_percent\": \"100\", \"start_time\": \"2023-01-29T00:16:12.636855Z\", \"end_time\": \"2023-01-29T00:16:42.96212Z\", \"created_time\": \"2023-01-29T00:16:06.990241Z\", \"created_time_dt\": \"2023-01-29T00:16:06.990241Z\", \"duration\": \"0:00:35\", \"iteration\": \"26\", \"goal\": \"accuracy_max\", \"run_name\": \"MaxAbsScaler, RandomForest\", \"run_properties\": \"copy=True\", \"primary_metric\": 0.96796776, \"best_metric\": 0.99770286}, {\"run_id\": \"AutoML_b656a63b-cc15-48a5-80c5-57adc9bbd5e7_27\", \"run_number\": 1674951374, \"metric\": null, \"status\": \"Completed\", \"run_type\": \"azureml.scriptrun\", \"training_percent\": \"100\", \"start_time\": \"2023-01-29T00:16:23.291998Z\", \"end_time\": \"2023-01-29T00:16:57.476419Z\", \"created_time\": \"2023-01-29T00:16:14.160518Z\", \"created_time_dt\": \"2023-01-29T00:16:14.160518Z\", \"duration\": \"0:00:43\", \"iteration\": \"27\", \"goal\": \"accuracy_max\", \"run_name\": \"SparseNormalizer, XGBoostClassifier\", \"run_properties\": \"copy=True, norm='l2'\", \"primary_metric\": 0.98404798, \"best_metric\": 0.99770286}, {\"run_id\": \"AutoML_b656a63b-cc15-48a5-80c5-57adc9bbd5e7_28\", \"run_number\": 1674951379, \"metric\": null, \"status\": \"Completed\", \"run_type\": \"azureml.scriptrun\", \"training_percent\": \"100\", \"start_time\": \"2023-01-29T00:16:29.109803Z\", \"end_time\": \"2023-01-29T00:17:00.742143Z\", \"created_time\": \"2023-01-29T00:16:19.972934Z\", \"created_time_dt\": \"2023-01-29T00:16:19.972934Z\", \"duration\": \"0:00:40\", \"iteration\": \"28\", \"goal\": \"accuracy_max\", \"run_name\": \"StandardScalerWrapper, XGBoostClassifier\", \"run_properties\": \"copy=True, with_mean=False, with_std=False\", \"primary_metric\": 0.97281739, \"best_metric\": 0.99770286}, {\"run_id\": \"AutoML_b656a63b-cc15-48a5-80c5-57adc9bbd5e7_29\", \"run_number\": 1674951405, \"metric\": null, \"status\": \"Completed\", \"run_type\": \"azureml.scriptrun\", \"training_percent\": \"100\", \"start_time\": \"2023-01-29T00:16:52.085464Z\", \"end_time\": \"2023-01-29T00:17:23.348741Z\", \"created_time\": \"2023-01-29T00:16:45.934867Z\", \"created_time_dt\": \"2023-01-29T00:16:45.934867Z\", \"duration\": \"0:00:37\", \"iteration\": \"29\", \"goal\": \"accuracy_max\", \"run_name\": \"StandardScalerWrapper, XGBoostClassifier\", \"run_properties\": \"copy=True, with_mean=False, with_std=False\", \"primary_metric\": 0.99732004, \"best_metric\": 0.99770286}, {\"run_id\": \"AutoML_b656a63b-cc15-48a5-80c5-57adc9bbd5e7_30\", \"run_number\": 1674951420, \"metric\": null, \"status\": \"Completed\", \"run_type\": \"azureml.scriptrun\", \"training_percent\": \"100\", \"start_time\": \"2023-01-29T00:17:07.49221Z\", \"end_time\": \"2023-01-29T00:17:40.652077Z\", \"created_time\": \"2023-01-29T00:17:00.371334Z\", \"created_time_dt\": \"2023-01-29T00:17:00.371334Z\", \"duration\": \"0:00:40\", \"iteration\": \"30\", \"goal\": \"accuracy_max\", \"run_name\": \"TruncatedSVDWrapper, XGBoostClassifier\", \"run_properties\": \"n_components=0.2573684210526316, random_state=None\", \"primary_metric\": 0.49042952, \"best_metric\": 0.99770286}, {\"run_id\": \"AutoML_b656a63b-cc15-48a5-80c5-57adc9bbd5e7_31\", \"run_number\": 1674951422, \"metric\": null, \"status\": \"Completed\", \"run_type\": \"azureml.scriptrun\", \"training_percent\": \"100\", \"start_time\": \"2023-01-29T00:17:08.358817Z\", \"end_time\": \"2023-01-29T00:17:41.236668Z\", \"created_time\": \"2023-01-29T00:17:02.729895Z\", \"created_time_dt\": \"2023-01-29T00:17:02.729895Z\", \"duration\": \"0:00:38\", \"iteration\": \"31\", \"goal\": \"accuracy_max\", \"run_name\": \"SparseNormalizer, XGBoostClassifier\", \"run_properties\": \"copy=True, norm='l1'\", \"primary_metric\": 0.9888972, \"best_metric\": 0.99770286}, {\"run_id\": \"AutoML_b656a63b-cc15-48a5-80c5-57adc9bbd5e7_32\", \"run_number\": 1674951444, \"metric\": null, \"status\": \"Completed\", \"run_type\": \"azureml.scriptrun\", \"training_percent\": \"100\", \"start_time\": \"2023-01-29T00:17:31.454955Z\", \"end_time\": \"2023-01-29T00:18:01.894225Z\", \"created_time\": \"2023-01-29T00:17:24.943964Z\", \"created_time_dt\": \"2023-01-29T00:17:24.943964Z\", \"duration\": \"0:00:36\", \"iteration\": \"32\", \"goal\": \"accuracy_max\", \"run_name\": \"StandardScalerWrapper, XGBoostClassifier\", \"run_properties\": \"copy=True, with_mean=False, with_std=False\", \"primary_metric\": 0.98443153, \"best_metric\": 0.99770286}, {\"run_id\": \"AutoML_b656a63b-cc15-48a5-80c5-57adc9bbd5e7_33\", \"run_number\": 1674951462, \"metric\": null, \"status\": \"Completed\", \"run_type\": \"azureml.scriptrun\", \"training_percent\": \"100\", \"start_time\": \"2023-01-29T00:17:49.986626Z\", \"end_time\": \"2023-01-29T00:18:22.40882Z\", \"created_time\": \"2023-01-29T00:17:42.235166Z\", \"created_time_dt\": \"2023-01-29T00:17:42.235166Z\", \"duration\": \"0:00:40\", \"iteration\": \"33\", \"goal\": \"accuracy_max\", \"run_name\": \"MaxAbsScaler, LightGBM\", \"run_properties\": \"copy=True\", \"primary_metric\": 0.98328219, \"best_metric\": 0.99770286}, {\"run_id\": \"AutoML_b656a63b-cc15-48a5-80c5-57adc9bbd5e7_34\", \"run_number\": 1674951464, \"metric\": null, \"status\": \"Completed\", \"run_type\": \"azureml.scriptrun\", \"training_percent\": \"100\", \"start_time\": \"2023-01-29T00:17:49.784769Z\", \"end_time\": \"2023-01-29T00:18:22.449299Z\", \"created_time\": \"2023-01-29T00:17:44.510285Z\", \"created_time_dt\": \"2023-01-29T00:17:44.510285Z\", \"duration\": \"0:00:37\", \"iteration\": \"34\", \"goal\": \"accuracy_max\", \"run_name\": \"MaxAbsScaler, RandomForest\", \"run_properties\": \"copy=True\", \"primary_metric\": 0.97817762, \"best_metric\": 0.99770286}, {\"run_id\": \"AutoML_b656a63b-cc15-48a5-80c5-57adc9bbd5e7_35\", \"run_number\": 1674951486, \"metric\": null, \"status\": \"Canceled\", \"run_type\": \"azureml.scriptrun\", \"training_percent\": \"100\", \"start_time\": \"2023-01-29T00:18:15.50406Z\", \"end_time\": \"2023-01-29T00:18:26.470366Z\", \"created_time\": \"2023-01-29T00:18:06.005023Z\", \"created_time_dt\": \"2023-01-29T00:18:06.005023Z\", \"duration\": \"0:00:20\", \"iteration\": \"35\", \"goal\": null, \"run_name\": \"Canceled\", \"run_properties\": null}, {\"run_id\": \"AutoML_b656a63b-cc15-48a5-80c5-57adc9bbd5e7_36\", \"run_number\": 1674951507, \"metric\": null, \"status\": \"Completed\", \"run_type\": \"azureml.scriptrun\", \"training_percent\": \"100\", \"start_time\": \"2023-01-29T00:18:35.931873Z\", \"end_time\": \"2023-01-29T00:19:25.697321Z\", \"created_time\": \"2023-01-29T00:18:27.642649Z\", \"created_time_dt\": \"2023-01-29T00:18:27.642649Z\", \"duration\": \"0:00:58\", \"iteration\": \"36\", \"goal\": \"accuracy_max\", \"run_name\": \"VotingEnsemble\", \"run_properties\": \"classification_labels=numpy.array([0, 1]\", \"primary_metric\": 0.99795804, \"best_metric\": 0.99795804}], \"children_metrics\": {\"categories\": [0], \"series\": {\"precision_score_micro\": [{\"categories\": [\"0\", \"1\", \"3\", \"6\", \"8\", \"11\", \"13\", \"16\", \"18\", \"20\", \"22\", \"24\", \"25\", \"26\", \"27\", \"28\", \"29\", \"30\", \"31\", \"32\", \"33\", \"34\", \"36\"], \"mode\": \"markers\", \"name\": \"precision_score_micro\", \"stepped\": false, \"type\": \"scatter\", \"data\": [0.9974476772202181, 0.9977028606592604, 0.9821334149486214, 0.9962991482489614, 0.9128380468332834, 0.9918322577914382, 0.9813682716226249, 0.9766461163278329, 0.995533190940703, 0.9657980933279502, 0.9894077302267428, 0.9732002852193844, 0.9823889239805685, 0.9679677630465078, 0.9840479826263625, 0.9728173879634815, 0.9973200448015836, 0.490429522159853, 0.9888972005522056, 0.9844315310680749, 0.9832821881145565, 0.9781776239532188, 0.997958044098303]}, {\"categories\": [\"0\", \"1\", \"3\", \"6\", \"8\", \"11\", \"13\", \"16\", \"18\", \"20\", \"22\", \"24\", \"25\", \"26\", \"27\", \"28\", \"29\", \"30\", \"31\", \"32\", \"33\", \"34\", \"36\"], \"mode\": \"lines\", \"name\": \"precision_score_micro_max\", \"stepped\": true, \"type\": \"scatter\", \"data\": [0.9974476772202181, 0.9977028606592604, 0.9977028606592604, 0.9977028606592604, 0.9977028606592604, 0.9977028606592604, 0.9977028606592604, 0.9977028606592604, 0.9977028606592604, 0.9977028606592604, 0.9977028606592604, 0.9977028606592604, 0.9977028606592604, 0.9977028606592604, 0.9977028606592604, 0.9977028606592604, 0.9977028606592604, 0.9977028606592604, 0.9977028606592604, 0.9977028606592604, 0.9977028606592604, 0.9977028606592604, 0.997958044098303]}], \"average_precision_score_weighted\": [{\"categories\": [\"0\", \"1\", \"3\", \"6\", \"8\", \"11\", \"13\", \"16\", \"18\", \"20\", \"22\", \"24\", \"25\", \"26\", \"27\", \"28\", \"29\", \"30\", \"31\", \"32\", \"33\", \"34\", \"36\"], \"mode\": \"markers\", \"name\": \"average_precision_score_weighted\", \"stepped\": false, \"type\": \"scatter\", \"data\": [0.9999293694678638, 0.9999715123601944, 0.9931335832429804, 0.9996766880776786, 0.9543847617822456, 0.9996028785583828, 0.9901727839887539, 0.9884417625942309, 0.9997464150476816, 0.9946609059520044, 0.9975483426475529, 0.9955169548906104, 0.99287967465626, 0.994652877616506, 0.998902681939651, 0.9920856009643357, 0.9999137155870359, 0.500261009605891, 0.9987094166830548, 0.997247089778124, 0.9968226072304087, 0.9951572113468888, 0.9999436689275362]}, {\"categories\": [\"0\", \"1\", \"3\", \"6\", \"8\", \"11\", \"13\", \"16\", \"18\", \"20\", \"22\", \"24\", \"25\", \"26\", \"27\", \"28\", \"29\", \"30\", \"31\", \"32\", \"33\", \"34\", \"36\"], \"mode\": \"lines\", \"name\": \"average_precision_score_weighted_max\", \"stepped\": true, \"type\": \"scatter\", \"data\": [0.9999293694678638, 0.9999715123601944, 0.9999715123601944, 0.9999715123601944, 0.9999715123601944, 0.9999715123601944, 0.9999715123601944, 0.9999715123601944, 0.9999715123601944, 0.9999715123601944, 0.9999715123601944, 0.9999715123601944, 0.9999715123601944, 0.9999715123601944, 0.9999715123601944, 0.9999715123601944, 0.9999715123601944, 0.9999715123601944, 0.9999715123601944, 0.9999715123601944, 0.9999715123601944, 0.9999715123601944, 0.9999715123601944]}], \"matthews_correlation\": [{\"categories\": [\"0\", \"1\", \"3\", \"6\", \"8\", \"11\", \"13\", \"16\", \"18\", \"20\", \"22\", \"24\", \"25\", \"26\", \"27\", \"28\", \"29\", \"30\", \"31\", \"32\", \"33\", \"34\", \"36\"], \"mode\": \"markers\", \"name\": \"matthews_correlation\", \"stepped\": false, \"type\": \"scatter\", \"data\": [0.9948935740728555, 0.995403839853541, 0.9642540953516697, 0.9926000630240589, 0.8261859931573291, 0.9836626282500616, 0.9627570069343513, 0.9533159142537668, 0.991068384327051, 0.9316238314498498, 0.9788499077540191, 0.9464120369288281, 0.964788482149946, 0.9360163407146965, 0.9680827987235942, 0.9456195239040938, 0.9946389710525813, 0.0, 0.9777865503552171, 0.9688663914836214, 0.9665636927583019, 0.9563560096370021, 0.9959141606930155]}, {\"categories\": [\"0\", \"1\", \"3\", \"6\", \"8\", \"11\", \"13\", \"16\", \"18\", \"20\", \"22\", \"24\", \"25\", \"26\", \"27\", \"28\", \"29\", \"30\", \"31\", \"32\", \"33\", \"34\", \"36\"], \"mode\": \"lines\", \"name\": \"matthews_correlation_max\", \"stepped\": true, \"type\": \"scatter\", \"data\": [0.9948935740728555, 0.995403839853541, 0.995403839853541, 0.995403839853541, 0.995403839853541, 0.995403839853541, 0.995403839853541, 0.995403839853541, 0.995403839853541, 0.995403839853541, 0.995403839853541, 0.995403839853541, 0.995403839853541, 0.995403839853541, 0.995403839853541, 0.995403839853541, 0.995403839853541, 0.995403839853541, 0.995403839853541, 0.995403839853541, 0.995403839853541, 0.995403839853541, 0.9959141606930155]}], \"recall_score_macro\": [{\"categories\": [\"0\", \"1\", \"3\", \"6\", \"8\", \"11\", \"13\", \"16\", \"18\", \"20\", \"22\", \"24\", \"25\", \"26\", \"27\", \"28\", \"29\", \"30\", \"31\", \"32\", \"33\", \"34\", \"36\"], \"mode\": \"markers\", \"name\": \"recall_score_macro\", \"stepped\": false, \"type\": \"scatter\", \"data\": [0.9974495571371786, 0.997709797547577, 0.9820924966059262, 0.996288730137049, 0.9129976682663212, 0.9918084050951974, 0.9812735724112631, 0.9765486512482185, 0.9955476318530229, 0.9657605412616486, 0.9893724725721753, 0.9731810371215364, 0.9824041672717106, 0.9679228904834536, 0.9840071640860536, 0.9728271663295699, 0.9973104331670634, 0.5, 0.9888714934434107, 0.984456311561293, 0.9832834352309916, 0.9781255718513308, 0.9979588732070226]}, {\"categories\": [\"0\", \"1\", \"3\", \"6\", \"8\", \"11\", \"13\", \"16\", \"18\", \"20\", \"22\", \"24\", \"25\", \"26\", \"27\", \"28\", \"29\", \"30\", \"31\", \"32\", \"33\", \"34\", \"36\"], \"mode\": \"lines\", \"name\": \"recall_score_macro_max\", \"stepped\": true, \"type\": \"scatter\", \"data\": [0.9974495571371786, 0.997709797547577, 0.997709797547577, 0.997709797547577, 0.997709797547577, 0.997709797547577, 0.997709797547577, 0.997709797547577, 0.997709797547577, 0.997709797547577, 0.997709797547577, 0.997709797547577, 0.997709797547577, 0.997709797547577, 0.997709797547577, 0.997709797547577, 0.997709797547577, 0.997709797547577, 0.997709797547577, 0.997709797547577, 0.997709797547577, 0.997709797547577, 0.9979588732070226]}], \"AUC_weighted\": [{\"categories\": [\"0\", \"1\", \"3\", \"6\", \"8\", \"11\", \"13\", \"16\", \"18\", \"20\", \"22\", \"24\", \"25\", \"26\", \"27\", \"28\", \"29\", \"30\", \"31\", \"32\", \"33\", \"34\", \"36\"], \"mode\": \"markers\", \"name\": \"AUC_weighted\", \"stepped\": false, \"type\": \"scatter\", \"data\": [0.9999287770871472, 0.9999714850717203, 0.9947445032904186, 0.9996801153232433, 0.9587202428022028, 0.9995965750372754, 0.9928436871002617, 0.9918721723900331, 0.9997420823774986, 0.994502654967268, 0.9981298542621018, 0.995508602297887, 0.9940381778673666, 0.9946589221825818, 0.9988806626361472, 0.9938229098145897, 0.9999128145326976, 0.5, 0.9987046527480381, 0.9976904063037452, 0.9969239911191394, 0.9952210338815368, 0.9999431279781599]}, {\"categories\": [\"0\", \"1\", \"3\", \"6\", \"8\", \"11\", \"13\", \"16\", \"18\", \"20\", \"22\", \"24\", \"25\", \"26\", \"27\", \"28\", \"29\", \"30\", \"31\", \"32\", \"33\", \"34\", \"36\"], \"mode\": \"lines\", \"name\": \"AUC_weighted_max\", \"stepped\": true, \"type\": \"scatter\", \"data\": [0.9999287770871472, 0.9999714850717203, 0.9999714850717203, 0.9999714850717203, 0.9999714850717203, 0.9999714850717203, 0.9999714850717203, 0.9999714850717203, 0.9999714850717203, 0.9999714850717203, 0.9999714850717203, 0.9999714850717203, 0.9999714850717203, 0.9999714850717203, 0.9999714850717203, 0.9999714850717203, 0.9999714850717203, 0.9999714850717203, 0.9999714850717203, 0.9999714850717203, 0.9999714850717203, 0.9999714850717203, 0.9999714850717203]}], \"precision_score_weighted\": [{\"categories\": [\"0\", \"1\", \"3\", \"6\", \"8\", \"11\", \"13\", \"16\", \"18\", \"20\", \"22\", \"24\", \"25\", \"26\", \"27\", \"28\", \"29\", \"30\", \"31\", \"32\", \"33\", \"34\", \"36\"], \"mode\": \"markers\", \"name\": \"precision_score_weighted\", \"stepped\": false, \"type\": \"scatter\", \"data\": [0.9974489692901006, 0.9977035342161183, 0.9821414071332113, 0.9963050651705361, 0.9133886782869334, 0.9918384269188717, 0.9814116608375665, 0.9766976102667695, 0.9955389622110872, 0.9658617692652085, 0.9894553560046813, 0.9732390454093824, 0.9824176718409694, 0.9680825861896558, 0.9840541184355741, 0.9728297949099727, 0.9973224063422015, 0.24056002696279863, 0.9889029721102712, 0.9844518542829652, 0.9832981880350029, 0.9782032398911247, 0.9979583691197231]}, {\"categories\": [\"0\", \"1\", \"3\", \"6\", \"8\", \"11\", \"13\", \"16\", \"18\", \"20\", \"22\", \"24\", \"25\", \"26\", \"27\", \"28\", \"29\", \"30\", \"31\", \"32\", \"33\", \"34\", \"36\"], \"mode\": \"lines\", \"name\": \"precision_score_weighted_max\", \"stepped\": true, \"type\": \"scatter\", \"data\": [0.9974489692901006, 0.9977035342161183, 0.9977035342161183, 0.9977035342161183, 0.9977035342161183, 0.9977035342161183, 0.9977035342161183, 0.9977035342161183, 0.9977035342161183, 0.9977035342161183, 0.9977035342161183, 0.9977035342161183, 0.9977035342161183, 0.9977035342161183, 0.9977035342161183, 0.9977035342161183, 0.9977035342161183, 0.9977035342161183, 0.9977035342161183, 0.9977035342161183, 0.9977035342161183, 0.9977035342161183, 0.9979583691197231]}], \"AUC_micro\": [{\"categories\": [\"0\", \"1\", \"3\", \"6\", \"8\", \"11\", \"13\", \"16\", \"18\", \"20\", \"22\", \"24\", \"25\", \"26\", \"27\", \"28\", \"29\", \"30\", \"31\", \"32\", \"33\", \"34\", \"36\"], \"mode\": \"markers\", \"name\": \"AUC_micro\", \"stepped\": false, \"type\": \"scatter\", \"data\": [0.9999339476498348, 0.9999663634679186, 0.9951842609247711, 0.9996848615753088, 0.9567891823021194, 0.9995888392749499, 0.9928644425017144, 0.9922335530754017, 0.999754955250854, 0.9944536934173811, 0.9985522519193453, 0.9955339715589334, 0.9942258338235481, 0.9940998155827405, 0.9988801391263401, 0.9931701341346167, 0.9999107364281243, 0.490429522159853, 0.9986340119753091, 0.9977723508453817, 0.9969617655419307, 0.9952182785616515, 0.9999443716100597]}, {\"categories\": [\"0\", \"1\", \"3\", \"6\", \"8\", \"11\", \"13\", \"16\", \"18\", \"20\", \"22\", \"24\", \"25\", \"26\", \"27\", \"28\", \"29\", \"30\", \"31\", \"32\", \"33\", \"34\", \"36\"], \"mode\": \"lines\", \"name\": \"AUC_micro_max\", \"stepped\": true, \"type\": \"scatter\", \"data\": [0.9999339476498348, 0.9999663634679186, 0.9999663634679186, 0.9999663634679186, 0.9999663634679186, 0.9999663634679186, 0.9999663634679186, 0.9999663634679186, 0.9999663634679186, 0.9999663634679186, 0.9999663634679186, 0.9999663634679186, 0.9999663634679186, 0.9999663634679186, 0.9999663634679186, 0.9999663634679186, 0.9999663634679186, 0.9999663634679186, 0.9999663634679186, 0.9999663634679186, 0.9999663634679186, 0.9999663634679186, 0.9999663634679186]}], \"accuracy\": [{\"categories\": [\"0\", \"1\", \"3\", \"6\", \"8\", \"11\", \"13\", \"16\", \"18\", \"20\", \"22\", \"24\", \"25\", \"26\", \"27\", \"28\", \"29\", \"30\", \"31\", \"32\", \"33\", \"34\", \"36\"], \"mode\": \"markers\", \"name\": \"accuracy\", \"stepped\": false, \"type\": \"scatter\", \"data\": [0.9974476772202181, 0.9977028606592604, 0.9821334149486214, 0.9962991482489614, 0.9128380468332834, 0.9918322577914382, 0.9813682716226249, 0.9766461163278329, 0.995533190940703, 0.9657980933279502, 0.9894077302267428, 0.9732002852193844, 0.9823889239805685, 0.9679677630465078, 0.9840479826263625, 0.9728173879634815, 0.9973200448015836, 0.490429522159853, 0.9888972005522056, 0.9844315310680749, 0.9832821881145565, 0.9781776239532188, 0.997958044098303]}, {\"categories\": [\"0\", \"1\", \"3\", \"6\", \"8\", \"11\", \"13\", \"16\", \"18\", \"20\", \"22\", \"24\", \"25\", \"26\", \"27\", \"28\", \"29\", \"30\", \"31\", \"32\", \"33\", \"34\", \"36\"], \"mode\": \"lines\", \"name\": \"accuracy_max\", \"stepped\": true, \"type\": \"scatter\", \"data\": [0.9974476772202181, 0.9977028606592604, 0.9977028606592604, 0.9977028606592604, 0.9977028606592604, 0.9977028606592604, 0.9977028606592604, 0.9977028606592604, 0.9977028606592604, 0.9977028606592604, 0.9977028606592604, 0.9977028606592604, 0.9977028606592604, 0.9977028606592604, 0.9977028606592604, 0.9977028606592604, 0.9977028606592604, 0.9977028606592604, 0.9977028606592604, 0.9977028606592604, 0.9977028606592604, 0.9977028606592604, 0.997958044098303]}], \"f1_score_macro\": [{\"categories\": [\"0\", \"1\", \"3\", \"6\", \"8\", \"11\", \"13\", \"16\", \"18\", \"20\", \"22\", \"24\", \"25\", \"26\", \"27\", \"28\", \"29\", \"30\", \"31\", \"32\", \"33\", \"34\", \"36\"], \"mode\": \"markers\", \"name\": \"f1_score_macro\", \"stepped\": false, \"type\": \"scatter\", \"data\": [0.9974461366751228, 0.9977015946012606, 0.9821224045259896, 0.9962970259298235, 0.9128000236101025, 0.9918280760023676, 0.9813546723268575, 0.9766295388694377, 0.9955313518747284, 0.9657781494992908, 0.9894002224321786, 0.97318617903267, 0.9823799760299338, 0.9679475145819925, 0.9840376369710148, 0.972803967478205, 0.9973182662183578, 0.3290407609979643, 0.9888899809786146, 0.9844234031446787, 0.9832739065709608, 0.9781640344101634, 0.9979569177036259]}, {\"categories\": [\"0\", \"1\", \"3\", \"6\", \"8\", \"11\", \"13\", \"16\", \"18\", \"20\", \"22\", \"24\", \"25\", \"26\", \"27\", \"28\", \"29\", \"30\", \"31\", \"32\", \"33\", \"34\", \"36\"], \"mode\": \"lines\", \"name\": \"f1_score_macro_max\", \"stepped\": true, \"type\": \"scatter\", \"data\": [0.9974461366751228, 0.9977015946012606, 0.9977015946012606, 0.9977015946012606, 0.9977015946012606, 0.9977015946012606, 0.9977015946012606, 0.9977015946012606, 0.9977015946012606, 0.9977015946012606, 0.9977015946012606, 0.9977015946012606, 0.9977015946012606, 0.9977015946012606, 0.9977015946012606, 0.9977015946012606, 0.9977015946012606, 0.9977015946012606, 0.9977015946012606, 0.9977015946012606, 0.9977015946012606, 0.9977015946012606, 0.9979569177036259]}], \"AUC_macro\": [{\"categories\": [\"0\", \"1\", \"3\", \"6\", \"8\", \"11\", \"13\", \"16\", \"18\", \"20\", \"22\", \"24\", \"25\", \"26\", \"27\", \"28\", \"29\", \"30\", \"31\", \"32\", \"33\", \"34\", \"36\"], \"mode\": \"markers\", \"name\": \"AUC_macro\", \"stepped\": false, \"type\": \"scatter\", \"data\": [0.9999287770871472, 0.9999714850717203, 0.9947445032904186, 0.9996801153232433, 0.9587202428022028, 0.9995965750372754, 0.9928436871002615, 0.9918721723900331, 0.9997420823774986, 0.994502654967268, 0.9981298542621018, 0.995508602297887, 0.9940381778673666, 0.9946589221825818, 0.9988806626361472, 0.9938229098145897, 0.9999128145326974, 0.5, 0.9987046527480381, 0.9976904063037451, 0.9969239911191394, 0.9952210338815369, 0.9999431279781599]}, {\"categories\": [\"0\", \"1\", \"3\", \"6\", \"8\", \"11\", \"13\", \"16\", \"18\", \"20\", \"22\", \"24\", \"25\", \"26\", \"27\", \"28\", \"29\", \"30\", \"31\", \"32\", \"33\", \"34\", \"36\"], \"mode\": \"lines\", \"name\": \"AUC_macro_max\", \"stepped\": true, \"type\": \"scatter\", \"data\": [0.9999287770871472, 0.9999714850717203, 0.9999714850717203, 0.9999714850717203, 0.9999714850717203, 0.9999714850717203, 0.9999714850717203, 0.9999714850717203, 0.9999714850717203, 0.9999714850717203, 0.9999714850717203, 0.9999714850717203, 0.9999714850717203, 0.9999714850717203, 0.9999714850717203, 0.9999714850717203, 0.9999714850717203, 0.9999714850717203, 0.9999714850717203, 0.9999714850717203, 0.9999714850717203, 0.9999714850717203, 0.9999714850717203]}], \"recall_score_weighted\": [{\"categories\": [\"0\", \"1\", \"3\", \"6\", \"8\", \"11\", \"13\", \"16\", \"18\", \"20\", \"22\", \"24\", \"25\", \"26\", \"27\", \"28\", \"29\", \"30\", \"31\", \"32\", \"33\", \"34\", \"36\"], \"mode\": \"markers\", \"name\": \"recall_score_weighted\", \"stepped\": false, \"type\": \"scatter\", \"data\": [0.9974476772202181, 0.9977028606592604, 0.9821334149486214, 0.9962991482489614, 0.9128380468332834, 0.9918322577914382, 0.9813682716226249, 0.9766461163278329, 0.995533190940703, 0.9657980933279502, 0.9894077302267428, 0.9732002852193844, 0.9823889239805685, 0.9679677630465078, 0.9840479826263625, 0.9728173879634815, 0.9973200448015836, 0.490429522159853, 0.9888972005522056, 0.9844315310680749, 0.9832821881145565, 0.9781776239532188, 0.997958044098303]}, {\"categories\": [\"0\", \"1\", \"3\", \"6\", \"8\", \"11\", \"13\", \"16\", \"18\", \"20\", \"22\", \"24\", \"25\", \"26\", \"27\", \"28\", \"29\", \"30\", \"31\", \"32\", \"33\", \"34\", \"36\"], \"mode\": \"lines\", \"name\": \"recall_score_weighted_max\", \"stepped\": true, \"type\": \"scatter\", \"data\": [0.9974476772202181, 0.9977028606592604, 0.9977028606592604, 0.9977028606592604, 0.9977028606592604, 0.9977028606592604, 0.9977028606592604, 0.9977028606592604, 0.9977028606592604, 0.9977028606592604, 0.9977028606592604, 0.9977028606592604, 0.9977028606592604, 0.9977028606592604, 0.9977028606592604, 0.9977028606592604, 0.9977028606592604, 0.9977028606592604, 0.9977028606592604, 0.9977028606592604, 0.9977028606592604, 0.9977028606592604, 0.997958044098303]}], \"norm_macro_recall\": [{\"categories\": [\"0\", \"1\", \"3\", \"6\", \"8\", \"11\", \"13\", \"16\", \"18\", \"20\", \"22\", \"24\", \"25\", \"26\", \"27\", \"28\", \"29\", \"30\", \"31\", \"32\", \"33\", \"34\", \"36\"], \"mode\": \"markers\", \"name\": \"norm_macro_recall\", \"stepped\": false, \"type\": \"scatter\", \"data\": [0.9948991142743571, 0.995419595095154, 0.9641849932118525, 0.9925774602740981, 0.8259953365326427, 0.9836168101903947, 0.9625471448225265, 0.9530973024964371, 0.9910952637060457, 0.9315210825232969, 0.9787449451443507, 0.946362074243073, 0.9648083345434213, 0.9358457809669071, 0.9680143281721072, 0.9456543326591398, 0.9946208663341267, 0.0, 0.9777429868868215, 0.968912623122586, 0.9665668704619833, 0.9562511437026618, 0.9959177464140453]}, {\"categories\": [\"0\", \"1\", \"3\", \"6\", \"8\", \"11\", \"13\", \"16\", \"18\", \"20\", \"22\", \"24\", \"25\", \"26\", \"27\", \"28\", \"29\", \"30\", \"31\", \"32\", \"33\", \"34\", \"36\"], \"mode\": \"lines\", \"name\": \"norm_macro_recall_max\", \"stepped\": true, \"type\": \"scatter\", \"data\": [0.9948991142743571, 0.995419595095154, 0.995419595095154, 0.995419595095154, 0.995419595095154, 0.995419595095154, 0.995419595095154, 0.995419595095154, 0.995419595095154, 0.995419595095154, 0.995419595095154, 0.995419595095154, 0.995419595095154, 0.995419595095154, 0.995419595095154, 0.995419595095154, 0.995419595095154, 0.995419595095154, 0.995419595095154, 0.995419595095154, 0.995419595095154, 0.995419595095154, 0.9959177464140453]}], \"f1_score_weighted\": [{\"categories\": [\"0\", \"1\", \"3\", \"6\", \"8\", \"11\", \"13\", \"16\", \"18\", \"20\", \"22\", \"24\", \"25\", \"26\", \"27\", \"28\", \"29\", \"30\", \"31\", \"32\", \"33\", \"34\", \"36\"], \"mode\": \"markers\", \"name\": \"f1_score_weighted\", \"stepped\": false, \"type\": \"scatter\", \"data\": [0.9974476733338726, 0.9977028722448479, 0.9821327695973727, 0.9962991026870579, 0.9128201679660449, 0.9918321063340649, 0.9813661452361913, 0.9766434533876275, 0.995533237027763, 0.9657961720230084, 0.9894068294695801, 0.9731998354976013, 0.9823890388894192, 0.9679645350857508, 0.9840472906171209, 0.9728178003606299, 0.997320006621876, 0.3227775223237776, 0.9888967950011498, 0.9844319045335416, 0.9832822532949331, 0.9781764690302077, 0.9979580439947883]}, {\"categories\": [\"0\", \"1\", \"3\", \"6\", \"8\", \"11\", \"13\", \"16\", \"18\", \"20\", \"22\", \"24\", \"25\", \"26\", \"27\", \"28\", \"29\", \"30\", \"31\", \"32\", \"33\", \"34\", \"36\"], \"mode\": \"lines\", \"name\": \"f1_score_weighted_max\", \"stepped\": true, \"type\": \"scatter\", \"data\": [0.9974476733338726, 0.9977028722448479, 0.9977028722448479, 0.9977028722448479, 0.9977028722448479, 0.9977028722448479, 0.9977028722448479, 0.9977028722448479, 0.9977028722448479, 0.9977028722448479, 0.9977028722448479, 0.9977028722448479, 0.9977028722448479, 0.9977028722448479, 0.9977028722448479, 0.9977028722448479, 0.9977028722448479, 0.9977028722448479, 0.9977028722448479, 0.9977028722448479, 0.9977028722448479, 0.9977028722448479, 0.9979580439947883]}], \"precision_score_macro\": [{\"categories\": [\"0\", \"1\", \"3\", \"6\", \"8\", \"11\", \"13\", \"16\", \"18\", \"20\", \"22\", \"24\", \"25\", \"26\", \"27\", \"28\", \"29\", \"30\", \"31\", \"32\", \"33\", \"34\", \"36\"], \"mode\": \"markers\", \"name\": \"precision_score_macro\", \"stepped\": false, \"type\": \"scatter\", \"data\": [0.9974440177724422, 0.9976940425580378, 0.9821616029552755, 0.9963113363773084, 0.9131885362213467, 0.9918542281744298, 0.9814834720942223, 0.9767672927225766, 0.9955207537831269, 0.9658633177127864, 0.9894774972181122, 0.9732310257393714, 0.9823843252443426, 0.9680935065067727, 0.9840756406237151, 0.972792362912107, 0.9973285387124651, 0.2452147610799265, 0.9889150640599708, 0.9844100871170998, 0.9832802666578939, 0.9782304567876515, 0.9979552875403446]}, {\"categories\": [\"0\", \"1\", \"3\", \"6\", \"8\", \"11\", \"13\", \"16\", \"18\", \"20\", \"22\", \"24\", \"25\", \"26\", \"27\", \"28\", \"29\", \"30\", \"31\", \"32\", \"33\", \"34\", \"36\"], \"mode\": \"lines\", \"name\": \"precision_score_macro_max\", \"stepped\": true, \"type\": \"scatter\", \"data\": [0.9974440177724422, 0.9976940425580378, 0.9976940425580378, 0.9976940425580378, 0.9976940425580378, 0.9976940425580378, 0.9976940425580378, 0.9976940425580378, 0.9976940425580378, 0.9976940425580378, 0.9976940425580378, 0.9976940425580378, 0.9976940425580378, 0.9976940425580378, 0.9976940425580378, 0.9976940425580378, 0.9976940425580378, 0.9976940425580378, 0.9976940425580378, 0.9976940425580378, 0.9976940425580378, 0.9976940425580378, 0.9979552875403446]}], \"log_loss\": [{\"categories\": [\"0\", \"1\", \"3\", \"6\", \"8\", \"11\", \"13\", \"16\", \"18\", \"20\", \"22\", \"24\", \"25\", \"26\", \"27\", \"28\", \"29\", \"30\", \"31\", \"32\", \"33\", \"34\", \"36\"], \"mode\": \"markers\", \"name\": \"log_loss\", \"stepped\": false, \"type\": \"scatter\", \"data\": [0.010492436550130197, 0.0063499160394465595, 0.6096622266163333, 0.04692671529733966, 0.6146646116232285, 0.05768523472774175, 0.23516611825713163, 0.0932749500127581, 0.06771640848755944, 0.13637095236858485, 0.09609908279794907, 0.13271376881600733, 0.6111583729643184, 0.16826073744955217, 0.052756880310404805, 0.1402448824921491, 0.010904782295118237, 0.6932859001883291, 0.042287582678135496, 0.5082711641195632, 0.14113799778525912, 0.18611874640793316, 0.018439937576820036]}, {\"categories\": [\"0\", \"1\", \"3\", \"6\", \"8\", \"11\", \"13\", \"16\", \"18\", \"20\", \"22\", \"24\", \"25\", \"26\", \"27\", \"28\", \"29\", \"30\", \"31\", \"32\", \"33\", \"34\", \"36\"], \"mode\": \"lines\", \"name\": \"log_loss_min\", \"stepped\": true, \"type\": \"scatter\", \"data\": [0.010492436550130197, 0.0063499160394465595, 0.0063499160394465595, 0.0063499160394465595, 0.0063499160394465595, 0.0063499160394465595, 0.0063499160394465595, 0.0063499160394465595, 0.0063499160394465595, 0.0063499160394465595, 0.0063499160394465595, 0.0063499160394465595, 0.0063499160394465595, 0.0063499160394465595, 0.0063499160394465595, 0.0063499160394465595, 0.0063499160394465595, 0.0063499160394465595, 0.0063499160394465595, 0.0063499160394465595, 0.0063499160394465595, 0.0063499160394465595, 0.0063499160394465595]}], \"average_precision_score_micro\": [{\"categories\": [\"0\", \"1\", \"3\", \"6\", \"8\", \"11\", \"13\", \"16\", \"18\", \"20\", \"22\", \"24\", \"25\", \"26\", \"27\", \"28\", \"29\", \"30\", \"31\", \"32\", \"33\", \"34\", \"36\"], \"mode\": \"markers\", \"name\": \"average_precision_score_micro\", \"stepped\": false, \"type\": \"scatter\", \"data\": [0.9999345190401492, 0.9999664992619008, 0.9939754351270633, 0.9996826572711829, 0.9526600183632292, 0.9995947633301014, 0.9901610965033694, 0.9888452270974005, 0.9997582951936167, 0.9946077168218986, 0.9982090280635599, 0.9955482053276121, 0.9932506716971796, 0.9941224464958657, 0.9989011179408844, 0.9913566613944369, 0.9999118270141473, 0.4953452658828721, 0.9986409686308543, 0.9973980722879471, 0.9968917467097039, 0.9951639125894735, 0.99994497054764]}, {\"categories\": [\"0\", \"1\", \"3\", \"6\", \"8\", \"11\", \"13\", \"16\", \"18\", \"20\", \"22\", \"24\", \"25\", \"26\", \"27\", \"28\", \"29\", \"30\", \"31\", \"32\", \"33\", \"34\", \"36\"], \"mode\": \"lines\", \"name\": \"average_precision_score_micro_max\", \"stepped\": true, \"type\": \"scatter\", \"data\": [0.9999345190401492, 0.9999664992619008, 0.9999664992619008, 0.9999664992619008, 0.9999664992619008, 0.9999664992619008, 0.9999664992619008, 0.9999664992619008, 0.9999664992619008, 0.9999664992619008, 0.9999664992619008, 0.9999664992619008, 0.9999664992619008, 0.9999664992619008, 0.9999664992619008, 0.9999664992619008, 0.9999664992619008, 0.9999664992619008, 0.9999664992619008, 0.9999664992619008, 0.9999664992619008, 0.9999664992619008, 0.9999664992619008]}], \"balanced_accuracy\": [{\"categories\": [\"0\", \"1\", \"3\", \"6\", \"8\", \"11\", \"13\", \"16\", \"18\", \"20\", \"22\", \"24\", \"25\", \"26\", \"27\", \"28\", \"29\", \"30\", \"31\", \"32\", \"33\", \"34\", \"36\"], \"mode\": \"markers\", \"name\": \"balanced_accuracy\", \"stepped\": false, \"type\": \"scatter\", \"data\": [0.9974495571371786, 0.997709797547577, 0.9820924966059262, 0.996288730137049, 0.9129976682663212, 0.9918084050951974, 0.9812735724112631, 0.9765486512482185, 0.9955476318530229, 0.9657605412616486, 0.9893724725721753, 0.9731810371215364, 0.9824041672717106, 0.9679228904834536, 0.9840071640860536, 0.9728271663295699, 0.9973104331670634, 0.5, 0.9888714934434107, 0.984456311561293, 0.9832834352309916, 0.9781255718513308, 0.9979588732070226]}, {\"categories\": [\"0\", \"1\", \"3\", \"6\", \"8\", \"11\", \"13\", \"16\", \"18\", \"20\", \"22\", \"24\", \"25\", \"26\", \"27\", \"28\", \"29\", \"30\", \"31\", \"32\", \"33\", \"34\", \"36\"], \"mode\": \"lines\", \"name\": \"balanced_accuracy_max\", \"stepped\": true, \"type\": \"scatter\", \"data\": [0.9974495571371786, 0.997709797547577, 0.997709797547577, 0.997709797547577, 0.997709797547577, 0.997709797547577, 0.997709797547577, 0.997709797547577, 0.997709797547577, 0.997709797547577, 0.997709797547577, 0.997709797547577, 0.997709797547577, 0.997709797547577, 0.997709797547577, 0.997709797547577, 0.997709797547577, 0.997709797547577, 0.997709797547577, 0.997709797547577, 0.997709797547577, 0.997709797547577, 0.9979588732070226]}], \"f1_score_micro\": [{\"categories\": [\"0\", \"1\", \"3\", \"6\", \"8\", \"11\", \"13\", \"16\", \"18\", \"20\", \"22\", \"24\", \"25\", \"26\", \"27\", \"28\", \"29\", \"30\", \"31\", \"32\", \"33\", \"34\", \"36\"], \"mode\": \"markers\", \"name\": \"f1_score_micro\", \"stepped\": false, \"type\": \"scatter\", \"data\": [0.9974476772202181, 0.9977028606592604, 0.9821334149486214, 0.9962991482489614, 0.9128380468332834, 0.9918322577914382, 0.9813682716226249, 0.9766461163278329, 0.995533190940703, 0.9657980933279502, 0.9894077302267428, 0.9732002852193844, 0.9823889239805685, 0.9679677630465078, 0.9840479826263625, 0.9728173879634815, 0.9973200448015836, 0.490429522159853, 0.9888972005522056, 0.9844315310680749, 0.9832821881145565, 0.9781776239532188, 0.997958044098303]}, {\"categories\": [\"0\", \"1\", \"3\", \"6\", \"8\", \"11\", \"13\", \"16\", \"18\", \"20\", \"22\", \"24\", \"25\", \"26\", \"27\", \"28\", \"29\", \"30\", \"31\", \"32\", \"33\", \"34\", \"36\"], \"mode\": \"lines\", \"name\": \"f1_score_micro_max\", \"stepped\": true, \"type\": \"scatter\", \"data\": [0.9974476772202181, 0.9977028606592604, 0.9977028606592604, 0.9977028606592604, 0.9977028606592604, 0.9977028606592604, 0.9977028606592604, 0.9977028606592604, 0.9977028606592604, 0.9977028606592604, 0.9977028606592604, 0.9977028606592604, 0.9977028606592604, 0.9977028606592604, 0.9977028606592604, 0.9977028606592604, 0.9977028606592604, 0.9977028606592604, 0.9977028606592604, 0.9977028606592604, 0.9977028606592604, 0.9977028606592604, 0.997958044098303]}], \"weighted_accuracy\": [{\"categories\": [\"0\", \"1\", \"3\", \"6\", \"8\", \"11\", \"13\", \"16\", \"18\", \"20\", \"22\", \"24\", \"25\", \"26\", \"27\", \"28\", \"29\", \"30\", \"31\", \"32\", \"33\", \"34\", \"36\"], \"mode\": \"markers\", \"name\": \"weighted_accuracy\", \"stepped\": false, \"type\": \"scatter\", \"data\": [0.9974458014017833, 0.9976959320604225, 0.9821742737357031, 0.9963095479156439, 0.9126786171720666, 0.9918560617370314, 0.9814628549801544, 0.9767434507098323, 0.9955187724173079, 0.9658355963527452, 0.9894428942340843, 0.9732194847222775, 0.982373696937864, 0.9680125097819001, 0.9840887353186915, 0.9728076199492642, 0.9973296425675645, 0.48087341362567637, 0.9889228575011957, 0.984406792954767, 0.9832809747143321, 0.978229583126567, 0.9979572145969062]}, {\"categories\": [\"0\", \"1\", \"3\", \"6\", \"8\", \"11\", \"13\", \"16\", \"18\", \"20\", \"22\", \"24\", \"25\", \"26\", \"27\", \"28\", \"29\", \"30\", \"31\", \"32\", \"33\", \"34\", \"36\"], \"mode\": \"lines\", \"name\": \"weighted_accuracy_max\", \"stepped\": true, \"type\": \"scatter\", \"data\": [0.9974458014017833, 0.9976959320604225, 0.9976959320604225, 0.9976959320604225, 0.9976959320604225, 0.9976959320604225, 0.9976959320604225, 0.9976959320604225, 0.9976959320604225, 0.9976959320604225, 0.9976959320604225, 0.9976959320604225, 0.9976959320604225, 0.9976959320604225, 0.9976959320604225, 0.9976959320604225, 0.9976959320604225, 0.9976959320604225, 0.9976959320604225, 0.9976959320604225, 0.9976959320604225, 0.9976959320604225, 0.9979572145969062]}], \"recall_score_micro\": [{\"categories\": [\"0\", \"1\", \"3\", \"6\", \"8\", \"11\", \"13\", \"16\", \"18\", \"20\", \"22\", \"24\", \"25\", \"26\", \"27\", \"28\", \"29\", \"30\", \"31\", \"32\", \"33\", \"34\", \"36\"], \"mode\": \"markers\", \"name\": \"recall_score_micro\", \"stepped\": false, \"type\": \"scatter\", \"data\": [0.9974476772202181, 0.9977028606592604, 0.9821334149486214, 0.9962991482489614, 0.9128380468332834, 0.9918322577914382, 0.9813682716226249, 0.9766461163278329, 0.995533190940703, 0.9657980933279502, 0.9894077302267428, 0.9732002852193844, 0.9823889239805685, 0.9679677630465078, 0.9840479826263625, 0.9728173879634815, 0.9973200448015836, 0.490429522159853, 0.9888972005522056, 0.9844315310680749, 0.9832821881145565, 0.9781776239532188, 0.997958044098303]}, {\"categories\": [\"0\", \"1\", \"3\", \"6\", \"8\", \"11\", \"13\", \"16\", \"18\", \"20\", \"22\", \"24\", \"25\", \"26\", \"27\", \"28\", \"29\", \"30\", \"31\", \"32\", \"33\", \"34\", \"36\"], \"mode\": \"lines\", \"name\": \"recall_score_micro_max\", \"stepped\": true, \"type\": \"scatter\", \"data\": [0.9974476772202181, 0.9977028606592604, 0.9977028606592604, 0.9977028606592604, 0.9977028606592604, 0.9977028606592604, 0.9977028606592604, 0.9977028606592604, 0.9977028606592604, 0.9977028606592604, 0.9977028606592604, 0.9977028606592604, 0.9977028606592604, 0.9977028606592604, 0.9977028606592604, 0.9977028606592604, 0.9977028606592604, 0.9977028606592604, 0.9977028606592604, 0.9977028606592604, 0.9977028606592604, 0.9977028606592604, 0.997958044098303]}], \"average_precision_score_macro\": [{\"categories\": [\"0\", \"1\", \"3\", \"6\", \"8\", \"11\", \"13\", \"16\", \"18\", \"20\", \"22\", \"24\", \"25\", \"26\", \"27\", \"28\", \"29\", \"30\", \"31\", \"32\", \"33\", \"34\", \"36\"], \"mode\": \"markers\", \"name\": \"average_precision_score_macro\", \"stepped\": false, \"type\": \"scatter\", \"data\": [0.9999292442269324, 0.9999714864135824, 0.9931363105814144, 0.9996754397656297, 0.9542733183813954, 0.9996026488147425, 0.9901709158461193, 0.9884117122135233, 0.9997467572448493, 0.9946571943133307, 0.9975501333064954, 0.9955103162505893, 0.992883357023292, 0.994647885325266, 0.9989016102114933, 0.9920676070791291, 0.9999135945953345, 0.5, 0.9987089875223786, 0.9972457960723938, 0.9968220642999913, 0.9951550884156346, 0.9999435795202973]}, {\"categories\": [\"0\", \"1\", \"3\", \"6\", \"8\", \"11\", \"13\", \"16\", \"18\", \"20\", \"22\", \"24\", \"25\", \"26\", \"27\", \"28\", \"29\", \"30\", \"31\", \"32\", \"33\", \"34\", \"36\"], \"mode\": \"lines\", \"name\": \"average_precision_score_macro_max\", \"stepped\": true, \"type\": \"scatter\", \"data\": [0.9999292442269324, 0.9999714864135824, 0.9999714864135824, 0.9999714864135824, 0.9999714864135824, 0.9999714864135824, 0.9999714864135824, 0.9999714864135824, 0.9999714864135824, 0.9999714864135824, 0.9999714864135824, 0.9999714864135824, 0.9999714864135824, 0.9999714864135824, 0.9999714864135824, 0.9999714864135824, 0.9999714864135824, 0.9999714864135824, 0.9999714864135824, 0.9999714864135824, 0.9999714864135824, 0.9999714864135824, 0.9999714864135824]}]}, \"metricName\": null, \"primaryMetricName\": \"accuracy\", \"showLegend\": false}, \"run_metrics\": [{\"name\": \"experiment_status\", \"run_id\": \"AutoML_b656a63b-cc15-48a5-80c5-57adc9bbd5e7\", \"categories\": [0, 1, 2, 3, 4, 5, 6, 7, 8, 9, 10, 11, 12, 13], \"series\": [{\"data\": [\"DatasetEvaluation\", \"FeaturesGeneration\", \"DatasetFeaturization\", \"DatasetFeaturizationCompleted\", \"DatasetCrossValidationSplit\", \"ModelSelection\", \"BestRunExplainModel\", \"ModelExplanationDataSetSetup\", \"PickSurrogateModel\", \"EngineeredFeatureExplanations\", \"EngineeredFeatureExplanations\", \"RawFeaturesExplanations\", \"RawFeaturesExplanations\", \"BestRunExplainModel\"]}]}, {\"name\": \"experiment_status_description\", \"run_id\": \"AutoML_b656a63b-cc15-48a5-80c5-57adc9bbd5e7\", \"categories\": [0, 1, 2, 3, 4, 5, 6, 7, 8, 9, 10, 11, 12, 13], \"series\": [{\"data\": [\"Gathering dataset statistics.\", \"Generating features for the dataset.\", \"Beginning to fit featurizers and featurize the dataset.\", \"Completed fit featurizers and featurizing the dataset.\", \"Generating individually featurized CV splits.\", \"Beginning model selection.\", \"Best run model explanations started\", \"Model explanations data setup completed\", \"Choosing LightGBM as the surrogate model for explanations\", \"Computation of engineered features started\", \"Computation of engineered features completed\", \"Computation of raw features started\", \"Computation of raw features completed\", \"Best run model explanations completed\"]}]}, {\"name\": \"norm_macro_recall\", \"run_id\": \"AutoML_b656a63b-cc15-48a5-80c5-57adc9bbd5e7\", \"categories\": [0], \"series\": [{\"data\": [0.9959177464140453]}]}, {\"name\": \"average_precision_score_micro\", \"run_id\": \"AutoML_b656a63b-cc15-48a5-80c5-57adc9bbd5e7\", \"categories\": [0], \"series\": [{\"data\": [0.99994497054764]}]}, {\"name\": \"AUC_micro\", \"run_id\": \"AutoML_b656a63b-cc15-48a5-80c5-57adc9bbd5e7\", \"categories\": [0], \"series\": [{\"data\": [0.9999443716100597]}]}, {\"name\": \"f1_score_weighted\", \"run_id\": \"AutoML_b656a63b-cc15-48a5-80c5-57adc9bbd5e7\", \"categories\": [0], \"series\": [{\"data\": [0.9979580439947883]}]}, {\"name\": \"log_loss\", \"run_id\": \"AutoML_b656a63b-cc15-48a5-80c5-57adc9bbd5e7\", \"categories\": [0], \"series\": [{\"data\": [0.018439937576820036]}]}, {\"name\": \"recall_score_weighted\", \"run_id\": \"AutoML_b656a63b-cc15-48a5-80c5-57adc9bbd5e7\", \"categories\": [0], \"series\": [{\"data\": [0.997958044098303]}]}, {\"name\": \"precision_score_weighted\", \"run_id\": \"AutoML_b656a63b-cc15-48a5-80c5-57adc9bbd5e7\", \"categories\": [0], \"series\": [{\"data\": [0.9979583691197231]}]}, {\"name\": \"f1_score_macro\", \"run_id\": \"AutoML_b656a63b-cc15-48a5-80c5-57adc9bbd5e7\", \"categories\": [0], \"series\": [{\"data\": [0.9979569177036259]}]}, {\"name\": \"matthews_correlation\", \"run_id\": \"AutoML_b656a63b-cc15-48a5-80c5-57adc9bbd5e7\", \"categories\": [0], \"series\": [{\"data\": [0.9959141606930155]}]}, {\"name\": \"weighted_accuracy\", \"run_id\": \"AutoML_b656a63b-cc15-48a5-80c5-57adc9bbd5e7\", \"categories\": [0], \"series\": [{\"data\": [0.9979572145969062]}]}, {\"name\": \"balanced_accuracy\", \"run_id\": \"AutoML_b656a63b-cc15-48a5-80c5-57adc9bbd5e7\", \"categories\": [0], \"series\": [{\"data\": [0.9979588732070226]}]}, {\"name\": \"average_precision_score_weighted\", \"run_id\": \"AutoML_b656a63b-cc15-48a5-80c5-57adc9bbd5e7\", \"categories\": [0], \"series\": [{\"data\": [0.9999436689275362]}]}, {\"name\": \"average_precision_score_macro\", \"run_id\": \"AutoML_b656a63b-cc15-48a5-80c5-57adc9bbd5e7\", \"categories\": [0], \"series\": [{\"data\": [0.9999435795202973]}]}, {\"name\": \"AUC_macro\", \"run_id\": \"AutoML_b656a63b-cc15-48a5-80c5-57adc9bbd5e7\", \"categories\": [0], \"series\": [{\"data\": [0.9999431279781599]}]}, {\"name\": \"recall_score_macro\", \"run_id\": \"AutoML_b656a63b-cc15-48a5-80c5-57adc9bbd5e7\", \"categories\": [0], \"series\": [{\"data\": [0.9979588732070226]}]}, {\"name\": \"f1_score_micro\", \"run_id\": \"AutoML_b656a63b-cc15-48a5-80c5-57adc9bbd5e7\", \"categories\": [0], \"series\": [{\"data\": [0.997958044098303]}]}, {\"name\": \"precision_score_micro\", \"run_id\": \"AutoML_b656a63b-cc15-48a5-80c5-57adc9bbd5e7\", \"categories\": [0], \"series\": [{\"data\": [0.997958044098303]}]}, {\"name\": \"accuracy\", \"run_id\": \"AutoML_b656a63b-cc15-48a5-80c5-57adc9bbd5e7\", \"categories\": [0], \"series\": [{\"data\": [0.997958044098303]}]}, {\"name\": \"precision_score_macro\", \"run_id\": \"AutoML_b656a63b-cc15-48a5-80c5-57adc9bbd5e7\", \"categories\": [0], \"series\": [{\"data\": [0.9979552875403446]}]}, {\"name\": \"recall_score_micro\", \"run_id\": \"AutoML_b656a63b-cc15-48a5-80c5-57adc9bbd5e7\", \"categories\": [0], \"series\": [{\"data\": [0.997958044098303]}]}, {\"name\": \"AUC_weighted\", \"run_id\": \"AutoML_b656a63b-cc15-48a5-80c5-57adc9bbd5e7\", \"categories\": [0], \"series\": [{\"data\": [0.9999431279781599]}]}], \"run_logs\": \"\\nRun is completed.\", \"graph\": {}, \"widget_settings\": {\"childWidgetDisplay\": \"popup\", \"send_telemetry\": false, \"log_level\": \"INFO\", \"sdk_version\": \"1.47.0\"}, \"loading\": false}"
          },
          "metadata": {}
        }
      ],
      "execution_count": 9,
      "metadata": {
        "gather": {
          "logged": 1674951595069
        },
        "jupyter": {
          "outputs_hidden": false,
          "source_hidden": false
        },
        "nteract": {
          "transient": {
            "deleting": false
          }
        }
      }
    },
    {
      "cell_type": "code",
      "source": [
        "status = remote_run.wait_for_completion()"
      ],
      "outputs": [],
      "execution_count": 10,
      "metadata": {
        "gather": {
          "logged": 1674951824746
        }
      }
    },
    {
      "cell_type": "markdown",
      "source": [
        "## Best Model\n",
        "\n",
        "TODO: In the cell below, get the best model from the automl experiments and display all the properties of the model.\n",
        "\n"
      ],
      "metadata": {}
    },
    {
      "cell_type": "code",
      "source": [
        "best_run, fitted_model = remote_run.get_output()\n",
        "\n",
        "\n",
        "# Best Run\n",
        "print(\"Best Run: \")\n",
        "print(\"\")\n",
        "\n",
        "# Accuracy\n",
        "print(\"Accuracy: \" + str(best_run.get_metrics()['accuracy']))\n",
        "print(\"\")\n",
        "\n",
        "# Metrics\n",
        "print(\"Metrics: \" + str(best_run.get_metrics()))\n",
        "print(\"\")\n",
        "\n",
        "# Name\n",
        "print(\"Name: \" + str(best_run.properties['model_name']))\n",
        "print(\"\")\n",
        "\n",
        "# Tags\n",
        "print(\"Tags: \" + str(best_run.get_tags()))\n",
        "print(\"\")\n"
      ],
      "outputs": [
        {
          "output_type": "stream",
          "name": "stderr",
          "text": "WARNING:root:The version of the SDK does not match the version the model was trained on.\nWARNING:root:The consistency in the result may not be guaranteed.\nWARNING:root:Package:azureml-automl-core, training version:1.48.0, current version:1.47.0\nPackage:azureml-automl-runtime, training version:1.48.0.post1, current version:1.47.0\nPackage:azureml-core, training version:1.48.0, current version:1.47.0\nPackage:azureml-dataprep, training version:4.8.3, current version:4.5.7\nPackage:azureml-dataprep-rslex, training version:2.15.1, current version:2.11.4\nPackage:azureml-dataset-runtime, training version:1.48.0, current version:1.47.0\nPackage:azureml-defaults, training version:1.48.0, current version:1.47.0\nPackage:azureml-interpret, training version:1.48.0, current version:1.47.0\nPackage:azureml-mlflow, training version:1.48.0, current version:1.47.0\nPackage:azureml-pipeline-core, training version:1.48.0, current version:1.47.0\nPackage:azureml-responsibleai, training version:1.48.0, current version:1.47.0\nPackage:azureml-telemetry, training version:1.48.0, current version:1.47.0\nPackage:azureml-train-automl-client, training version:1.48.0, current version:1.47.0\nPackage:azureml-train-automl-runtime, training version:1.48.0.post1, current version:1.47.0\nPackage:azureml-train-core, training version:1.48.0, current version:1.47.0\nPackage:azureml-train-restclients-hyperdrive, training version:1.48.0, current version:1.47.0\nPackage:azureml-training-tabular, training version:1.48.0, current version:1.47.0\nWARNING:root:Please ensure the version of your local conda dependencies match the version on which your model was trained in order to properly retrieve your model.\n"
        },
        {
          "output_type": "stream",
          "name": "stdout",
          "text": "Best Run: \n\nAccuracy: 0.997958044098303\n\nMetrics: {'recall_score_macro': 0.9979588732070226, 'recall_score_micro': 0.997958044098303, 'precision_score_weighted': 0.9979583691197231, 'weighted_accuracy': 0.9979572145969062, 'AUC_macro': 0.9999431279781599, 'matthews_correlation': 0.9959141606930155, 'balanced_accuracy': 0.9979588732070226, 'norm_macro_recall': 0.9959177464140453, 'f1_score_macro': 0.9979569177036259, 'average_precision_score_micro': 0.99994497054764, 'log_loss': 0.018439937576820036, 'accuracy': 0.997958044098303, 'precision_score_macro': 0.9979552875403446, 'f1_score_weighted': 0.9979580439947883, 'AUC_weighted': 0.9999431279781599, 'average_precision_score_macro': 0.9999435795202973, 'f1_score_micro': 0.997958044098303, 'AUC_micro': 0.9999443716100597, 'precision_score_micro': 0.997958044098303, 'recall_score_weighted': 0.997958044098303, 'average_precision_score_weighted': 0.9999436689275362, 'accuracy_table': 'aml://artifactId/ExperimentRun/dcid.AutoML_b656a63b-cc15-48a5-80c5-57adc9bbd5e7_36/accuracy_table', 'confusion_matrix': 'aml://artifactId/ExperimentRun/dcid.AutoML_b656a63b-cc15-48a5-80c5-57adc9bbd5e7_36/confusion_matrix'}\n\nName: AutoMLb656a63bc36\n\nTags: {'_aml_system_azureml.automlComponent': 'AutoML', '_aml_system_ComputeTargetStatus': '{\"AllocationState\":\"steady\",\"PreparingNodeCount\":0,\"RunningNodeCount\":4,\"CurrentNodeCount\":4}', 'mlflow.source.type': 'JOB', 'mlflow.source.name': 'automl_driver.py', '_aml_system_codegen': 'completed', '_aml_system_automl_is_child_run_end_telemetry_event_logged': 'True'}\n\n"
        }
      ],
      "execution_count": 11,
      "metadata": {
        "gather": {
          "logged": 1674951839377
        },
        "jupyter": {
          "outputs_hidden": false,
          "source_hidden": false
        },
        "nteract": {
          "transient": {
            "deleting": false
          }
        }
      }
    },
    {
      "cell_type": "code",
      "source": [
        "# Locate Scoring File\n",
        "best_run.get_file_names()"
      ],
      "outputs": [
        {
          "output_type": "execute_result",
          "execution_count": 12,
          "data": {
            "text/plain": "['accuracy_table',\n 'automl_driver.py',\n 'confusion_matrix',\n 'explanation/6e51b67d/classes.interpret.json',\n 'explanation/6e51b67d/eval_data_viz.interpret.json',\n 'explanation/6e51b67d/expected_values.interpret.json',\n 'explanation/6e51b67d/features.interpret.json',\n 'explanation/6e51b67d/global_names/0.interpret.json',\n 'explanation/6e51b67d/global_rank/0.interpret.json',\n 'explanation/6e51b67d/global_values/0.interpret.json',\n 'explanation/6e51b67d/local_importance_values.interpret.json',\n 'explanation/6e51b67d/per_class_names/0.interpret.json',\n 'explanation/6e51b67d/per_class_rank/0.interpret.json',\n 'explanation/6e51b67d/per_class_values/0.interpret.json',\n 'explanation/6e51b67d/rich_metadata.interpret.json',\n 'explanation/6e51b67d/true_ys_viz.interpret.json',\n 'explanation/6e51b67d/visualization_dict.interpret.json',\n 'explanation/6e51b67d/ys_pred_proba_viz.interpret.json',\n 'explanation/6e51b67d/ys_pred_viz.interpret.json',\n 'explanation/bd2a701d/classes.interpret.json',\n 'explanation/bd2a701d/expected_values.interpret.json',\n 'explanation/bd2a701d/features.interpret.json',\n 'explanation/bd2a701d/global_names/0.interpret.json',\n 'explanation/bd2a701d/global_rank/0.interpret.json',\n 'explanation/bd2a701d/global_values/0.interpret.json',\n 'explanation/bd2a701d/local_importance_values_sparse.interpret.json',\n 'explanation/bd2a701d/per_class_names/0.interpret.json',\n 'explanation/bd2a701d/per_class_rank/0.interpret.json',\n 'explanation/bd2a701d/per_class_values/0.interpret.json',\n 'explanation/bd2a701d/rich_metadata.interpret.json',\n 'explanation/bd2a701d/true_ys_viz.interpret.json',\n 'explanation/bd2a701d/visualization_dict.interpret.json',\n 'explanation/bd2a701d/ys_pred_proba_viz.interpret.json',\n 'explanation/bd2a701d/ys_pred_viz.interpret.json',\n 'logs/azureml/azureml_automl.log',\n 'outputs/conda_env_v_1_0_0.yml',\n 'outputs/engineered_feature_names.json',\n 'outputs/env_dependencies.json',\n 'outputs/featurization_summary.json',\n 'outputs/generated_code/conda_environment.yaml',\n 'outputs/generated_code/script.py',\n 'outputs/generated_code/script_run_notebook.ipynb',\n 'outputs/internal_cross_validated_models.pkl',\n 'outputs/model.pkl',\n 'outputs/pipeline_graph.json',\n 'outputs/run_id.txt',\n 'outputs/scoring_file_pbi_v_1_0_0.py',\n 'outputs/scoring_file_v_1_0_0.py',\n 'outputs/scoring_file_v_2_0_0.py',\n 'system_logs/cs_capability/cs-capability.log',\n 'system_logs/hosttools_capability/hosttools-capability.log',\n 'system_logs/lifecycler/execution-wrapper.log',\n 'system_logs/lifecycler/lifecycler.log',\n 'system_logs/metrics_capability/metrics-capability.log',\n 'system_logs/snapshot_capability/snapshot-capability.log',\n 'user_logs/std_log.txt']"
          },
          "metadata": {}
        }
      ],
      "execution_count": 12,
      "metadata": {
        "jupyter": {
          "source_hidden": false,
          "outputs_hidden": false
        },
        "nteract": {
          "transient": {
            "deleting": false
          }
        },
        "gather": {
          "logged": 1674951897459
        }
      }
    },
    {
      "cell_type": "code",
      "source": [
        "y_test = test['y']\n",
        "X_test = test.drop(['y'], axis=1)\n",
        "\n",
        "ypred = fitted_model.predict(X_test)\n",
        "cm = confusion_matrix(y_test, ypred)\n",
        "\n",
        "# Visualize the confusion matrix\n",
        "pd.DataFrame(cm).style.background_gradient(cmap='Blues', low=0, high=0.9)"
      ],
      "outputs": [
        {
          "output_type": "execute_result",
          "execution_count": 13,
          "data": {
            "text/plain": "<pandas.io.formats.style.Styler at 0x7f77426b0d90>",
            "text/html": "<style  type=\"text/css\" >\n#T_5f4acc58_9f6b_11ed_ae6a_cfafd5da1bcfrow0_col0,#T_5f4acc58_9f6b_11ed_ae6a_cfafd5da1bcfrow1_col1{\n            background-color:  #63a8d3;\n            color:  #000000;\n        }#T_5f4acc58_9f6b_11ed_ae6a_cfafd5da1bcfrow0_col1,#T_5f4acc58_9f6b_11ed_ae6a_cfafd5da1bcfrow1_col0{\n            background-color:  #f7fbff;\n            color:  #000000;\n        }</style><table id=\"T_5f4acc58_9f6b_11ed_ae6a_cfafd5da1bcf\" ><thead>    <tr>        <th class=\"blank level0\" ></th>        <th class=\"col_heading level0 col0\" >0</th>        <th class=\"col_heading level0 col1\" >1</th>    </tr></thead><tbody>\n                <tr>\n                        <th id=\"T_5f4acc58_9f6b_11ed_ae6a_cfafd5da1bcflevel0_row0\" class=\"row_heading level0 row0\" >0</th>\n                        <td id=\"T_5f4acc58_9f6b_11ed_ae6a_cfafd5da1bcfrow0_col0\" class=\"data row0 col0\" >975</td>\n                        <td id=\"T_5f4acc58_9f6b_11ed_ae6a_cfafd5da1bcfrow0_col1\" class=\"data row0 col1\" >3</td>\n            </tr>\n            <tr>\n                        <th id=\"T_5f4acc58_9f6b_11ed_ae6a_cfafd5da1bcflevel0_row1\" class=\"row_heading level0 row1\" >1</th>\n                        <td id=\"T_5f4acc58_9f6b_11ed_ae6a_cfafd5da1bcfrow1_col0\" class=\"data row1 col0\" >4</td>\n                        <td id=\"T_5f4acc58_9f6b_11ed_ae6a_cfafd5da1bcfrow1_col1\" class=\"data row1 col1\" >978</td>\n            </tr>\n    </tbody></table>"
          },
          "metadata": {}
        }
      ],
      "execution_count": 13,
      "metadata": {
        "gather": {
          "logged": 1674951902366
        }
      }
    },
    {
      "cell_type": "code",
      "source": [
        "#TODO: Save the best model\n",
        "\n",
        "joblib.dump(fitted_model, filename='automl_best_model.joblib')\n",
        "\n",
        "# register model\n",
        "model_name = best_run.properties['model_name']\n",
        "model = remote_run.register_model(model_name=model_name)"
      ],
      "outputs": [],
      "execution_count": 19,
      "metadata": {
        "jupyter": {
          "source_hidden": false,
          "outputs_hidden": false
        },
        "nteract": {
          "transient": {
            "deleting": false
          }
        },
        "gather": {
          "logged": 1674952202395
        }
      }
    },
    {
      "cell_type": "markdown",
      "source": [
        "## Model Deployment\n",
        "\n",
        "Remember you have to deploy only one of the two models you trained but you still need to register both the models. Perform the steps in the rest of this notebook only if you wish to deploy this model.\n",
        "\n",
        "TODO: In the cell below, register the model, create an inference config and deploy the model as a web service."
      ],
      "metadata": {}
    },
    {
      "cell_type": "code",
      "source": [
        "# Download Scoring File\n",
        "best_run.download_file('outputs/scoring_file_v_1_0_0.py','score.py')"
      ],
      "outputs": [],
      "execution_count": 20,
      "metadata": {
        "jupyter": {
          "source_hidden": false,
          "outputs_hidden": false
        },
        "nteract": {
          "transient": {
            "deleting": false
          }
        },
        "gather": {
          "logged": 1674952205930
        }
      }
    },
    {
      "cell_type": "code",
      "source": [
        "environment = best_run.get_environment().save_to_directory(path='environment')\n",
        "entry_script= 'score.py'\n",
        "inference_config = InferenceConfig(entry_script = entry_script, environment=environment)\n",
        "deployment_config = AciWebservice.deploy_configuration(cpu_cores=1, memory_gb=1)\n",
        "\n",
        "service = Model.deploy(workspace=ws,\n",
        "                    name=\"wine-webservice\",\n",
        "                    models=[model],\n",
        "                    inference_config=inference_config,\n",
        "                    deployment_config=deployment_config)\n",
        "\n",
        "service.wait_for_deployment(show_output=True)"
      ],
      "outputs": [
        {
          "output_type": "stream",
          "name": "stdout",
          "text": "Tips: You can try get_logs(): https://aka.ms/debugimage#dockerlog or local deployment: https://aka.ms/debugimage#debug-locally to debug if deployment takes longer than 10 minutes.\nRunning\n2023-01-29 00:51:18+00:00 Creating Container Registry if not exists.\n2023-01-29 00:51:19+00:00 Use the existing image.\n2023-01-29 00:51:20+00:00 Submitting deployment to compute.\n2023-01-29 00:51:23+00:00 Checking the status of deployment wine-webservice..\n2023-01-29 00:53:16+00:00 Checking the status of inference endpoint wine-webservice.\nSucceeded\nACI service creation operation finished, operation \"Succeeded\"\n"
        }
      ],
      "execution_count": 26,
      "metadata": {
        "gather": {
          "logged": 1674953602968
        },
        "jupyter": {
          "outputs_hidden": false,
          "source_hidden": false
        },
        "nteract": {
          "transient": {
            "deleting": false
          }
        }
      }
    },
    {
      "attachments": {},
      "cell_type": "markdown",
      "source": [
        "## Interacting with the endpoint\n",
        "TODO: In the cell below, send a request to the web service you deployed to test it."
      ],
      "metadata": {
        "collapsed": true,
        "gather": {
          "logged": 1598431657736
        },
        "jupyter": {
          "outputs_hidden": false,
          "source_hidden": false
        },
        "nteract": {
          "transient": {
            "deleting": false
          }
        }
      }
    },
    {
      "cell_type": "code",
      "source": [
        "url = service.scoring_uri\n",
        "print(url)\n",
        "\n",
        "test_payloads = [\n",
        "    {\n",
        "    'fixed acidity': 6.6,\n",
        "    'volatile acidity': 0.84,\n",
        "    'citric acid': 0.03,\n",
        "    'residual sugar': 2.3,\n",
        "    'chlorides': 0.059,\n",
        "    'free sulfur dioxide': 32.0,\n",
        "    'total sulfur dioxide': 48.0,\n",
        "    'density': 0.9952,\n",
        "    'pH': 3.52,\n",
        "    'sulphates': 0.56,\n",
        "    'alcohol': 12.3,\n",
        "    'quality': 7\n",
        "    },\n",
        "    {\n",
        "    'fixed acidity': 6.0,\n",
        "    'volatile acidity': 0.2,\n",
        "    'citric acid': 0.26,\n",
        "    'residual sugar': 1.1,\n",
        "    'chlorides': 0.033,\n",
        "    'free sulfur dioxide': 38.0,\n",
        "    'total sulfur dioxide': 67.0,\n",
        "    'density': 0.98954,\n",
        "    'pH': 3.14,\n",
        "    'sulphates': 0.38,\n",
        "    'alcohol': 11.5,\n",
        "    'quality': 6\n",
        "    }\n",
        "]\n",
        "\n",
        "for payload in test_payloads:\n",
        "\n",
        "    test_payload = {\"data\":[payload]}\n",
        "    input_data = json.dumps(test_payload)\n",
        "    print(input_data)\n",
        "\n",
        "    output = requests.post(url, input_data, headers={'Content-Type': 'application/json'})\n",
        "    print(output.json())\n"
      ],
      "outputs": [
        {
          "output_type": "stream",
          "name": "stdout",
          "text": "http://de2e33ba-8d0c-43de-8824-d550f61cd983.southcentralus.azurecontainer.io/score\n{\"data\": [{\"fixed acidity\": 6.6, \"volatile acidity\": 0.84, \"citric acid\": 0.03, \"residual sugar\": 2.3, \"chlorides\": 0.059, \"free sulfur dioxide\": 32.0, \"total sulfur dioxide\": 48.0, \"density\": 0.9952, \"pH\": 3.52, \"sulphates\": 0.56, \"alcohol\": 12.3, \"quality\": 7}]}\n{\"result\": [1]}\n{\"data\": [{\"fixed acidity\": 6.0, \"volatile acidity\": 0.2, \"citric acid\": 0.26, \"residual sugar\": 1.1, \"chlorides\": 0.033, \"free sulfur dioxide\": 38.0, \"total sulfur dioxide\": 67.0, \"density\": 0.98954, \"pH\": 3.14, \"sulphates\": 0.38, \"alcohol\": 11.5, \"quality\": 6}]}\n{\"result\": [0]}\n"
        }
      ],
      "execution_count": 27,
      "metadata": {
        "gather": {
          "logged": 1674953617234
        },
        "jupyter": {
          "outputs_hidden": false,
          "source_hidden": false
        },
        "nteract": {
          "transient": {
            "deleting": false
          }
        }
      }
    },
    {
      "cell_type": "code",
      "source": [
        "# Look at service logs\n",
        "print(service.get_logs())"
      ],
      "outputs": [
        {
          "output_type": "stream",
          "name": "stdout",
          "text": "2023-01-29T00:53:01,321011800+00:00 - iot-server/run \n2023-01-29T00:53:01,323901000+00:00 - rsyslog/run \n2023-01-29T00:53:01,341813100+00:00 - gunicorn/run \n2023-01-29T00:53:01,344835900+00:00 | gunicorn/run | \n2023-01-29T00:53:01,354773200+00:00 | gunicorn/run | ###############################################\n2023-01-29T00:53:01,356350300+00:00 | gunicorn/run | AzureML Container Runtime Information\n2023-01-29T00:53:01,363162700+00:00 | gunicorn/run | ###############################################\n2023-01-29T00:53:01,364737900+00:00 | gunicorn/run | \n2023-01-29T00:53:01,366437000+00:00 | gunicorn/run | \n2023-01-29T00:53:01,381630400+00:00 | gunicorn/run | AzureML image information: openmpi3.1.2-ubuntu18.04, Materializaton Build:20230103.v4\n2023-01-29T00:53:01,383985600+00:00 | gunicorn/run | \n2023-01-29T00:53:01,390085700+00:00 | gunicorn/run | \n2023-01-29T00:53:01,390464100+00:00 - nginx/run \n2023-01-29T00:53:01,391879700+00:00 | gunicorn/run | PATH environment variable: /azureml-envs/azureml_cc96bffb210e59c36dafe3fe23d9a95e/bin:/opt/miniconda/bin:/usr/local/sbin:/usr/local/bin:/usr/sbin:/usr/bin:/sbin:/bin\n2023-01-29T00:53:01,396960300+00:00 | gunicorn/run | PYTHONPATH environment variable: \n2023-01-29T00:53:01,398465300+00:00 | gunicorn/run | \n2023-01-29T00:53:01,400036600+00:00 | gunicorn/run | Pip Dependencies (before dynamic installation)\n\nEdgeHubConnectionString and IOTEDGE_IOTHUBHOSTNAME are not set. Exiting...\n2023-01-29T00:53:01,841839000+00:00 - iot-server/finish 1 0\n2023-01-29T00:53:01,845489400+00:00 - Exit code 1 is normal. Not restarting iot-server.\nadal==1.2.7\napplicationinsights==0.11.10\nargcomplete==2.0.0\narviz @ file:///home/conda/feedstock_root/build_artifacts/arviz_1666645025910/work\nattrs==22.2.0\nazure-common==1.1.28\nazure-core==1.26.2\nazure-graphrbac==0.61.1\nazure-identity==1.12.0\nazure-mgmt-authorization==3.0.0\nazure-mgmt-containerregistry==10.0.0\nazure-mgmt-core==1.3.2\nazure-mgmt-keyvault==10.1.0\nazure-mgmt-resource==21.2.1\nazure-mgmt-storage==20.1.0\nazure-storage-blob==12.13.0\nazure-storage-queue==12.5.0\nazureml-automl-core==1.48.0\nazureml-automl-runtime==1.48.0.post1\nazureml-core==1.48.0\nazureml-dataprep==4.8.3\nazureml-dataprep-native==38.0.0\nazureml-dataprep-rslex==2.15.1\nazureml-dataset-runtime==1.48.0\nazureml-defaults==1.48.0\nazureml-inference-server-http==0.7.7\nazureml-interpret==1.48.0\nazureml-mlflow==1.48.0\nazureml-pipeline-core==1.48.0\nazureml-responsibleai==1.48.0\nazureml-telemetry==1.48.0\nazureml-train-automl-client==1.48.0\nazureml-train-automl-runtime==1.48.0.post1\nazureml-train-core==1.48.0\nazureml-train-restclients-hyperdrive==1.48.0\nazureml-training-tabular==1.48.0\nbackcall==0.2.0\nbackports.tempfile==1.0\nbackports.weakref==1.0.post1\nbcrypt==4.0.1\nbokeh==2.4.3\nboto==2.49.0\nboto3 @ file:///home/conda/feedstock_root/build_artifacts/boto3_1602889982367/work\nbotocore @ file:///home/conda/feedstock_root/build_artifacts/botocore_1602884371056/work\nbrotlipy @ file:///home/conda/feedstock_root/build_artifacts/brotlipy_1648854164153/work\ncachetools==5.2.1\ncertifi==2022.12.7\ncffi @ file:///home/conda/feedstock_root/build_artifacts/cffi_1625835301720/work\ncftime @ file:///home/conda/feedstock_root/build_artifacts/cftime_1663606412550/work\ncharset-normalizer==3.0.1\nclick @ file:///home/conda/feedstock_root/build_artifacts/click_1645238117885/work\ncloudpickle @ file:///home/conda/feedstock_root/build_artifacts/cloudpickle_1598400192773/work\ncolorama @ file:///home/conda/feedstock_root/build_artifacts/colorama_1666700638685/work\ncontextlib2==21.6.0\nconvertdate @ file:///home/conda/feedstock_root/build_artifacts/convertdate_1642883757836/work\ncryptography @ file:///home/conda/feedstock_root/build_artifacts/cryptography_1666563349571/work\ncycler @ file:///home/conda/feedstock_root/build_artifacts/cycler_1635519461629/work\nCython==0.29.17\ndask==2021.6.0\ndatabricks-cli==0.17.4\ndataclasses==0.6\ndebugpy==1.6.5\ndecorator==5.1.1\ndice-ml==0.9\ndill==0.3.6\ndistributed==2021.6.0\ndistro==1.8.0\ndocker==6.0.1\ndotnetcore2==3.1.23\neconml==0.14.0\nentrypoints==0.4\nephem @ file:///home/conda/feedstock_root/build_artifacts/ephem_1649637195901/work\nerroranalysis==0.3.13\nfairlearn==0.7.0\nfbprophet @ file:///home/conda/feedstock_root/build_artifacts/fbprophet_1599365534439/work\nfire==0.5.0\nFlask==2.2.2\nFlask-Cors==3.0.10\nflatbuffers==23.1.4\nfonttools @ file:///home/conda/feedstock_root/build_artifacts/fonttools_1666389892786/work\nfsspec==2022.11.0\ngensim==3.8.3\ngitdb==4.0.10\nGitPython==3.1.30\ngoogle-api-core==2.11.0\ngoogle-auth==2.16.0\ngoogleapis-common-protos==1.58.0\ngunicorn==20.1.0\nh5py==3.7.0\nHeapDict==1.0.1\nholidays @ file:///home/conda/feedstock_root/build_artifacts/holidays_1595448845196/work\nhumanfriendly==10.0\nidna @ file:///home/conda/feedstock_root/build_artifacts/idna_1663625384323/work\nimportlib-metadata @ file:///home/conda/feedstock_root/build_artifacts/importlib-metadata_1653252814274/work\nimportlib-resources==5.10.2\ninference-schema==1.5.1\ninterpret-community==0.27.0\ninterpret-core==0.2.7\nipykernel==6.6.0\nipython==7.34.0\nisodate==0.6.1\nitsdangerous==2.1.2\njedi==0.18.2\njeepney==0.8.0\nJinja2==3.1.2\njmespath @ file:///home/conda/feedstock_root/build_artifacts/jmespath_1589369830981/work\njoblib @ file:///home/conda/feedstock_root/build_artifacts/joblib_1589548394565/work\njsonpickle==2.2.0\njsonschema==4.17.3\njupyter-client==7.4.9\njupyter-core==4.12.0\nkeras2onnx==1.6.0\nkiwisolver @ file:///home/conda/feedstock_root/build_artifacts/kiwisolver_1657953088445/work\nknack==0.10.1\nkorean-lunar-calendar @ file:///home/conda/feedstock_root/build_artifacts/korean_lunar_calendar_1663341251025/work\nlightgbm==3.2.1\nllvmlite==0.38.1\nlocket==1.0.0\nLunarCalendar==0.0.9\nMarkupSafe==2.0.1\nmatplotlib @ file:///home/conda/feedstock_root/build_artifacts/matplotlib-suite_1661439848456/work\nmatplotlib-inline==0.1.6\nml-wrappers==0.2.2\nmlflow-skinny==1.30.0\nmpi4py==3.1.3\nmsal==1.20.0\nmsal-extensions==1.0.0\nmsgpack==1.0.4\nmsrest==0.7.1\nmsrestazure==0.6.4\nmunkres==1.1.4\nndg-httpsclient==0.5.1\nnest-asyncio==1.5.6\nnetCDF4 @ file:///home/conda/feedstock_root/build_artifacts/netcdf4_1663234155476/work\nnetworkx==2.5\nnimbusml==1.8.0\nnumba==0.55.2\nnumpy @ file:///home/conda/feedstock_root/build_artifacts/numpy_1649806299270/work\noauthlib==3.2.2\nonnx==1.12.0\nonnxconverter-common==1.6.0\nonnxmltools==1.4.1\nonnxruntime==1.11.1\nopencensus==0.11.0\nopencensus-context==0.1.3\nopencensus-ext-azure==1.1.7\npackaging==21.3\npandas==1.1.5\nparamiko==2.12.0\nparso==0.8.3\npartd==1.3.0\npathspec==0.10.3\npatsy==0.5.3\npexpect==4.8.0\npickleshare==0.7.5\nPillow @ file:///home/conda/feedstock_root/build_artifacts/pillow_1660385854171/work\npkginfo==1.9.6\npkgutil-resolve-name==1.3.10\npmdarima==1.7.1\nportalocker==2.6.0\nprompt-toolkit==3.0.36\nprotobuf==3.20.1\npsutil @ file:///home/conda/feedstock_root/build_artifacts/psutil_1666155398032/work\nptyprocess==0.7.0\npy-cpuinfo==5.0.0\npyarrow==9.0.0\npyasn1==0.4.8\npyasn1-modules==0.2.8\npycparser @ file:///home/conda/feedstock_root/build_artifacts/pycparser_1636257122734/work\nPygments==2.14.0\nPyJWT==2.6.0\nPyMeeus @ file:///home/conda/feedstock_root/build_artifacts/pymeeus_1670868433998/work\nPyNaCl==1.5.0\npyOpenSSL==22.1.0\npyparsing @ file:///home/conda/feedstock_root/build_artifacts/pyparsing_1652235407899/work\npyrsistent==0.19.3\nPySocks @ file:///home/conda/feedstock_root/build_artifacts/pysocks_1648857264451/work\npystan @ file:///home/conda/feedstock_root/build_artifacts/pystan_1598392733373/work\npython-dateutil @ file:///home/conda/feedstock_root/build_artifacts/python-dateutil_1626286286081/work\npytz @ file:///home/conda/feedstock_root/build_artifacts/pytz_1671365381334/work\nPyYAML==6.0\npyzmq==25.0.0\nraiutils==0.3.0\nrequests==2.28.2\nrequests-oauthlib==1.3.1\nresponsibleai==0.23.0\nrsa==4.9\ns3transfer @ file:///home/conda/feedstock_root/build_artifacts/s3transfer_1618355402893/work\nscikit-learn==0.22.1\nscipy==1.5.3\nSecretStorage==3.3.3\nsemver==2.13.0\nsetuptools-git==1.2\nshap==0.39.0\nsix @ file:///home/conda/feedstock_root/build_artifacts/six_1620240208055/work\nskl2onnx==1.4.9\nsklearn-pandas==1.7.0\nslicer==0.0.7\nsmart-open==1.9.0\nsmmap==5.0.0\nsortedcontainers==2.4.0\nsparse==0.13.0\nsqlparse==0.4.3\nstatsmodels==0.11.1\ntabulate==0.9.0\ntblib==1.7.0\ntermcolor==2.2.0\ntoolz==0.12.0\ntornado==6.2\ntqdm @ file:///home/conda/feedstock_root/build_artifacts/tqdm_1662214488106/work\ntraitlets==5.8.1\ntyping-extensions @ file:///home/conda/feedstock_root/build_artifacts/typing_extensions_1665144421445/work\nunicodedata2 @ file:///home/conda/feedstock_root/build_artifacts/unicodedata2_1649111917568/work\nurllib3 @ file:///home/conda/feedstock_root/build_artifacts/urllib3_1603125704209/work\nwcwidth==0.2.5\nwebsocket-client==1.4.2\nWerkzeug==2.2.2\nwrapt==1.12.1\nxarray @ file:///home/conda/feedstock_root/build_artifacts/xarray_1639125986756/work\nxarray-einstats @ file:///home/conda/feedstock_root/build_artifacts/xarray-einstats_1648967091347/work\nxgboost==1.3.3\nzict==2.2.0\nzipp @ file:///home/conda/feedstock_root/build_artifacts/zipp_1669453021653/work\n\n2023-01-29T00:53:02,905833800+00:00 | gunicorn/run | \n2023-01-29T00:53:02,908957800+00:00 | gunicorn/run | ###############################################\n2023-01-29T00:53:02,913879500+00:00 | gunicorn/run | AzureML Inference Server\n2023-01-29T00:53:02,916007300+00:00 | gunicorn/run | ###############################################\n2023-01-29T00:53:02,917895500+00:00 | gunicorn/run | \n2023-01-29T00:53:06,048985983+00:00 | gunicorn/run | Starting AzureML Inference Server HTTP.\n\nAzure ML Inferencing HTTP server v0.7.7\n\n\nServer Settings\n---------------\nEntry Script Name: /var/azureml-app/main.py\nModel Directory: /var/azureml-app/azureml-models/AutoMLb656a63bc36/1\nWorker Count: 1\nWorker Timeout (seconds): 300\nServer Port: 31311\nApplication Insights Enabled: false\nApplication Insights Key: None\nInferencing HTTP server version: azmlinfsrv/0.7.7\nCORS for the specified origins: None\n\n\nServer Routes\n---------------\nLiveness Probe: GET   127.0.0.1:31311/\nScore:          POST  127.0.0.1:31311/score\n\nStarting gunicorn 20.1.0\nListening at: http://0.0.0.0:31311 (74)\nUsing worker: sync\nBooting worker with pid: 138\nInitializing logger\n2023-01-29 00:53:07,651 | root | INFO | Starting up app insights client\nlogging socket was found. logging is available.\nlogging socket was found. logging is available.\n2023-01-29 00:53:07,655 | root | INFO | Starting up app insight hooks\n2023-01-29 00:53:08,997 | root | INFO | Found driver script at /var/azureml-app/main.py and the score script at /var/azureml-app/score.py\n2023-01-29 00:53:08,998 | root | INFO | run() is decorated with @input_schema. Server will invoke it with the following arguments: data, method.\n2023-01-29 00:53:08,998 | root | INFO | Invoking user's init function\ngenerated new fontManager\nImporting plotly failed. Interactive plots will not work.\n2023-01-29 00:53:19,561 | azureml.core | WARNING | Failure while loading azureml_run_type_providers. Failed to load entrypoint azureml.scriptrun = azureml.core.script_run:ScriptRun._from_run_dto with exception (urllib3 1.25.11 (/azureml-envs/azureml_cc96bffb210e59c36dafe3fe23d9a95e/lib/python3.7/site-packages), Requirement.parse('urllib3>=1.26.0'), {'docker'}).\nFailure while loading azureml_run_type_providers. Failed to load entrypoint azureml.scriptrun = azureml.core.script_run:ScriptRun._from_run_dto with exception (urllib3 1.25.11 (/azureml-envs/azureml_cc96bffb210e59c36dafe3fe23d9a95e/lib/python3.7/site-packages), Requirement.parse('urllib3>=1.26.0'), {'docker'}).\n2023-01-29 00:53:19,579 | azureml.core | WARNING | Failure while loading azureml_run_type_providers. Failed to load entrypoint azureml.PipelineRun = azureml.pipeline.core.run:PipelineRun._from_dto with exception (urllib3 1.25.11 (/azureml-envs/azureml_cc96bffb210e59c36dafe3fe23d9a95e/lib/python3.7/site-packages), Requirement.parse('urllib3>=1.26.0'), {'docker'}).\nFailure while loading azureml_run_type_providers. Failed to load entrypoint azureml.PipelineRun = azureml.pipeline.core.run:PipelineRun._from_dto with exception (urllib3 1.25.11 (/azureml-envs/azureml_cc96bffb210e59c36dafe3fe23d9a95e/lib/python3.7/site-packages), Requirement.parse('urllib3>=1.26.0'), {'docker'}).\n2023-01-29 00:53:19,591 | azureml.core | WARNING | Failure while loading azureml_run_type_providers. Failed to load entrypoint azureml.ReusedStepRun = azureml.pipeline.core.run:StepRun._from_reused_dto with exception (urllib3 1.25.11 (/azureml-envs/azureml_cc96bffb210e59c36dafe3fe23d9a95e/lib/python3.7/site-packages), Requirement.parse('urllib3>=1.26.0'), {'docker'}).\nFailure while loading azureml_run_type_providers. Failed to load entrypoint azureml.ReusedStepRun = azureml.pipeline.core.run:StepRun._from_reused_dto with exception (urllib3 1.25.11 (/azureml-envs/azureml_cc96bffb210e59c36dafe3fe23d9a95e/lib/python3.7/site-packages), Requirement.parse('urllib3>=1.26.0'), {'docker'}).\n2023-01-29 00:53:19,604 | azureml.core | WARNING | Failure while loading azureml_run_type_providers. Failed to load entrypoint azureml.StepRun = azureml.pipeline.core.run:StepRun._from_dto with exception (urllib3 1.25.11 (/azureml-envs/azureml_cc96bffb210e59c36dafe3fe23d9a95e/lib/python3.7/site-packages), Requirement.parse('urllib3>=1.26.0'), {'docker'}).\nFailure while loading azureml_run_type_providers. Failed to load entrypoint azureml.StepRun = azureml.pipeline.core.run:StepRun._from_dto with exception (urllib3 1.25.11 (/azureml-envs/azureml_cc96bffb210e59c36dafe3fe23d9a95e/lib/python3.7/site-packages), Requirement.parse('urllib3>=1.26.0'), {'docker'}).\n2023-01-29 00:53:19,690 | azureml.core | WARNING | Failure while loading azureml_run_type_providers. Failed to load entrypoint automl = azureml.train.automl.run:AutoMLRun._from_run_dto with exception (urllib3 1.25.11 (/azureml-envs/azureml_cc96bffb210e59c36dafe3fe23d9a95e/lib/python3.7/site-packages), Requirement.parse('urllib3>=1.26.0'), {'docker'}).\nFailure while loading azureml_run_type_providers. Failed to load entrypoint automl = azureml.train.automl.run:AutoMLRun._from_run_dto with exception (urllib3 1.25.11 (/azureml-envs/azureml_cc96bffb210e59c36dafe3fe23d9a95e/lib/python3.7/site-packages), Requirement.parse('urllib3>=1.26.0'), {'docker'}).\n2023-01-29 00:53:19,707 | azureml.core | WARNING | Failure while loading azureml_run_type_providers. Failed to load entrypoint hyperdrive = azureml.train.hyperdrive:HyperDriveRun._from_run_dto with exception (urllib3 1.25.11 (/azureml-envs/azureml_cc96bffb210e59c36dafe3fe23d9a95e/lib/python3.7/site-packages), Requirement.parse('urllib3>=1.26.0'), {'docker'}).\nFailure while loading azureml_run_type_providers. Failed to load entrypoint hyperdrive = azureml.train.hyperdrive:HyperDriveRun._from_run_dto with exception (urllib3 1.25.11 (/azureml-envs/azureml_cc96bffb210e59c36dafe3fe23d9a95e/lib/python3.7/site-packages), Requirement.parse('urllib3>=1.26.0'), {'docker'}).\n2023-01-29 00:53:21,245 | root | INFO | Users's init has completed successfully\n2023-01-29 00:53:21,248 | root | INFO | Swaggers are prepared for the following versions: [2, 3].\n2023-01-29 00:53:21,248 | root | INFO | Scoring timeout is found from os.environ: 60000 ms\n2023-01-29 00:53:21,249 | root | INFO | AML_FLASK_ONE_COMPATIBILITY is set. Patched Flask to ensure compatibility with Flask 1.\n2023-01-29 00:53:21,264 | root | INFO | 200\n127.0.0.1 - - [29/Jan/2023:00:53:21 +0000] \"GET /swagger.json HTTP/1.0\" 200 3624 \"-\" \"Go-http-client/1.1\"\n2023-01-29 00:53:23,259 | root | INFO | 200\n127.0.0.1 - - [29/Jan/2023:00:53:23 +0000] \"GET /swagger.json HTTP/1.0\" 200 3624 \"-\" \"Go-http-client/1.1\"\n2023-01-29 00:53:37,609 | root | INFO | 200\n127.0.0.1 - - [29/Jan/2023:00:53:37 +0000] \"POST /score HTTP/1.0\" 200 19 \"-\" \"python-requests/2.28.1\"\n2023-01-29 00:53:37,703 | root | INFO | 200\n127.0.0.1 - - [29/Jan/2023:00:53:37 +0000] \"POST /score HTTP/1.0\" 200 19 \"-\" \"python-requests/2.28.1\"\n\n"
        }
      ],
      "execution_count": 28,
      "metadata": {
        "gather": {
          "logged": 1674953622065
        }
      }
    },
    {
      "cell_type": "markdown",
      "source": [
        "TODO: In the cell below, print the logs of the web service and delete the service"
      ],
      "metadata": {
        "collapsed": true,
        "gather": {
          "logged": 1598432765711
        },
        "jupyter": {
          "outputs_hidden": false,
          "source_hidden": false
        },
        "nteract": {
          "transient": {
            "deleting": false
          }
        }
      }
    },
    {
      "cell_type": "code",
      "source": [
        "service.delete()"
      ],
      "outputs": [],
      "execution_count": 25,
      "metadata": {
        "jupyter": {
          "outputs_hidden": false,
          "source_hidden": false
        },
        "nteract": {
          "transient": {
            "deleting": false
          }
        },
        "gather": {
          "logged": 1674952609088
        }
      }
    },
    {
      "cell_type": "markdown",
      "source": [
        "**Submission Checklist**\n",
        "- I have registered the model.\n",
        "- I have deployed the model with the best accuracy as a webservice.\n",
        "- I have tested the webservice by sending a request to the model endpoint.\n",
        "- I have deleted the webservice and shutdown all the computes that I have used.\n",
        "- I have taken a screenshot showing the model endpoint as active.\n",
        "- The project includes a file containing the environment details.\n"
      ],
      "metadata": {}
    },
    {
      "cell_type": "markdown",
      "source": [],
      "metadata": {}
    }
  ],
  "metadata": {
    "kernel_info": {
      "name": "python3"
    },
    "kernelspec": {
      "name": "python3",
      "language": "python",
      "display_name": "Python 3 (ipykernel)"
    },
    "language_info": {
      "name": "python",
      "version": "3.8.5",
      "mimetype": "text/x-python",
      "codemirror_mode": {
        "name": "ipython",
        "version": 3
      },
      "pygments_lexer": "ipython3",
      "nbconvert_exporter": "python",
      "file_extension": ".py"
    },
    "nteract": {
      "version": "nteract-front-end@1.0.0"
    },
    "vscode": {
      "interpreter": {
        "hash": "c51c08607ff8cd9207d91601d63430099d9812bcf1d743ac27aa576a2536f0ea"
      }
    },
    "microsoft": {
      "host": {
        "AzureML": {
          "notebookHasBeenCompleted": true
        }
      }
    }
  },
  "nbformat": 4,
  "nbformat_minor": 2
}